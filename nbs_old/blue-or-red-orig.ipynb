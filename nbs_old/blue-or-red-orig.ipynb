{
 "cells": [
  {
   "cell_type": "markdown",
   "metadata": {},
   "source": [
    "# Blue or Red"
   ]
  },
  {
   "cell_type": "markdown",
   "metadata": {},
   "source": [
    "The objective of this project is to create a Blue-or-Red (Democrat or Republican) classifier of tweets. This will be trained on approximately 650,000 tweets, downloaded from all members of Congress with a twitter handle. A latter phase of the project would be to see if the classifier could be extended to tweets in general (as opposed to just members of Congress)."
   ]
  },
  {
   "cell_type": "code",
   "execution_count": 96,
   "metadata": {},
   "outputs": [],
   "source": [
    "%reload_ext autoreload\n",
    "%autoreload 2\n",
    "%matplotlib inline"
   ]
  },
  {
   "cell_type": "code",
   "execution_count": 97,
   "metadata": {},
   "outputs": [],
   "source": [
    "from fastai.text import *"
   ]
  },
  {
   "cell_type": "code",
   "execution_count": 98,
   "metadata": {},
   "outputs": [],
   "source": [
    "sys.path.append(\"/home/cdaniels\")\n",
    "from ai_utilities import *"
   ]
  },
  {
   "cell_type": "markdown",
   "metadata": {},
   "source": [
    "## Gathering the data"
   ]
  },
  {
   "cell_type": "markdown",
   "metadata": {},
   "source": [
    "The list of twitter handles was obtained here: https://github.com/unitedstates/congress-legislators/. In particular, I used the csv format: https://theunitedstates.io/congress-legislators/legislators-current.csv I created a smaller csv file `legislators-with-twitter.csv `, which included the attributes of `twitter` and `party` for each member of congress."
   ]
  },
  {
   "cell_type": "markdown",
   "metadata": {},
   "source": [
    "There were several python modules for Twitter, I choose tweepy: http://www.tweepy.org. It seemed fairly broadly used and is actively developed."
   ]
  },
  {
   "cell_type": "markdown",
   "metadata": {},
   "source": [
    "In order to gather the tweets, I needed to set up a developer account with Twitter in order to use their api. This was free. (Setting this up is described here https://developer.twitter.com and in other on-line resources.) I then created an App for this project and obtained the following keys/tokens: `consumer_key`, `consumer_secret`, `access_token`, `access_token_secret`. These are required in order to use the Twitter api to access tweets. \n",
    "\n",
    "It should be noted that even with these developer keys, there are restrictions to downloading tweets, including throttling the downloads. (Be sure to set the `tweepy.API`parameters `wait_on_rate_limit=True` and `wait_on_rate_limit_notify=True`)"
   ]
  },
  {
   "cell_type": "markdown",
   "metadata": {},
   "source": [
    "The most time intensive part of the data preparation was downloading the tweets. Here is the code that I used, though I ran it as a script. It reads the `legislators-with-twitter.csv` file and downloads the last 100 pages of tweets for each member of congress. (A page is a Twitter construct containing roughly 20-25 tweets.) The tweets for each member of congress were saved to separate csv files. Each file contains these attributes: `handle`, `time`, `party` and `text`. Each of these file were saved in the `data` directory."
   ]
  },
  {
   "cell_type": "code",
   "execution_count": 4,
   "metadata": {},
   "outputs": [],
   "source": [
    "# usage: ipython tweets.py\n",
    "# C. Bryan Daniels\n",
    "\n",
    "# import tweepy, sys, csv\n",
    "# import pandas as pd\n",
    "# from pathlib import Path\n",
    "\n",
    "\n",
    "# auth = tweepy.OAuthHandler('consumer_key', 'consumer_secret')\n",
    "# auth.set_access_token('access_token', 'access_token_secret')\n",
    "\n",
    "# api = tweepy.API(auth, wait_on_rate_limit=True, wait_on_rate_limit_notify=True)\n",
    "\n",
    "# def tweets_to_csv(handle, party, pages=1, data_dir = 'data'):\n",
    "#        path = Path.cwd()/data_dir\n",
    "#        with open(f\"{path}/{handle}.csv\", 'w') as f:\n",
    "#            writer = csv.writer(f, delimiter=',', quotechar='\"', quoting=csv.QUOTE_MINIMAL)\n",
    "#            writer.writerow(['handle','time', 'party', 'text'])\n",
    "#            for p in range(pages):\n",
    "#                try:\n",
    "#                        tweets =[[t.created_at, t.text] for t in api.user_timeline(handle, page=p) if not     #                                  t.retweeted and ('RT @' not in t.text)]\n",
    "#                        for tw in tweets:\n",
    "#                            time, text = tw\n",
    "#                            writer.writerow([handle, time, party, text])\n",
    "#                except Exception:\n",
    "#                        continue\n",
    "#        print(f\"finished: {handle}.csv\")\n",
    "#        return len(tweets)\n",
    "#\n",
    "# if __name__ == '__main__':\n",
    "#        file = 'legislators-with-twitter.csv'\n",
    "#        pages = 100\n",
    "#        lg = pd.read_csv(file)\n",
    "#        for handle, party in lg[['twitter','party']].to_numpy():\n",
    "#                tweets_to_csv(handle, party, pages)"
   ]
  },
  {
   "cell_type": "code",
   "execution_count": 112,
   "metadata": {
    "scrolled": false
   },
   "outputs": [
    {
     "data": {
      "text/plain": [
       "[PosixPath('/home/cdaniels/projects/blue-or-red/data'),\n",
       " PosixPath('/home/cdaniels/projects/blue-or-red/blue-or-red-small.ipynb'),\n",
       " PosixPath('/home/cdaniels/projects/blue-or-red/data_tiny.csv'),\n",
       " PosixPath('/home/cdaniels/projects/blue-or-red/data_full_3'),\n",
       " PosixPath('/home/cdaniels/projects/blue-or-red/data_single'),\n",
       " PosixPath('/home/cdaniels/projects/blue-or-red/data_banks'),\n",
       " PosixPath('/home/cdaniels/projects/blue-or-red/house_ideology.csv'),\n",
       " PosixPath('/home/cdaniels/projects/blue-or-red/senate_ideology.csv'),\n",
       " PosixPath('/home/cdaniels/projects/blue-or-red/export.pkl'),\n",
       " PosixPath('/home/cdaniels/projects/blue-or-red/tweets_of.py'),\n",
       " PosixPath('/home/cdaniels/projects/blue-or-red/legislators-with-twitter.csv'),\n",
       " PosixPath('/home/cdaniels/projects/blue-or-red/ideology_scores.py'),\n",
       " PosixPath('/home/cdaniels/projects/blue-or-red/__pycache__'),\n",
       " PosixPath('/home/cdaniels/projects/blue-or-red/data_full.csv'),\n",
       " PosixPath('/home/cdaniels/projects/blue-or-red/data_lm_export.pkl'),\n",
       " PosixPath('/home/cdaniels/projects/blue-or-red/get_tweets_of.py'),\n",
       " PosixPath('/home/cdaniels/projects/blue-or-red/data_clas_export.pkl'),\n",
       " PosixPath('/home/cdaniels/projects/blue-or-red/data_full'),\n",
       " PosixPath('/home/cdaniels/projects/blue-or-red/blue-or-red.pkl'),\n",
       " PosixPath('/home/cdaniels/projects/blue-or-red/data_test'),\n",
       " PosixPath('/home/cdaniels/projects/blue-or-red/data_full_3.csv'),\n",
       " PosixPath('/home/cdaniels/projects/blue-or-red/README.txt'),\n",
       " PosixPath('/home/cdaniels/projects/blue-or-red/data_tiny'),\n",
       " PosixPath('/home/cdaniels/projects/blue-or-red/.ipynb_checkpoints'),\n",
       " PosixPath('/home/cdaniels/projects/blue-or-red/models'),\n",
       " PosixPath('/home/cdaniels/projects/blue-or-red/data_media.csv'),\n",
       " PosixPath('/home/cdaniels/projects/blue-or-red/data_media'),\n",
       " PosixPath('/home/cdaniels/projects/blue-or-red/blue-or-red.ipynb'),\n",
       " PosixPath('/home/cdaniels/projects/blue-or-red/data_full_2'),\n",
       " PosixPath('/home/cdaniels/projects/blue-or-red/data_banks.csv'),\n",
       " PosixPath('/home/cdaniels/projects/blue-or-red/data_full_2.csv'),\n",
       " PosixPath('/home/cdaniels/projects/blue-or-red/legislators-current.csv'),\n",
       " PosixPath('/home/cdaniels/projects/blue-or-red/data_full_1'),\n",
       " PosixPath('/home/cdaniels/projects/blue-or-red/ideology_score.py'),\n",
       " PosixPath('/home/cdaniels/projects/blue-or-red/legislators-with-twitter-tiny.csv')]"
      ]
     },
     "execution_count": 112,
     "metadata": {},
     "output_type": "execute_result"
    }
   ],
   "source": [
    "path = Path.cwd()\n",
    "path.ls()"
   ]
  },
  {
   "cell_type": "code",
   "execution_count": 113,
   "metadata": {},
   "outputs": [
    {
     "data": {
      "text/plain": [
       "[PosixPath('/home/cdaniels/projects/blue-or-red/data_full/RepMikeLevin.csv'),\n",
       " PosixPath('/home/cdaniels/projects/blue-or-red/data_full/RepSusieLee.csv'),\n",
       " PosixPath('/home/cdaniels/projects/blue-or-red/data_full/RepBillJohnson.csv'),\n",
       " PosixPath('/home/cdaniels/projects/blue-or-red/data_full/NitaLowey.csv'),\n",
       " PosixPath('/home/cdaniels/projects/blue-or-red/data_full/TXRandy14.csv')]"
      ]
     },
     "execution_count": 113,
     "metadata": {},
     "output_type": "execute_result"
    }
   ],
   "source": [
    "dpath = path/'data_full/'\n",
    "dpath.ls()[:5]"
   ]
  },
  {
   "cell_type": "code",
   "execution_count": 101,
   "metadata": {
    "scrolled": false
   },
   "outputs": [
    {
     "data": {
      "text/html": [
       "<div>\n",
       "<style scoped>\n",
       "    .dataframe tbody tr th:only-of-type {\n",
       "        vertical-align: middle;\n",
       "    }\n",
       "\n",
       "    .dataframe tbody tr th {\n",
       "        vertical-align: top;\n",
       "    }\n",
       "\n",
       "    .dataframe thead th {\n",
       "        text-align: right;\n",
       "    }\n",
       "</style>\n",
       "<table border=\"1\" class=\"dataframe\">\n",
       "  <thead>\n",
       "    <tr style=\"text-align: right;\">\n",
       "      <th></th>\n",
       "      <th>handle</th>\n",
       "      <th>time</th>\n",
       "      <th>party</th>\n",
       "      <th>text</th>\n",
       "    </tr>\n",
       "  </thead>\n",
       "  <tbody>\n",
       "    <tr>\n",
       "      <td>0</td>\n",
       "      <td>RepMikeLevin</td>\n",
       "      <td>2019-09-03 15:25:21</td>\n",
       "      <td>Democrat</td>\n",
       "      <td>My heart goes out to the victims of the boat f...</td>\n",
       "    </tr>\n",
       "    <tr>\n",
       "      <td>1</td>\n",
       "      <td>RepMikeLevin</td>\n",
       "      <td>2019-09-02 22:19:26</td>\n",
       "      <td>Democrat</td>\n",
       "      <td>Unions fought for the 40-hour workweek, safety...</td>\n",
       "    </tr>\n",
       "    <tr>\n",
       "      <td>2</td>\n",
       "      <td>RepMikeLevin</td>\n",
       "      <td>2019-08-29 20:31:15</td>\n",
       "      <td>Democrat</td>\n",
       "      <td>Local governments have already taken action to...</td>\n",
       "    </tr>\n",
       "    <tr>\n",
       "      <td>3</td>\n",
       "      <td>RepMikeLevin</td>\n",
       "      <td>2019-08-29 17:55:54</td>\n",
       "      <td>Democrat</td>\n",
       "      <td>Methane is one of the worst contributors to th...</td>\n",
       "    </tr>\n",
       "    <tr>\n",
       "      <td>4</td>\n",
       "      <td>RepMikeLevin</td>\n",
       "      <td>2019-08-28 22:10:01</td>\n",
       "      <td>Democrat</td>\n",
       "      <td>My mother’s parents immigrated from Mexico bec...</td>\n",
       "    </tr>\n",
       "  </tbody>\n",
       "</table>\n",
       "</div>"
      ],
      "text/plain": [
       "         handle                 time     party  \\\n",
       "0  RepMikeLevin  2019-09-03 15:25:21  Democrat   \n",
       "1  RepMikeLevin  2019-09-02 22:19:26  Democrat   \n",
       "2  RepMikeLevin  2019-08-29 20:31:15  Democrat   \n",
       "3  RepMikeLevin  2019-08-29 17:55:54  Democrat   \n",
       "4  RepMikeLevin  2019-08-28 22:10:01  Democrat   \n",
       "\n",
       "                                                text  \n",
       "0  My heart goes out to the victims of the boat f...  \n",
       "1  Unions fought for the 40-hour workweek, safety...  \n",
       "2  Local governments have already taken action to...  \n",
       "3  Methane is one of the worst contributors to th...  \n",
       "4  My mother’s parents immigrated from Mexico bec...  "
      ]
     },
     "execution_count": 101,
     "metadata": {},
     "output_type": "execute_result"
    }
   ],
   "source": [
    "pd.read_csv(dpath/dpath.ls()[0])[:5]"
   ]
  },
  {
   "cell_type": "markdown",
   "metadata": {},
   "source": [
    "## Preparing the data"
   ]
  },
  {
   "cell_type": "markdown",
   "metadata": {},
   "source": [
    "The csv files for each member of Congress must be prepared in a format suitable for language training purposes. This includes creating training, validation and testing sets. These will all be in pandas dataframes. "
   ]
  },
  {
   "cell_type": "markdown",
   "metadata": {},
   "source": [
    "Create a list of dataframes from the csv files, concatenate and randomize them."
   ]
  },
  {
   "cell_type": "code",
   "execution_count": 114,
   "metadata": {
    "scrolled": false
   },
   "outputs": [
    {
     "data": {
      "text/html": [
       "<div>\n",
       "<style scoped>\n",
       "    .dataframe tbody tr th:only-of-type {\n",
       "        vertical-align: middle;\n",
       "    }\n",
       "\n",
       "    .dataframe tbody tr th {\n",
       "        vertical-align: top;\n",
       "    }\n",
       "\n",
       "    .dataframe thead th {\n",
       "        text-align: right;\n",
       "    }\n",
       "</style>\n",
       "<table border=\"1\" class=\"dataframe\">\n",
       "  <thead>\n",
       "    <tr style=\"text-align: right;\">\n",
       "      <th></th>\n",
       "      <th>handle</th>\n",
       "      <th>party</th>\n",
       "      <th>text</th>\n",
       "    </tr>\n",
       "  </thead>\n",
       "  <tbody>\n",
       "    <tr>\n",
       "      <td>189102</td>\n",
       "      <td>RepAndyHarrisMD</td>\n",
       "      <td>Republican</td>\n",
       "      <td>Today I had the pleasure of meeting students f...</td>\n",
       "    </tr>\n",
       "    <tr>\n",
       "      <td>84867</td>\n",
       "      <td>RepSpanberger</td>\n",
       "      <td>Democrat</td>\n",
       "      <td>Childhood #hunger remains a challenge in our #...</td>\n",
       "    </tr>\n",
       "    <tr>\n",
       "      <td>368730</td>\n",
       "      <td>RepDennyHeck</td>\n",
       "      <td>Democrat</td>\n",
       "      <td>More than 200 military veterans sign letter op...</td>\n",
       "    </tr>\n",
       "    <tr>\n",
       "      <td>244318</td>\n",
       "      <td>MarshaBlackburn</td>\n",
       "      <td>Republican</td>\n",
       "      <td>We’ve got a busy day ahead of us on Capitol Hi...</td>\n",
       "    </tr>\n",
       "    <tr>\n",
       "      <td>192900</td>\n",
       "      <td>RepLloydDoggett</td>\n",
       "      <td>Democrat</td>\n",
       "      <td>Had the opportunity to visit with @News4SA rep...</td>\n",
       "    </tr>\n",
       "    <tr>\n",
       "      <td>...</td>\n",
       "      <td>...</td>\n",
       "      <td>...</td>\n",
       "      <td>...</td>\n",
       "    </tr>\n",
       "    <tr>\n",
       "      <td>259178</td>\n",
       "      <td>RepDMP</td>\n",
       "      <td>Democrat</td>\n",
       "      <td>As chair of the @HispanicCaucus Women’s Taskfo...</td>\n",
       "    </tr>\n",
       "    <tr>\n",
       "      <td>365838</td>\n",
       "      <td>RepChrisStewart</td>\n",
       "      <td>Republican</td>\n",
       "      <td>Utah's Honor Flight at the WWII Memorial this ...</td>\n",
       "    </tr>\n",
       "    <tr>\n",
       "      <td>131932</td>\n",
       "      <td>SenatorRisch</td>\n",
       "      <td>Republican</td>\n",
       "      <td>Interviewed by Townhall-thanks! MT @obrienc2 C...</td>\n",
       "    </tr>\n",
       "    <tr>\n",
       "      <td>671155</td>\n",
       "      <td>SpeakerPelosi</td>\n",
       "      <td>Democrat</td>\n",
       "      <td>.@realDonaldTrump is letting Big Pharma walk a...</td>\n",
       "    </tr>\n",
       "    <tr>\n",
       "      <td>121958</td>\n",
       "      <td>SenatorCollins</td>\n",
       "      <td>Republican</td>\n",
       "      <td>I am honored to congratulate Maj Lisa Jastor o...</td>\n",
       "    </tr>\n",
       "  </tbody>\n",
       "</table>\n",
       "<p>690322 rows × 3 columns</p>\n",
       "</div>"
      ],
      "text/plain": [
       "                 handle       party  \\\n",
       "189102  RepAndyHarrisMD  Republican   \n",
       "84867     RepSpanberger    Democrat   \n",
       "368730     RepDennyHeck    Democrat   \n",
       "244318  MarshaBlackburn  Republican   \n",
       "192900  RepLloydDoggett    Democrat   \n",
       "...                 ...         ...   \n",
       "259178           RepDMP    Democrat   \n",
       "365838  RepChrisStewart  Republican   \n",
       "131932     SenatorRisch  Republican   \n",
       "671155    SpeakerPelosi    Democrat   \n",
       "121958   SenatorCollins  Republican   \n",
       "\n",
       "                                                     text  \n",
       "189102  Today I had the pleasure of meeting students f...  \n",
       "84867   Childhood #hunger remains a challenge in our #...  \n",
       "368730  More than 200 military veterans sign letter op...  \n",
       "244318  We’ve got a busy day ahead of us on Capitol Hi...  \n",
       "192900  Had the opportunity to visit with @News4SA rep...  \n",
       "...                                                   ...  \n",
       "259178  As chair of the @HispanicCaucus Women’s Taskfo...  \n",
       "365838  Utah's Honor Flight at the WWII Memorial this ...  \n",
       "131932  Interviewed by Townhall-thanks! MT @obrienc2 C...  \n",
       "671155  .@realDonaldTrump is letting Big Pharma walk a...  \n",
       "121958  I am honored to congratulate Maj Lisa Jastor o...  \n",
       "\n",
       "[690322 rows x 3 columns]"
      ]
     },
     "execution_count": 114,
     "metadata": {},
     "output_type": "execute_result"
    }
   ],
   "source": [
    "df = [pd.read_csv(p, encoding = 'utf8')[['handle','party', 'text']] for p in dpath.ls()]\n",
    "df = pd.concat(df, ignore_index=True)\n",
    "df = df.iloc[np.random.permutation(len(df))]; df"
   ]
  },
  {
   "cell_type": "code",
   "execution_count": 9,
   "metadata": {},
   "outputs": [
    {
     "data": {
      "text/plain": [
       "array([592975, 632311,  94081, 174791, ...,  71700, 318603, 112964, 315317])"
      ]
     },
     "execution_count": 9,
     "metadata": {},
     "output_type": "execute_result"
    }
   ],
   "source": [
    "df.index.to_numpy()"
   ]
  },
  {
   "cell_type": "markdown",
   "metadata": {},
   "source": [
    "Create training, validation and testing data. After creating the testing data, don't change this."
   ]
  },
  {
   "cell_type": "code",
   "execution_count": 10,
   "metadata": {},
   "outputs": [],
   "source": [
    "def partition_idx(df, ptr=.6, pvl=.2, pts=.2):\n",
    "    \"Enter df. Returns indexes for training, validation and testing\"\n",
    "    idx = df.index.to_numpy()\n",
    "    N = len(idx)\n",
    "    itr = [0, int(ptr*N)]\n",
    "    ivl = [itr[1]+ 1, itr[1]+ 1 + int(pvl*N)]\n",
    "    its = [ivl[1]+ 1, N-1]\n",
    "    return idx[itr[0]:itr[1]], idx[ivl[0]:ivl[1]], idx[its[0]:its[1]]"
   ]
  },
  {
   "cell_type": "code",
   "execution_count": 11,
   "metadata": {
    "scrolled": true
   },
   "outputs": [],
   "source": [
    "idx_tr, idx_vl, idx_ts = partition_idx(df, ptr=.85, pvl = .05, pts = .10)"
   ]
  },
  {
   "cell_type": "code",
   "execution_count": 12,
   "metadata": {
    "scrolled": false
   },
   "outputs": [],
   "source": [
    "tr_df = df.iloc[idx_tr,:]\n",
    "vl_df = df.iloc[idx_vl,:]\n",
    "ts_df = df.iloc[idx_ts,:]"
   ]
  },
  {
   "cell_type": "markdown",
   "metadata": {},
   "source": [
    "NEXT TIME BE SURE TO SAVE THESE df's to csv . . ."
   ]
  },
  {
   "cell_type": "markdown",
   "metadata": {},
   "source": [
    "### Text Language Bunch"
   ]
  },
  {
   "cell_type": "code",
   "execution_count": 13,
   "metadata": {},
   "outputs": [],
   "source": [
    "data_lm = TextLMDataBunch.from_df(path, train_df=tr_df, valid_df=vl_df, text_cols='text', bs=256)"
   ]
  },
  {
   "cell_type": "code",
   "execution_count": 14,
   "metadata": {
    "scrolled": false
   },
   "outputs": [
    {
     "data": {
      "text/html": [
       "<table border=\"1\" class=\"dataframe\">\n",
       "  <thead>\n",
       "    <tr style=\"text-align: right;\">\n",
       "      <th>idx</th>\n",
       "      <th>text</th>\n",
       "    </tr>\n",
       "  </thead>\n",
       "  <tbody>\n",
       "    <tr>\n",
       "      <td>0</td>\n",
       "      <td>stay up at nigh … https : / / t.co / xxunk xxbos xxmaj congratulations to xxunk for winning in its population category and receiving a special award of \" xxmaj xxunk … https : / / t.co / xxunk xxbos xxmaj great to meet with my xxmaj veterans xxmaj advisory xxmaj board today in xxmaj beardstown at xxup vfw xxmaj post xxunk . xxmaj great feedback from our heroes</td>\n",
       "    </tr>\n",
       "    <tr>\n",
       "      <td>1</td>\n",
       "      <td>xxbos xxmaj yesterday i spoke in xxmaj fort xxmaj worth on the daily aircraft flyovers between # xxup dfw until # superbowl xxmaj sunday . xxmaj see photos at http : / / on.fb.me / xxunk xxbos a sad state of affairs in the xxmaj senate . xxmaj another reason to scrap this harmful bill that cuts care from millions . https : / / t.co / xxunk xxbos xxup</td>\n",
       "    </tr>\n",
       "    <tr>\n",
       "      <td>2</td>\n",
       "      <td>patrol today in xxmaj washington as part of their legislative da … https : / / t.co / xxunk xxbos xxmaj recently i cosponsored a resolution to recognize this week as # smallbusinessweek . xxmaj america ’s small businesses make u … https : / / t.co / xxunk xxbos xxmaj one of our interns highlighted all the women representatives in the xxmaj congressional xxmaj directory . xxmaj happy xxmaj</td>\n",
       "    </tr>\n",
       "    <tr>\n",
       "      <td>3</td>\n",
       "      <td>is on their hands . xxmaj when will we learn there is a better way ? xxbos xxmaj amen , @sierraclub https : / / t.co / xxunk xxbos \" a new era is about to dawn at mcconnell xxmaj air xxmaj force xxmaj base in xxmaj wichita . \" xxmaj read more about how xxup kc-46 tankers will impact … https : / / t.co / xxunk xxbos xxmaj</td>\n",
       "    </tr>\n",
       "    <tr>\n",
       "      <td>4</td>\n",
       "      <td>. \\n \\n  xxmaj the people deserve an … https : / / t.co / xxunk xxbos xxmaj open enrollment for health insurance in 2019 kicks off this xxmaj thursday , xxmaj november 1st . xxmaj head to https : / / t.co / xxunk … https : / / t.co / xxunk xxbos i ’m demanding answers from @realdonaldtrump about the killing of xxmaj claudia xxmaj patricia xxmaj</td>\n",
       "    </tr>\n",
       "  </tbody>\n",
       "</table>"
      ],
      "text/plain": [
       "<IPython.core.display.HTML object>"
      ]
     },
     "metadata": {},
     "output_type": "display_data"
    }
   ],
   "source": [
    "data_lm.show_batch()"
   ]
  },
  {
   "cell_type": "code",
   "execution_count": 15,
   "metadata": {},
   "outputs": [],
   "source": [
    "data_lm.save('data_lm_export.pkl')"
   ]
  },
  {
   "cell_type": "markdown",
   "metadata": {},
   "source": [
    "### Test Classifier Bunch"
   ]
  },
  {
   "cell_type": "code",
   "execution_count": 16,
   "metadata": {},
   "outputs": [],
   "source": [
    "data_clas = TextClasDataBunch.from_df(path, train_df=tr_df, valid_df=vl_df, test_df=ts_df, text_cols='text',label_cols='party', vocab=data_lm.vocab, bs=256)"
   ]
  },
  {
   "cell_type": "code",
   "execution_count": 17,
   "metadata": {},
   "outputs": [],
   "source": [
    "data_clas.save('data_clas_export.pkl')"
   ]
  },
  {
   "cell_type": "code",
   "execution_count": 18,
   "metadata": {
    "scrolled": false
   },
   "outputs": [
    {
     "data": {
      "text/html": [
       "<table border=\"1\" class=\"dataframe\">\n",
       "  <thead>\n",
       "    <tr style=\"text-align: right;\">\n",
       "      <th>text</th>\n",
       "      <th>target</th>\n",
       "    </tr>\n",
       "  </thead>\n",
       "  <tbody>\n",
       "    <tr>\n",
       "      <td>xxbos 👏 🏽 👏 🏽 👏 🏽 👏 🏽 👏 🏽 👏 🏽 👏 🏽 👏 🏽 👏 🏽 👏 🏽 👏 🏽 👏 🏽 \\n  👏 xxup xxunk 👏 🏽 👏 🏽 👏 🏽 👏 🏽 👏 🏽 👏 🏽 👏 🏽 👏 🏽 \\n  👏 🏽 👏 🏽 👏 xxup xxunk 👏 🏽 👏 🏽 👏 🏽 👏 🏽 👏 🏽 \\n  👏 🏽 👏</td>\n",
       "      <td>Democrat</td>\n",
       "    </tr>\n",
       "    <tr>\n",
       "      <td>xxbos xxmaj top 15 xxmaj best # xxmaj congressional xxmaj districts : \\n  15 . xxmaj it \\n  14 . xxmaj is \\n  13 . xxmaj truly \\n  12 . xxmaj impossible \\n  11 . xxmaj to \\n  10 . xxmaj rank \\n  9 . xxmaj them \\n  8 . xxmaj they \\n  7 . a … https : / /</td>\n",
       "      <td>Republican</td>\n",
       "    </tr>\n",
       "    <tr>\n",
       "      <td>xxbos xxmaj hannibal \\n  906 xxmaj broadway \\n  xxup po xxmaj box 364 \\n  xxmaj hannibal , xxup mo xxunk \\n  xxmaj phone : ( 573 ) 221 - 3400 \\n \\n  xxmaj washington , xxup d.c. \\n  xxunk xxmaj longworth xxup hob \\n  xxmaj wash … https : / / t.co / xxunk</td>\n",
       "      <td>Republican</td>\n",
       "    </tr>\n",
       "    <tr>\n",
       "      <td>xxbos ( cont . ) , xxmaj expert xxmaj badge with xxmaj machine xxmaj gun xxmaj bar , and xxmaj marksman xxmaj badge with xxmaj rifle xxmaj bar \\n  • xxmaj giovanni ( xxmaj john ) xxmaj xxunk ( xxmaj navy ) : xxmaj nat … https : / / t.co / xxunk</td>\n",
       "      <td>Republican</td>\n",
       "    </tr>\n",
       "    <tr>\n",
       "      <td>xxbos * * * xxmaj community xxmaj office xxmaj hours : xxmaj meet with our staff * * * \\n \\n  xxunk ️ xxmaj meet w / members of my staff \\n  🗓 ️ xxmaj today ! ( xxmaj tuesday , xxmaj april 16th ) … https : / / t.co / xxunk</td>\n",
       "      <td>Republican</td>\n",
       "    </tr>\n",
       "  </tbody>\n",
       "</table>"
      ],
      "text/plain": [
       "<IPython.core.display.HTML object>"
      ]
     },
     "metadata": {},
     "output_type": "display_data"
    }
   ],
   "source": [
    "data_clas.show_batch()"
   ]
  },
  {
   "cell_type": "markdown",
   "metadata": {},
   "source": [
    "## Language model"
   ]
  },
  {
   "cell_type": "code",
   "execution_count": 19,
   "metadata": {},
   "outputs": [],
   "source": [
    "learn_lm = language_model_learner(data_lm, AWD_LSTM, drop_mult=.5, callback_fns=[ShowGraph])"
   ]
  },
  {
   "cell_type": "code",
   "execution_count": 20,
   "metadata": {
    "scrolled": true
   },
   "outputs": [
    {
     "data": {
      "text/html": [],
      "text/plain": [
       "<IPython.core.display.HTML object>"
      ]
     },
     "metadata": {},
     "output_type": "display_data"
    },
    {
     "name": "stdout",
     "output_type": "stream",
     "text": [
      "LR Finder is complete, type {learner_name}.recorder.plot() to see the graph.\n",
      "Min numerical gradient: 6.92E-02\n",
      "Min loss divided by 10: 5.25E-02\n"
     ]
    },
    {
     "data": {
      "image/png": "[encoded data removed]",
      "text/plain": [
       "<Figure size 432x288 with 1 Axes>"
      ]
     },
     "metadata": {
      "needs_background": "light"
     },
     "output_type": "display_data"
    }
   ],
   "source": [
    "learn_lm.lr_find(); learn_lm.recorder.plot(skip_end=15, suggestion=True)"
   ]
  },
  {
   "cell_type": "code",
   "execution_count": 21,
   "metadata": {
    "scrolled": false
   },
   "outputs": [
    {
     "data": {
      "text/html": [
       "<table border=\"1\" class=\"dataframe\">\n",
       "  <thead>\n",
       "    <tr style=\"text-align: left;\">\n",
       "      <th>epoch</th>\n",
       "      <th>train_loss</th>\n",
       "      <th>valid_loss</th>\n",
       "      <th>accuracy</th>\n",
       "      <th>time</th>\n",
       "    </tr>\n",
       "  </thead>\n",
       "  <tbody>\n",
       "    <tr>\n",
       "      <td>0</td>\n",
       "      <td>3.091588</td>\n",
       "      <td>2.882087</td>\n",
       "      <td>0.484469</td>\n",
       "      <td>08:33</td>\n",
       "    </tr>\n",
       "  </tbody>\n",
       "</table>"
      ],
      "text/plain": [
       "<IPython.core.display.HTML object>"
      ]
     },
     "metadata": {},
     "output_type": "display_data"
    },
    {
     "data": {
      "image/png": "[encoded data removed]",
      "text/plain": [
       "<Figure size 432x288 with 1 Axes>"
      ]
     },
     "metadata": {},
     "output_type": "display_data"
    }
   ],
   "source": [
    "learn_lm.fit_one_cycle(1, 5e-2)"
   ]
  },
  {
   "cell_type": "code",
   "execution_count": 22,
   "metadata": {
    "scrolled": true
   },
   "outputs": [
    {
     "data": {
      "text/html": [
       "<table border=\"1\" class=\"dataframe\">\n",
       "  <thead>\n",
       "    <tr style=\"text-align: left;\">\n",
       "      <th>epoch</th>\n",
       "      <th>train_loss</th>\n",
       "      <th>valid_loss</th>\n",
       "      <th>accuracy</th>\n",
       "      <th>time</th>\n",
       "    </tr>\n",
       "  </thead>\n",
       "  <tbody>\n",
       "    <tr>\n",
       "      <td>0</td>\n",
       "      <td>2.717507</td>\n",
       "      <td>2.634345</td>\n",
       "      <td>0.510444</td>\n",
       "      <td>09:43</td>\n",
       "    </tr>\n",
       "    <tr>\n",
       "      <td>1</td>\n",
       "      <td>2.587643</td>\n",
       "      <td>2.535841</td>\n",
       "      <td>0.522484</td>\n",
       "      <td>09:43</td>\n",
       "    </tr>\n",
       "    <tr>\n",
       "      <td>2</td>\n",
       "      <td>2.516827</td>\n",
       "      <td>2.510963</td>\n",
       "      <td>0.525960</td>\n",
       "      <td>09:44</td>\n",
       "    </tr>\n",
       "  </tbody>\n",
       "</table>"
      ],
      "text/plain": [
       "<IPython.core.display.HTML object>"
      ]
     },
     "metadata": {},
     "output_type": "display_data"
    },
    {
     "data": {
      "image/png": "[encoded data removed]",
      "text/plain": [
       "<Figure size 432x288 with 1 Axes>"
      ]
     },
     "metadata": {},
     "output_type": "display_data"
    }
   ],
   "source": [
    "learn_lm.unfreeze()\n",
    "learn_lm.fit_one_cycle(3, 1e-3)"
   ]
  },
  {
   "cell_type": "markdown",
   "metadata": {},
   "source": [
    "Accuracy of 52.6% on the language looks pretty good."
   ]
  },
  {
   "cell_type": "code",
   "execution_count": 23,
   "metadata": {},
   "outputs": [],
   "source": [
    "learn_lm.save('lm_fine_tuned')"
   ]
  },
  {
   "cell_type": "markdown",
   "metadata": {},
   "source": [
    "### Save Language Model Encoder"
   ]
  },
  {
   "cell_type": "code",
   "execution_count": 24,
   "metadata": {},
   "outputs": [],
   "source": [
    "learn_lm.save_encoder('lm_ft_enc')"
   ]
  },
  {
   "cell_type": "markdown",
   "metadata": {},
   "source": [
    "How good is our model? Well let's try to see what it predicts after a few given words."
   ]
  },
  {
   "cell_type": "code",
   "execution_count": 25,
   "metadata": {
    "scrolled": true
   },
   "outputs": [],
   "source": [
    "learn_lm.load('lm_fine_tuned');"
   ]
  },
  {
   "cell_type": "code",
   "execution_count": 26,
   "metadata": {
    "scrolled": true
   },
   "outputs": [
    {
     "data": {
      "text/plain": [
       "'Are you dumb or biased ? You ca n’t help , but it ’s not too late . If you ’re in the United States , it ’s clear you … https : / / t.co / DM xxbos Thanks to Bloomfield County Sheriff Jim Lawson for your quick action to protect Michiganders from the # opioidcrisis . https : / / t.co /'"
      ]
     },
     "execution_count": 26,
     "metadata": {},
     "output_type": "execute_result"
    }
   ],
   "source": [
    "learn_lm.predict(\"Are you dumb\", n_words=75, temperature=.7)"
   ]
  },
  {
   "cell_type": "code",
   "execution_count": 27,
   "metadata": {
    "scrolled": false
   },
   "outputs": [
    {
     "data": {
      "text/plain": [
       "'We are thrilled to hear Delaware County ’s Senior Whip , Jake Oaks , is headed to Capitol Hill for the Different Chambers … https : / / t.co / T xxbos What a wonderful weekend happy to join @senrickscott , @repsusandavis , @repdianadegette , and @sentedcruz to recognize the Thin … https : / / t.co / XXBOS Thank you to the'"
      ]
     },
     "execution_count": 27,
     "metadata": {},
     "output_type": "execute_result"
    }
   ],
   "source": [
    "learn_lm.predict(\"We are thrilled\", n_words=75, temperature=.9)"
   ]
  },
  {
   "cell_type": "code",
   "execution_count": 28,
   "metadata": {
    "scrolled": true
   },
   "outputs": [
    {
     "data": {
      "text/plain": [
       "'Hey, stupid ! Go Green ! https : / / t.co / GB xxbos The # EPA is working to restore the air we breathe ! The EPA needs to hold Pruitt accountable for his unethical syst … https : / / t.co / K xxbos We know for too long that we can get things done for America . The House passed'"
      ]
     },
     "execution_count": 28,
     "metadata": {},
     "output_type": "execute_result"
    }
   ],
   "source": [
    "learn_lm.predict(\"Hey, stupid\", n_words=75, temperature=.7)"
   ]
  },
  {
   "cell_type": "markdown",
   "metadata": {},
   "source": [
    "## Classifier"
   ]
  },
  {
   "cell_type": "code",
   "execution_count": 29,
   "metadata": {},
   "outputs": [],
   "source": [
    "data_clas = load_data(path,'data_clas_export.pkl')"
   ]
  },
  {
   "cell_type": "code",
   "execution_count": 30,
   "metadata": {},
   "outputs": [],
   "source": [
    "learn = text_classifier_learner(data_clas, AWD_LSTM, drop_mult=.75, callback_fns=[ShowGraph])\n",
    "learn.load_encoder('lm_ft_enc');"
   ]
  },
  {
   "cell_type": "code",
   "execution_count": 31,
   "metadata": {},
   "outputs": [
    {
     "data": {
      "text/html": [],
      "text/plain": [
       "<IPython.core.display.HTML object>"
      ]
     },
     "metadata": {},
     "output_type": "display_data"
    },
    {
     "name": "stdout",
     "output_type": "stream",
     "text": [
      "LR Finder is complete, type {learner_name}.recorder.plot() to see the graph.\n",
      "Min numerical gradient: 1.91E-04\n",
      "Min loss divided by 10: 1.45E-02\n"
     ]
    },
    {
     "data": {
      "image/png": "[encoded data removed]",
      "text/plain": [
       "<Figure size 432x288 with 1 Axes>"
      ]
     },
     "metadata": {
      "needs_background": "light"
     },
     "output_type": "display_data"
    }
   ],
   "source": [
    "learn.lr_find(); learn.recorder.plot(suggestion=True, skip_start=15, skip_end=15)"
   ]
  },
  {
   "cell_type": "code",
   "execution_count": 32,
   "metadata": {
    "scrolled": false
   },
   "outputs": [
    {
     "data": {
      "text/html": [
       "\n",
       "    <div>\n",
       "        <style>\n",
       "            /* Turns off some styling */\n",
       "            progress {\n",
       "                /* gets rid of default border in Firefox and Opera. */\n",
       "                border: none;\n",
       "                /* Needs to be in here for Safari polyfill so background images work as expected. */\n",
       "                background-size: auto;\n",
       "            }\n",
       "            .progress-bar-interrupted, .progress-bar-interrupted::-webkit-progress-bar {\n",
       "                background: #F44336;\n",
       "            }\n",
       "        </style>\n",
       "      <progress value='1' class='' max='2', style='width:300px; height:20px; vertical-align: middle;'></progress>\n",
       "      50.00% [1/2 03:21<03:21]\n",
       "    </div>\n",
       "    \n",
       "<table border=\"1\" class=\"dataframe\">\n",
       "  <thead>\n",
       "    <tr style=\"text-align: left;\">\n",
       "      <th>epoch</th>\n",
       "      <th>train_loss</th>\n",
       "      <th>valid_loss</th>\n",
       "      <th>accuracy</th>\n",
       "      <th>time</th>\n",
       "    </tr>\n",
       "  </thead>\n",
       "  <tbody>\n",
       "    <tr>\n",
       "      <td>0</td>\n",
       "      <td>0.616818</td>\n",
       "      <td>0.577523</td>\n",
       "      <td>0.688058</td>\n",
       "      <td>03:21</td>\n",
       "    </tr>\n",
       "  </tbody>\n",
       "</table><p>\n",
       "\n",
       "    <div>\n",
       "        <style>\n",
       "            /* Turns off some styling */\n",
       "            progress {\n",
       "                /* gets rid of default border in Firefox and Opera. */\n",
       "                border: none;\n",
       "                /* Needs to be in here for Safari polyfill so background images work as expected. */\n",
       "                background-size: auto;\n",
       "            }\n",
       "            .progress-bar-interrupted, .progress-bar-interrupted::-webkit-progress-bar {\n",
       "                background: #F44336;\n",
       "            }\n",
       "        </style>\n",
       "      <progress value='4966' class='' max='9168', style='width:300px; height:20px; vertical-align: middle;'></progress>\n",
       "      54.17% [4966/9168 01:54<01:36 0.6039]\n",
       "    </div>\n",
       "    "
      ],
      "text/plain": [
       "<IPython.core.display.HTML object>"
      ]
     },
     "metadata": {},
     "output_type": "display_data"
    },
    {
     "data": {
      "image/png": "[encoded data removed]",
      "text/plain": [
       "<Figure size 432x288 with 1 Axes>"
      ]
     },
     "metadata": {},
     "output_type": "display_data"
    },
    {
     "name": "stderr",
     "output_type": "stream",
     "text": [
      "IOPub message rate exceeded.\n",
      "The notebook server will temporarily stop sending output\n",
      "to the client in order to avoid crashing it.\n",
      "To change this limit, set the config variable\n",
      "`--NotebookApp.iopub_msg_rate_limit`.\n",
      "\n",
      "Current values:\n",
      "NotebookApp.iopub_msg_rate_limit=1000.0 (msgs/sec)\n",
      "NotebookApp.rate_limit_window=3.0 (secs)\n",
      "\n"
     ]
    }
   ],
   "source": [
    "learn.fit_one_cycle(2, 2e-2)"
   ]
  },
  {
   "cell_type": "code",
   "execution_count": 33,
   "metadata": {},
   "outputs": [],
   "source": [
    "learn.save('clas_first')"
   ]
  },
  {
   "cell_type": "code",
   "execution_count": 34,
   "metadata": {},
   "outputs": [],
   "source": [
    "learn.load('clas_first');"
   ]
  },
  {
   "cell_type": "code",
   "execution_count": 35,
   "metadata": {
    "scrolled": false
   },
   "outputs": [
    {
     "data": {
      "text/html": [
       "<table border=\"1\" class=\"dataframe\">\n",
       "  <thead>\n",
       "    <tr style=\"text-align: left;\">\n",
       "      <th>epoch</th>\n",
       "      <th>train_loss</th>\n",
       "      <th>valid_loss</th>\n",
       "      <th>accuracy</th>\n",
       "      <th>time</th>\n",
       "    </tr>\n",
       "  </thead>\n",
       "  <tbody>\n",
       "    <tr>\n",
       "      <td>0</td>\n",
       "      <td>0.549465</td>\n",
       "      <td>0.497921</td>\n",
       "      <td>0.743655</td>\n",
       "      <td>03:55</td>\n",
       "    </tr>\n",
       "    <tr>\n",
       "      <td>1</td>\n",
       "      <td>0.516232</td>\n",
       "      <td>0.478042</td>\n",
       "      <td>0.761096</td>\n",
       "      <td>03:58</td>\n",
       "    </tr>\n",
       "    <tr>\n",
       "      <td>2</td>\n",
       "      <td>0.504914</td>\n",
       "      <td>0.453791</td>\n",
       "      <td>0.774568</td>\n",
       "      <td>03:49</td>\n",
       "    </tr>\n",
       "    <tr>\n",
       "      <td>3</td>\n",
       "      <td>0.482227</td>\n",
       "      <td>0.433000</td>\n",
       "      <td>0.786302</td>\n",
       "      <td>03:52</td>\n",
       "    </tr>\n",
       "    <tr>\n",
       "      <td>4</td>\n",
       "      <td>0.473690</td>\n",
       "      <td>0.428249</td>\n",
       "      <td>0.789141</td>\n",
       "      <td>03:50</td>\n",
       "    </tr>\n",
       "  </tbody>\n",
       "</table>"
      ],
      "text/plain": [
       "<IPython.core.display.HTML object>"
      ]
     },
     "metadata": {},
     "output_type": "display_data"
    },
    {
     "data": {
      "image/png": "[encoded data removed]",
      "text/plain": [
       "<Figure size 432x288 with 1 Axes>"
      ]
     },
     "metadata": {},
     "output_type": "display_data"
    }
   ],
   "source": [
    "learn.freeze_to(-2)\n",
    "learn.fit_one_cycle(5, slice(5e-4,1e-2))"
   ]
  },
  {
   "cell_type": "code",
   "execution_count": 36,
   "metadata": {},
   "outputs": [],
   "source": [
    "learn.save('clas_second')"
   ]
  },
  {
   "cell_type": "code",
   "execution_count": 37,
   "metadata": {},
   "outputs": [],
   "source": [
    "learn.load('clas_second');"
   ]
  },
  {
   "cell_type": "code",
   "execution_count": 38,
   "metadata": {
    "scrolled": false
   },
   "outputs": [
    {
     "data": {
      "text/html": [
       "<table border=\"1\" class=\"dataframe\">\n",
       "  <thead>\n",
       "    <tr style=\"text-align: left;\">\n",
       "      <th>epoch</th>\n",
       "      <th>train_loss</th>\n",
       "      <th>valid_loss</th>\n",
       "      <th>accuracy</th>\n",
       "      <th>time</th>\n",
       "    </tr>\n",
       "  </thead>\n",
       "  <tbody>\n",
       "    <tr>\n",
       "      <td>0</td>\n",
       "      <td>0.482465</td>\n",
       "      <td>0.434172</td>\n",
       "      <td>0.781261</td>\n",
       "      <td>05:28</td>\n",
       "    </tr>\n",
       "    <tr>\n",
       "      <td>1</td>\n",
       "      <td>0.477079</td>\n",
       "      <td>0.473996</td>\n",
       "      <td>0.785462</td>\n",
       "      <td>05:36</td>\n",
       "    </tr>\n",
       "    <tr>\n",
       "      <td>2</td>\n",
       "      <td>0.462569</td>\n",
       "      <td>0.402613</td>\n",
       "      <td>0.802932</td>\n",
       "      <td>05:34</td>\n",
       "    </tr>\n",
       "    <tr>\n",
       "      <td>3</td>\n",
       "      <td>0.421238</td>\n",
       "      <td>0.383531</td>\n",
       "      <td>0.810378</td>\n",
       "      <td>05:41</td>\n",
       "    </tr>\n",
       "    <tr>\n",
       "      <td>4</td>\n",
       "      <td>0.402020</td>\n",
       "      <td>0.378288</td>\n",
       "      <td>0.814926</td>\n",
       "      <td>05:31</td>\n",
       "    </tr>\n",
       "  </tbody>\n",
       "</table>"
      ],
      "text/plain": [
       "<IPython.core.display.HTML object>"
      ]
     },
     "metadata": {},
     "output_type": "display_data"
    },
    {
     "data": {
      "image/png": "[encoded data removed]",
      "text/plain": [
       "<Figure size 432x288 with 1 Axes>"
      ]
     },
     "metadata": {},
     "output_type": "display_data"
    },
    {
     "name": "stderr",
     "output_type": "stream",
     "text": [
      "IOPub message rate exceeded.\n",
      "The notebook server will temporarily stop sending output\n",
      "to the client in order to avoid crashing it.\n",
      "To change this limit, set the config variable\n",
      "`--NotebookApp.iopub_msg_rate_limit`.\n",
      "\n",
      "Current values:\n",
      "NotebookApp.iopub_msg_rate_limit=1000.0 (msgs/sec)\n",
      "NotebookApp.rate_limit_window=3.0 (secs)\n",
      "\n"
     ]
    }
   ],
   "source": [
    "learn.freeze_to(-3)\n",
    "learn.fit_one_cycle(5, slice(5e-4,1e-2))"
   ]
  },
  {
   "cell_type": "code",
   "execution_count": 39,
   "metadata": {},
   "outputs": [],
   "source": [
    "learn.save('clas_third')"
   ]
  },
  {
   "cell_type": "code",
   "execution_count": 40,
   "metadata": {
    "scrolled": true
   },
   "outputs": [],
   "source": [
    "learn.load('clas_third');"
   ]
  },
  {
   "cell_type": "code",
   "execution_count": 41,
   "metadata": {
    "scrolled": false
   },
   "outputs": [
    {
     "data": {
      "text/html": [
       "<table border=\"1\" class=\"dataframe\">\n",
       "  <thead>\n",
       "    <tr style=\"text-align: left;\">\n",
       "      <th>epoch</th>\n",
       "      <th>train_loss</th>\n",
       "      <th>valid_loss</th>\n",
       "      <th>accuracy</th>\n",
       "      <th>time</th>\n",
       "    </tr>\n",
       "  </thead>\n",
       "  <tbody>\n",
       "    <tr>\n",
       "      <td>0</td>\n",
       "      <td>0.467329</td>\n",
       "      <td>0.419594</td>\n",
       "      <td>0.795370</td>\n",
       "      <td>06:49</td>\n",
       "    </tr>\n",
       "    <tr>\n",
       "      <td>1</td>\n",
       "      <td>0.460720</td>\n",
       "      <td>0.399253</td>\n",
       "      <td>0.808031</td>\n",
       "      <td>06:41</td>\n",
       "    </tr>\n",
       "    <tr>\n",
       "      <td>2</td>\n",
       "      <td>0.408272</td>\n",
       "      <td>0.380179</td>\n",
       "      <td>0.813536</td>\n",
       "      <td>06:45</td>\n",
       "    </tr>\n",
       "  </tbody>\n",
       "</table>"
      ],
      "text/plain": [
       "<IPython.core.display.HTML object>"
      ]
     },
     "metadata": {},
     "output_type": "display_data"
    },
    {
     "data": {
      "image/png": "[encoded data removed]",
      "text/plain": [
       "<Figure size 432x288 with 1 Axes>"
      ]
     },
     "metadata": {},
     "output_type": "display_data"
    }
   ],
   "source": [
    "learn.freeze_to(-4)\n",
    "learn.fit_one_cycle(3, slice(5e-4,1e-2))"
   ]
  },
  {
   "cell_type": "code",
   "execution_count": 42,
   "metadata": {},
   "outputs": [],
   "source": [
    "learn.save('clas_fourth')"
   ]
  },
  {
   "cell_type": "code",
   "execution_count": 43,
   "metadata": {
    "scrolled": true
   },
   "outputs": [],
   "source": [
    "learn.load('clas_fourth');"
   ]
  },
  {
   "cell_type": "code",
   "execution_count": 44,
   "metadata": {
    "scrolled": false
   },
   "outputs": [
    {
     "data": {
      "text/html": [
       "<table border=\"1\" class=\"dataframe\">\n",
       "  <thead>\n",
       "    <tr style=\"text-align: left;\">\n",
       "      <th>epoch</th>\n",
       "      <th>train_loss</th>\n",
       "      <th>valid_loss</th>\n",
       "      <th>accuracy</th>\n",
       "      <th>time</th>\n",
       "    </tr>\n",
       "  </thead>\n",
       "  <tbody>\n",
       "    <tr>\n",
       "      <td>0</td>\n",
       "      <td>0.433243</td>\n",
       "      <td>0.398716</td>\n",
       "      <td>0.808089</td>\n",
       "      <td>07:49</td>\n",
       "    </tr>\n",
       "    <tr>\n",
       "      <td>1</td>\n",
       "      <td>0.431866</td>\n",
       "      <td>0.394945</td>\n",
       "      <td>0.808002</td>\n",
       "      <td>07:48</td>\n",
       "    </tr>\n",
       "    <tr>\n",
       "      <td>2</td>\n",
       "      <td>0.412989</td>\n",
       "      <td>0.388726</td>\n",
       "      <td>0.815129</td>\n",
       "      <td>07:47</td>\n",
       "    </tr>\n",
       "    <tr>\n",
       "      <td>3</td>\n",
       "      <td>0.387194</td>\n",
       "      <td>0.363029</td>\n",
       "      <td>0.827906</td>\n",
       "      <td>07:35</td>\n",
       "    </tr>\n",
       "    <tr>\n",
       "      <td>4</td>\n",
       "      <td>0.353986</td>\n",
       "      <td>0.356137</td>\n",
       "      <td>0.831701</td>\n",
       "      <td>07:55</td>\n",
       "    </tr>\n",
       "  </tbody>\n",
       "</table>"
      ],
      "text/plain": [
       "<IPython.core.display.HTML object>"
      ]
     },
     "metadata": {},
     "output_type": "display_data"
    },
    {
     "data": {
      "image/png": "[encoded data removed]",
      "text/plain": [
       "<Figure size 432x288 with 1 Axes>"
      ]
     },
     "metadata": {},
     "output_type": "display_data"
    }
   ],
   "source": [
    "learn.freeze_to(-5)\n",
    "learn.fit_one_cycle(5, slice(5e-4,1e-2))"
   ]
  },
  {
   "cell_type": "code",
   "execution_count": 45,
   "metadata": {},
   "outputs": [],
   "source": [
    "learn.save('clas_fifth')"
   ]
  },
  {
   "cell_type": "code",
   "execution_count": 46,
   "metadata": {
    "scrolled": true
   },
   "outputs": [],
   "source": [
    "learn.load('clas_fifth');"
   ]
  },
  {
   "cell_type": "code",
   "execution_count": 47,
   "metadata": {
    "scrolled": false
   },
   "outputs": [
    {
     "data": {
      "text/html": [
       "<table border=\"1\" class=\"dataframe\">\n",
       "  <thead>\n",
       "    <tr style=\"text-align: left;\">\n",
       "      <th>epoch</th>\n",
       "      <th>train_loss</th>\n",
       "      <th>valid_loss</th>\n",
       "      <th>accuracy</th>\n",
       "      <th>time</th>\n",
       "    </tr>\n",
       "  </thead>\n",
       "  <tbody>\n",
       "    <tr>\n",
       "      <td>0</td>\n",
       "      <td>0.365911</td>\n",
       "      <td>0.361467</td>\n",
       "      <td>0.824864</td>\n",
       "      <td>07:57</td>\n",
       "    </tr>\n",
       "    <tr>\n",
       "      <td>1</td>\n",
       "      <td>0.377518</td>\n",
       "      <td>0.378658</td>\n",
       "      <td>0.814695</td>\n",
       "      <td>07:38</td>\n",
       "    </tr>\n",
       "    <tr>\n",
       "      <td>2</td>\n",
       "      <td>0.386664</td>\n",
       "      <td>0.368163</td>\n",
       "      <td>0.821474</td>\n",
       "      <td>07:47</td>\n",
       "    </tr>\n",
       "    <tr>\n",
       "      <td>3</td>\n",
       "      <td>0.368350</td>\n",
       "      <td>0.356065</td>\n",
       "      <td>0.831933</td>\n",
       "      <td>07:34</td>\n",
       "    </tr>\n",
       "    <tr>\n",
       "      <td>4</td>\n",
       "      <td>0.339479</td>\n",
       "      <td>0.349066</td>\n",
       "      <td>0.835931</td>\n",
       "      <td>07:29</td>\n",
       "    </tr>\n",
       "    <tr>\n",
       "      <td>5</td>\n",
       "      <td>0.317224</td>\n",
       "      <td>0.341705</td>\n",
       "      <td>0.837351</td>\n",
       "      <td>07:53</td>\n",
       "    </tr>\n",
       "    <tr>\n",
       "      <td>6</td>\n",
       "      <td>0.299483</td>\n",
       "      <td>0.340684</td>\n",
       "      <td>0.839350</td>\n",
       "      <td>07:30</td>\n",
       "    </tr>\n",
       "  </tbody>\n",
       "</table>"
      ],
      "text/plain": [
       "<IPython.core.display.HTML object>"
      ]
     },
     "metadata": {},
     "output_type": "display_data"
    },
    {
     "data": {
      "image/png": "[encoded data removed]",
      "text/plain": [
       "<Figure size 432x288 with 1 Axes>"
      ]
     },
     "metadata": {},
     "output_type": "display_data"
    }
   ],
   "source": [
    "learn.freeze_to(-6)\n",
    "learn.fit_one_cycle(7, slice(5e-4,1e-2))"
   ]
  },
  {
   "cell_type": "code",
   "execution_count": 48,
   "metadata": {},
   "outputs": [],
   "source": [
    "learn.save('clas_sixth')"
   ]
  },
  {
   "cell_type": "code",
   "execution_count": 49,
   "metadata": {
    "scrolled": true
   },
   "outputs": [],
   "source": [
    "learn.load('clas_sixth');"
   ]
  },
  {
   "cell_type": "code",
   "execution_count": 98,
   "metadata": {
    "scrolled": true
   },
   "outputs": [],
   "source": [
    "learn.export('blue-or-red.pkl')"
   ]
  },
  {
   "cell_type": "markdown",
   "metadata": {},
   "source": [
    "### Analyze Results"
   ]
  },
  {
   "cell_type": "markdown",
   "metadata": {},
   "source": [
    "Reloading learner and data"
   ]
  },
  {
   "cell_type": "code",
   "execution_count": 9,
   "metadata": {},
   "outputs": [],
   "source": [
    "learn =load_learner(path,'blue-or-red.pkl')"
   ]
  },
  {
   "cell_type": "code",
   "execution_count": 10,
   "metadata": {},
   "outputs": [],
   "source": [
    "learn.data=load_data(path,'data_clas_export.pkl')"
   ]
  },
  {
   "cell_type": "code",
   "execution_count": 11,
   "metadata": {
    "scrolled": true
   },
   "outputs": [
    {
     "data": {
      "text/html": [
       "<table border=\"1\" class=\"dataframe\">\n",
       "  <thead>\n",
       "    <tr style=\"text-align: right;\">\n",
       "      <th>text</th>\n",
       "      <th>target</th>\n",
       "      <th>prediction</th>\n",
       "    </tr>\n",
       "  </thead>\n",
       "  <tbody>\n",
       "    <tr>\n",
       "      <td>xxbos ┳ ┻ | \\n  ┻ ┳ | \\n  ┳ ┻ | \\n  ┻ ┳ | \\n  ┳ ┻ | \\n  ┻ ┳ | \\n  ┳ ┻ | \\n  ┻ ┳ | \\n  ┳ ┻ | \\n  ┻ ┳ | \\n  ┳ ┻ | \\n  ┻ ┳ | \\n  ┳ ┻ | \\n  ┻ ┳ | \\n</td>\n",
       "      <td>Democrat</td>\n",
       "      <td>Democrat</td>\n",
       "    </tr>\n",
       "    <tr>\n",
       "      <td>xxbos xxup .@uswnt are the champions , my friends ! ! # onenationoneteam 🇺 🇸 ⚽ ️ 🇺 🇸 ⚽ ️ 🇺 🇸 ⚽ ️ 🇺 🇸 ⚽ ️ 🇺 🇸 ⚽ ️ 🇺 🇸 ⚽ ️ 🇺 🇸 ⚽ ️ 🇺 🇸 ⚽ ️ 🇺 🇸 ⚽ ️ 🇺 🇸 ⚽ ️ 🇺 🇸 ⚽ ️ 🇺 🇸 ⚽ ️ 🇺 🇸 ⚽ ️ … https : / /</td>\n",
       "      <td>Democrat</td>\n",
       "      <td>Democrat</td>\n",
       "    </tr>\n",
       "    <tr>\n",
       "      <td>xxbos xxunk xxunk xxunk xxup xxunk xxunk xxunk ( xxunk xxunk ) xxmaj paper xxunk / xxunk xxunk xxunk / xxunk xxunk / 　  / xxunk xxunk \\n  ( xxunk xxunk xxunk xxunk xxunk / 　  / xxmaj ballots xxunk ( xxunk ( xxunk xxunk | xxunk | xxunk \\ xxunk | xxunk xxunk \\ xxunk | | xxunk ) / xxup now \\n  xxunk )</td>\n",
       "      <td>Democrat</td>\n",
       "      <td>Democrat</td>\n",
       "    </tr>\n",
       "    <tr>\n",
       "      <td>xxbos xxmaj who wins in the # goptaxscam ? \\n  xxmaj corporations 🏢 xxunk xxunk \\n \\n  xxmaj who loses ? \\n  xxmaj the xxmaj middle xxmaj class 🤦 ‍ ♂ ️ 👩 ‍ 🚒 👨 ‍ 🌾 👷 👨 ‍ 🔧 👩 ‍ 🎓 👨 ‍ 💻 👩 ‍ 🏭 https : / / t.co / xxunk</td>\n",
       "      <td>Democrat</td>\n",
       "      <td>Democrat</td>\n",
       "    </tr>\n",
       "    <tr>\n",
       "      <td>xxbos xxmaj met w / xxmaj lili , xxmaj malcolm , xxmaj jude , xxmaj xxunk , xxmaj benjamin , &amp; &amp; xxmaj rachel , leaders f / xxup ut xxmaj austin , xxup ut at xxmaj arlington , xxmaj texas xxmaj tech , &amp; &amp; xxmaj xxunk … https : / / t.co / xxunk</td>\n",
       "      <td>Democrat</td>\n",
       "      <td>Republican</td>\n",
       "    </tr>\n",
       "    <tr>\n",
       "      <td>xxbos xxmaj those bold xxmaj republicans : \\n \\n  xxmaj amash \\n  xxmaj biggs \\n  xxmaj blum \\n  xxmaj brat \\n  xxmaj cloud \\n  xxmaj gaetz \\n  xxmaj garrett \\n  xxmaj gohmert \\n  xxmaj gosar \\n  xxmaj jordan \\n  xxmaj graves ( xxmaj louisiana ) \\n  xxmaj xxunk … https : / / t.co / xxunk</td>\n",
       "      <td>Republican</td>\n",
       "      <td>Republican</td>\n",
       "    </tr>\n",
       "    <tr>\n",
       "      <td>xxbos 📅 xxmaj weeks in xxmaj congress : 6 \\n  ✈ ️ xxmaj miles flown : xxunk \\n  xxunk ️ xxmaj miles per week : xxunk \\n  ✅ xxmaj votes held : 87 \\n  ❎ xxmaj votes per week : 14.5 \\n  xxunk xxmaj mi … https : / / t.co / xxunk</td>\n",
       "      <td>Democrat</td>\n",
       "      <td>Republican</td>\n",
       "    </tr>\n",
       "    <tr>\n",
       "      <td>xxbos xxmaj lady xxmaj luck shines on the xxmaj las xxmaj vegas xxmaj aces ! xxmaj our xxup wnba team has back - to - back - to - back xxmaj no . 1 picks , rookie - of - the - year and … https : / / t.co / xxunk</td>\n",
       "      <td>Democrat</td>\n",
       "      <td>Democrat</td>\n",
       "    </tr>\n",
       "    <tr>\n",
       "      <td>xxbos xxmaj catch me xxup live on “ xxmaj person to xxmaj person ” with xxmaj michael xxmaj harris on xxup am 1230 xxmaj radio in xxmaj houston @ 11 xxup am xxup cst / 12 xxup pm xxup et . xxmaj please li … https : / / t.co / xxunk</td>\n",
       "      <td>Democrat</td>\n",
       "      <td>Democrat</td>\n",
       "    </tr>\n",
       "    <tr>\n",
       "      <td>xxbos xxmaj enjoying the \" xxmaj battle of the xxmaj bay \" w / the xxup xxunk xxmaj royal xxmaj court , xxmaj student xxmaj govt . xxmaj pres . xxmaj desmond xxmaj xxunk &amp; &amp; xxup xxunk xxmaj president xxmaj eddie xxmaj moo … https : / / t.co / xxunk</td>\n",
       "      <td>Democrat</td>\n",
       "      <td>Democrat</td>\n",
       "    </tr>\n",
       "  </tbody>\n",
       "</table>"
      ],
      "text/plain": [
       "<IPython.core.display.HTML object>"
      ]
     },
     "metadata": {},
     "output_type": "display_data"
    }
   ],
   "source": [
    "learn.show_results(DatasetType.Valid,rows=10)"
   ]
  },
  {
   "cell_type": "markdown",
   "metadata": {},
   "source": [
    "#### Get predictions for the Test Set that was held back initially"
   ]
  },
  {
   "cell_type": "code",
   "execution_count": 102,
   "metadata": {
    "scrolled": true
   },
   "outputs": [
    {
     "data": {
      "text/plain": [
       "tensor([0, 1, 0,  ..., 0, 0, 0])"
      ]
     },
     "execution_count": 102,
     "metadata": {},
     "output_type": "execute_result"
    }
   ],
   "source": [
    "preds = np.argmax(learn.get_preds(ds_type=DatasetType.Test, ordered=True)[0], axis=1); preds"
   ]
  },
  {
   "cell_type": "code",
   "execution_count": 103,
   "metadata": {
    "scrolled": true
   },
   "outputs": [
    {
     "data": {
      "text/plain": [
       "['Democrat', 'Republican', 'Democrat', 'Republican', 'Democrat']"
      ]
     },
     "execution_count": 103,
     "metadata": {},
     "output_type": "execute_result"
    }
   ],
   "source": [
    "preds_cls = ['Democrat' if p==0 else 'Republican' for p in preds]; preds_cls[:5]"
   ]
  },
  {
   "cell_type": "code",
   "execution_count": 104,
   "metadata": {
    "scrolled": true
   },
   "outputs": [
    {
     "ename": "NameError",
     "evalue": "name 'ts_df' is not defined",
     "output_type": "error",
     "traceback": [
      "\u001b[0;31m---------------------------------------------------------------------------\u001b[0m",
      "\u001b[0;31mNameError\u001b[0m                                 Traceback (most recent call last)",
      "\u001b[0;32m<ipython-input-104-a84079bd3ce3>\u001b[0m in \u001b[0;36m<module>\u001b[0;34m\u001b[0m\n\u001b[0;32m----> 1\u001b[0;31m \u001b[0msum\u001b[0m\u001b[0;34m(\u001b[0m\u001b[0mpreds_cls\u001b[0m \u001b[0;34m==\u001b[0m \u001b[0mts_df\u001b[0m\u001b[0;34m[\u001b[0m\u001b[0;34m'party'\u001b[0m\u001b[0;34m]\u001b[0m\u001b[0;34m)\u001b[0m \u001b[0;34m/\u001b[0m \u001b[0mlen\u001b[0m\u001b[0;34m(\u001b[0m\u001b[0mpreds_cls\u001b[0m\u001b[0;34m)\u001b[0m\u001b[0;34m\u001b[0m\u001b[0;34m\u001b[0m\u001b[0m\n\u001b[0m",
      "\u001b[0;31mNameError\u001b[0m: name 'ts_df' is not defined"
     ]
    }
   ],
   "source": [
    "sum(preds_cls == ts_df['party']) / len(preds_cls)"
   ]
  },
  {
   "cell_type": "markdown",
   "metadata": {},
   "source": [
    "84% accuracy against the untouched Test Set is as good as I've gotten."
   ]
  },
  {
   "cell_type": "markdown",
   "metadata": {},
   "source": [
    "Let's run the model against specific tweets to get a feeling as to how it's performing. These tweets are recent tweets taken directly from the Twitter site."
   ]
  },
  {
   "cell_type": "markdown",
   "metadata": {},
   "source": [
    "#### Actual `realDonaldTrump` Tweets"
   ]
  },
  {
   "cell_type": "code",
   "execution_count": 115,
   "metadata": {
    "scrolled": true
   },
   "outputs": [
    {
     "data": {
      "text/plain": [
       "(Category Republican, tensor(1), tensor([0.4206, 0.5794]))"
      ]
     },
     "execution_count": 115,
     "metadata": {},
     "output_type": "execute_result"
    }
   ],
   "source": [
    "learn.predict(\"Pray for the people in the Bahamas. Being hit like never before, Category 5.  Almost 200 MPH winds\")"
   ]
  },
  {
   "cell_type": "code",
   "execution_count": 21,
   "metadata": {},
   "outputs": [
    {
     "data": {
      "text/plain": [
       "(Category Republican, tensor(1), tensor([0.2310, 0.7690]))"
      ]
     },
     "execution_count": 21,
     "metadata": {},
     "output_type": "execute_result"
    }
   ],
   "source": [
    "learn.predict(\"Great job by Texas Law Enforcement and First Responders in handling the terrible shooting tragedy yesterday. Thank you also to the FBI, @GregAbbott_TX and all others. A very tough and sad situation!\")"
   ]
  },
  {
   "cell_type": "code",
   "execution_count": 22,
   "metadata": {
    "scrolled": true
   },
   "outputs": [
    {
     "data": {
      "text/plain": [
       "(Category Democrat, tensor(0), tensor([0.8606, 0.1394]))"
      ]
     },
     "execution_count": 22,
     "metadata": {},
     "output_type": "execute_result"
    }
   ],
   "source": [
    "learn.predict(\"Crazy Lawrence O’Donnell, who has been calling me wrong from even before I announced my run for the Presidency, even being previously forced by NBC to apologize, which he did while crying, for things he said about me & The Apprentice, was again forced to apologize, this time.....\")"
   ]
  },
  {
   "cell_type": "code",
   "execution_count": 23,
   "metadata": {
    "scrolled": true
   },
   "outputs": [
    {
     "data": {
      "text/plain": [
       "(Category Republican, tensor(1), tensor([0.3471, 0.6529]))"
      ]
     },
     "execution_count": 23,
     "metadata": {},
     "output_type": "execute_result"
    }
   ],
   "source": [
    "learn.predict(\"We hold that legislative prayer is government speech not open to attack via those channels.” Third Circuit, Court of Appeals. “Lou, that’s why this next Election is so important, the soul of America. They want to take religion out of American lives. Thank God for judges like\")"
   ]
  },
  {
   "cell_type": "code",
   "execution_count": 24,
   "metadata": {},
   "outputs": [
    {
     "data": {
      "text/plain": [
       "(Category Republican, tensor(1), tensor([0.0249, 0.9751]))"
      ]
     },
     "execution_count": 24,
     "metadata": {},
     "output_type": "execute_result"
    }
   ],
   "source": [
    "learn.predict(\"Wow, Report Just Out! Google manipulated from 2.6 million to 16 million votes for Hillary Clinton in 2016 Election! This was put out by a Clinton supporter, not a Trump Supporter! Google should be sued. My victory was even bigger than thought! @JudicialWatch\")"
   ]
  },
  {
   "cell_type": "code",
   "execution_count": 25,
   "metadata": {
    "scrolled": false
   },
   "outputs": [
    {
     "data": {
      "text/plain": [
       "(Category Republican, tensor(1), tensor([0.4340, 0.5660]))"
      ]
     },
     "execution_count": 25,
     "metadata": {},
     "output_type": "execute_result"
    }
   ],
   "source": [
    "learn.predict(\"I have not forgotten that when it was announced that I was going to do The Apprentice, and when it then became a big hit, helping NBC’s failed lineup greatly, @DebraMessing came up to me at an Upfront & profusely thanked me, even calling me “Sir.” How times have changed!\")"
   ]
  },
  {
   "cell_type": "code",
   "execution_count": 26,
   "metadata": {},
   "outputs": [
    {
     "data": {
      "text/plain": [
       "(Category Republican, tensor(1), tensor([0.4424, 0.5576]))"
      ]
     },
     "execution_count": 26,
     "metadata": {},
     "output_type": "execute_result"
    }
   ],
   "source": [
    "learn.predict(\"“Comey and McCabe (and more) are Dirty Cops.” Joe DiGenova\")"
   ]
  },
  {
   "cell_type": "code",
   "execution_count": 27,
   "metadata": {},
   "outputs": [
    {
     "data": {
      "text/plain": [
       "(Category Republican, tensor(1), tensor([0.3196, 0.6804]))"
      ]
     },
     "execution_count": 27,
     "metadata": {},
     "output_type": "execute_result"
    }
   ],
   "source": [
    "learn.predict(\"reports are coming. Comey very vulnerable. But where is the Supreme Court. Where is Justice Roberts? If you lie to a court, you should be held in contempt. So, if you abused the FISA, you must be held accountable. I hope Justice Roberts will take action.” Jason Chaffetz, Fox\")"
   ]
  },
  {
   "cell_type": "code",
   "execution_count": 28,
   "metadata": {},
   "outputs": [
    {
     "data": {
      "text/plain": [
       "(Category Democrat, tensor(0), tensor([0.5482, 0.4518]))"
      ]
     },
     "execution_count": 28,
     "metadata": {},
     "output_type": "execute_result"
    }
   ],
   "source": [
    "learn.predict(\"James Comey has been rebuked at the highest level, with much more to come. An IG Report doesn’t get any stronger, calling him dangerous, insubordinate. THANK GOODNESS THAT DONALD TRUMP WAS ELECTED, BECAUSE IF HE WASN’T ELECTED, THESE PEOPLE WOULD STILL BE IN POWER. Two more.....\")"
   ]
  },
  {
   "cell_type": "code",
   "execution_count": 29,
   "metadata": {},
   "outputs": [
    {
     "data": {
      "text/plain": [
       "(Category Republican, tensor(1), tensor([0.1640, 0.8360]))"
      ]
     },
     "execution_count": 29,
     "metadata": {},
     "output_type": "execute_result"
    }
   ],
   "source": [
    "learn.predict(\"...is about American Freedom. Redirect the supply chain. There is no reason to buy everything from China!\")"
   ]
  },
  {
   "cell_type": "code",
   "execution_count": 30,
   "metadata": {},
   "outputs": [
    {
     "data": {
      "text/plain": [
       "(Category Democrat, tensor(0), tensor([0.5469, 0.4531]))"
      ]
     },
     "execution_count": 30,
     "metadata": {},
     "output_type": "execute_result"
    }
   ],
   "source": [
    "learn.predict(\"Peter Morici, Economist: Tariffs will not impact American consumers that much because the Chinese currency has gone down, which gives our importers a discount. Importers can find suppliers outside of China. Absolutely worth it, we don’t want to be servants to the Chinese! This...\")"
   ]
  },
  {
   "cell_type": "code",
   "execution_count": 31,
   "metadata": {},
   "outputs": [
    {
     "data": {
      "text/plain": [
       "(Category Democrat, tensor(0), tensor([0.5036, 0.4964]))"
      ]
     },
     "execution_count": 31,
     "metadata": {},
     "output_type": "execute_result"
    }
   ],
   "source": [
    "learn.predict(\"“The vindication belongs to the President for firing James Comey. It was clearly the right thing to do. You don’t want an FBI Director with Jim Comey’s ethics.” Jason Riley, Wall Street Journal\")"
   ]
  },
  {
   "cell_type": "code",
   "execution_count": 32,
   "metadata": {},
   "outputs": [
    {
     "data": {
      "text/plain": [
       "(Category Republican, tensor(1), tensor([0.0229, 0.9771]))"
      ]
     },
     "execution_count": 32,
     "metadata": {},
     "output_type": "execute_result"
    }
   ],
   "source": [
    "learn.predict(\"Enjoy the low gas prices over the Labor Day weekend! My energy policies have made America energy independent while keeping prices low, just like a Tax Cut. The Democrats “green” policies will raise your price of gas!\")"
   ]
  },
  {
   "cell_type": "code",
   "execution_count": 33,
   "metadata": {},
   "outputs": [
    {
     "data": {
      "text/plain": [
       "(Category Republican, tensor(1), tensor([0.2846, 0.7154]))"
      ]
     },
     "execution_count": 33,
     "metadata": {},
     "output_type": "execute_result"
    }
   ],
   "source": [
    "learn.predict(\"....but now we are moving forward like never before. We are winning again, and we are respected again!\")"
   ]
  },
  {
   "cell_type": "code",
   "execution_count": 34,
   "metadata": {},
   "outputs": [
    {
     "data": {
      "text/plain": [
       "(Category Republican, tensor(1), tensor([0.1849, 0.8151]))"
      ]
     },
     "execution_count": 34,
     "metadata": {},
     "output_type": "execute_result"
    }
   ],
   "source": [
    "learn.predict(\"Being scolded by failed former “Intelligence” officials, like James Clapper, on my condolences to Iran on their failed Rocket launch. Sadly for the United States, guys like him, Comey, and the even dumber John Brennan, don’t have a clue. They really set our Country back,....\")"
   ]
  },
  {
   "cell_type": "code",
   "execution_count": 35,
   "metadata": {},
   "outputs": [
    {
     "data": {
      "text/plain": [
       "(Category Republican, tensor(1), tensor([0.4021, 0.5979]))"
      ]
     },
     "execution_count": 35,
     "metadata": {},
     "output_type": "execute_result"
    }
   ],
   "source": [
    "learn.predict(\"Just watched Congresswoman Debbie Dingell, and many other Democrats, wanting to give up on our very successful Trade battle with China, which has had its worst Economic year in memory (and getting worse). We are taking in $Billions. Will be big for Farmers and ALL!\")"
   ]
  },
  {
   "cell_type": "code",
   "execution_count": 36,
   "metadata": {},
   "outputs": [
    {
     "data": {
      "text/plain": [
       "(Category Republican, tensor(1), tensor([0.0308, 0.9692]))"
      ]
     },
     "execution_count": 36,
     "metadata": {},
     "output_type": "execute_result"
    }
   ],
   "source": [
    "learn.predict(\"Has anyone noticed that the top shows on @foxnews and cable ratings are those that are Fair (or great) to your favorite President, me! Congratulations to @seanhannity for being the number one show on Cable Television!\")"
   ]
  },
  {
   "cell_type": "code",
   "execution_count": 37,
   "metadata": {},
   "outputs": [
    {
     "data": {
      "text/plain": [
       "(Category Republican, tensor(1), tensor([0.2664, 0.7336]))"
      ]
     },
     "execution_count": 37,
     "metadata": {},
     "output_type": "execute_result"
    }
   ],
   "source": [
    "learn.predict(\"Looking like our great South Carolina could get hit MUCH harder than first thought. Georgia and North Carolina also. It’s moving around and very hard to predict, except that it is one of the biggest and strongest (and really wide) that we have seen in decades. Be safe!\")"
   ]
  },
  {
   "cell_type": "code",
   "execution_count": 38,
   "metadata": {},
   "outputs": [
    {
     "data": {
      "text/plain": [
       "(Category Republican, tensor(1), tensor([0.1817, 0.8183]))"
      ]
     },
     "execution_count": 38,
     "metadata": {},
     "output_type": "execute_result"
    }
   ],
   "source": [
    "learn.predict(\"MAKE AMERICA GREAT AGAIN, which is happening, and then, KEEP AMERICA GREAT!\")"
   ]
  },
  {
   "cell_type": "code",
   "execution_count": 39,
   "metadata": {},
   "outputs": [
    {
     "data": {
      "text/plain": [
       "(Category Democrat, tensor(0), tensor([0.6841, 0.3159]))"
      ]
     },
     "execution_count": 39,
     "metadata": {},
     "output_type": "execute_result"
    }
   ],
   "source": [
    "learn.predict(\"...Yes, I am currently suing various people for violating their confidentiality agreements. Disgusting and foul mouthed Omarosa is one. I gave her every break, despite the fact that she was despised by everyone, and she went for some cheap money from a book. Numerous others also!\")"
   ]
  },
  {
   "cell_type": "markdown",
   "metadata": {},
   "source": [
    "realDonaldTrump Accuracy: 15/20 = 75%"
   ]
  },
  {
   "cell_type": "markdown",
   "metadata": {},
   "source": [
    "#### Actual `HillaryClinton` Tweets"
   ]
  },
  {
   "cell_type": "code",
   "execution_count": 40,
   "metadata": {},
   "outputs": [
    {
     "data": {
      "text/plain": [
       "(Category Democrat, tensor(0), tensor([0.9828, 0.0172]))"
      ]
     },
     "execution_count": 40,
     "metadata": {},
     "output_type": "execute_result"
    }
   ],
   "source": [
    "learn.predict(\"Republican officials across the country have used gerrymandering to choose their voters rather than letting voters choose their representatives.\")"
   ]
  },
  {
   "cell_type": "code",
   "execution_count": 41,
   "metadata": {},
   "outputs": [
    {
     "data": {
      "text/plain": [
       "(Category Democrat, tensor(0), tensor([0.7166, 0.2834]))"
      ]
     },
     "execution_count": 41,
     "metadata": {},
     "output_type": "execute_result"
    }
   ],
   "source": [
    "learn.predict(\"This is a great way to help fight the fires in the Amazon. One hundred percent of donations go to partners working on the ground\")"
   ]
  },
  {
   "cell_type": "code",
   "execution_count": 42,
   "metadata": {},
   "outputs": [
    {
     "data": {
      "text/plain": [
       "(Category Democrat, tensor(0), tensor([0.9438, 0.0562]))"
      ]
     },
     "execution_count": 42,
     "metadata": {},
     "output_type": "execute_result"
    }
   ],
   "source": [
    "learn.predict(\"The passage of the 19th Amendment was just the first step on the road to ensure all American women can exercise their right to vote. On #WomensEqualityDay, let's celebrate how far we've come and resolve to keep marching. #EqualityCantWai\")"
   ]
  },
  {
   "cell_type": "code",
   "execution_count": 43,
   "metadata": {},
   "outputs": [
    {
     "data": {
      "text/plain": [
       "(Category Democrat, tensor(0), tensor([0.9370, 0.0630]))"
      ]
     },
     "execution_count": 43,
     "metadata": {},
     "output_type": "execute_result"
    }
   ],
   "source": [
    "learn.predict(\"Meet 55 amazing candidates @runforsomething has endorsed this month, including an activist who helped remove Confederate statues in Memphis and a lifelong education advocate\")"
   ]
  },
  {
   "cell_type": "code",
   "execution_count": 44,
   "metadata": {},
   "outputs": [
    {
     "data": {
      "text/plain": [
       "(Category Democrat, tensor(0), tensor([0.9040, 0.0960]))"
      ]
     },
     "execution_count": 44,
     "metadata": {},
     "output_type": "execute_result"
    }
   ],
   "source": [
    "learn.predict(\"Adele's grandfather built her family's home after he returned to St. John from World War II—and she won't give up on it. Neither can we.\")"
   ]
  },
  {
   "cell_type": "code",
   "execution_count": 45,
   "metadata": {},
   "outputs": [
    {
     "data": {
      "text/plain": [
       "(Category Democrat, tensor(0), tensor([0.9549, 0.0451]))"
      ]
     },
     "execution_count": 45,
     "metadata": {},
     "output_type": "execute_result"
    }
   ],
   "source": [
    "learn.predict(\"BREAKING: In its latest attack on immigrant communities, the Trump administration is moving to dismantle the ONLY established protections for children in government custody. We can't let this happen, here’s why\")"
   ]
  },
  {
   "cell_type": "code",
   "execution_count": 46,
   "metadata": {},
   "outputs": [
    {
     "data": {
      "text/plain": [
       "(Category Democrat, tensor(0), tensor([0.9794, 0.0206]))"
      ]
     },
     "execution_count": 46,
     "metadata": {},
     "output_type": "execute_result"
    }
   ],
   "source": [
    "learn.predict(\"In the last 24 hours, the administration has announced: - They will seek the power to detain migrant children indefinitely - They won’t provide flu shots to families in detention Six children have already died, three in part from the flu. This is a recipe for more tragedy.\")"
   ]
  },
  {
   "cell_type": "code",
   "execution_count": 47,
   "metadata": {
    "scrolled": true
   },
   "outputs": [
    {
     "data": {
      "text/plain": [
       "(Category Democrat, tensor(0), tensor([0.6827, 0.3173]))"
      ]
     },
     "execution_count": 47,
     "metadata": {},
     "output_type": "execute_result"
    }
   ],
   "source": [
    "learn.predict(\"The debunked study you’re referring to was based on 21 undecided voters. For context that’s about half the number of people associated with your campaign who have been indicted.\")"
   ]
  },
  {
   "cell_type": "code",
   "execution_count": 48,
   "metadata": {
    "scrolled": true
   },
   "outputs": [
    {
     "data": {
      "text/plain": [
       "(Category Democrat, tensor(0), tensor([0.5879, 0.4121]))"
      ]
     },
     "execution_count": 48,
     "metadata": {},
     "output_type": "execute_result"
    }
   ],
   "source": [
    "learn.predict(\"What democracy and peaceful protest look like: 1.7 million people marching yesterday in Hong Kong's Victoria Park.\")"
   ]
  },
  {
   "cell_type": "code",
   "execution_count": 49,
   "metadata": {},
   "outputs": [
    {
     "data": {
      "text/plain": [
       "(Category Republican, tensor(1), tensor([0.2409, 0.7591]))"
      ]
     },
     "execution_count": 49,
     "metadata": {},
     "output_type": "execute_result"
    }
   ],
   "source": [
    "learn.predict(\"Happy birthday, @BillClinton! You can sign his card here\")"
   ]
  },
  {
   "cell_type": "code",
   "execution_count": 50,
   "metadata": {},
   "outputs": [
    {
     "data": {
      "text/plain": [
       "(Category Democrat, tensor(0), tensor([0.8441, 0.1559]))"
      ]
     },
     "execution_count": 50,
     "metadata": {},
     "output_type": "execute_result"
    }
   ],
   "source": [
    "learn.predict(\"Asked why she persisted in the fight for women’s suffrage, ratified August 18, 1920, Alice Paul said: “When you put your hand to the plow, you can’t put it down until you get to the end of the row.” With thanks to our forebears for all they've fought for, the work continues\")"
   ]
  },
  {
   "cell_type": "code",
   "execution_count": 51,
   "metadata": {},
   "outputs": [
    {
     "data": {
      "text/plain": [
       "(Category Democrat, tensor(0), tensor([0.8705, 0.1295]))"
      ]
     },
     "execution_count": 51,
     "metadata": {},
     "output_type": "execute_result"
    }
   ],
   "source": [
    "learn.predict(\"Russia’s interference in our elections will continue to threaten our democracy until Republicans join Democrats to stop it.\")"
   ]
  },
  {
   "cell_type": "code",
   "execution_count": 52,
   "metadata": {},
   "outputs": [
    {
     "data": {
      "text/plain": [
       "(Category Democrat, tensor(0), tensor([0.8562, 0.1438]))"
      ]
     },
     "execution_count": 52,
     "metadata": {},
     "output_type": "execute_result"
    }
   ],
   "source": [
    "learn.predict(\"It should be a given in America that every citizen has free and fair access to the ballot box. Right now, it simply isn't. \")"
   ]
  },
  {
   "cell_type": "code",
   "execution_count": 53,
   "metadata": {
    "scrolled": true
   },
   "outputs": [
    {
     "data": {
      "text/plain": [
       "(Category Democrat, tensor(0), tensor([0.8977, 0.1023]))"
      ]
     },
     "execution_count": 53,
     "metadata": {},
     "output_type": "execute_result"
    }
   ],
   "source": [
    "learn.predict(\"Two years ago in Charlottesville, a neo-Nazi drove a car into a crowd of people protesting white supremacy and killed Heather Heyer. May we honor her memory by speaking out against hatred, as she did, and working together to defeat it.\")"
   ]
  },
  {
   "cell_type": "code",
   "execution_count": 54,
   "metadata": {},
   "outputs": [
    {
     "data": {
      "text/plain": [
       "(Category Republican, tensor(1), tensor([0.4145, 0.5855]))"
      ]
     },
     "execution_count": 54,
     "metadata": {},
     "output_type": "execute_result"
    }
   ],
   "source": [
    "learn.predict(\"May we all stand in solidarity with the people of Hong Kong as they speak out for democracy, freedom from repression, and a world they long to see\")"
   ]
  },
  {
   "cell_type": "code",
   "execution_count": 55,
   "metadata": {},
   "outputs": [
    {
     "data": {
      "text/plain": [
       "(Category Democrat, tensor(0), tensor([0.6563, 0.3437]))"
      ]
     },
     "execution_count": 55,
     "metadata": {},
     "output_type": "execute_result"
    }
   ],
   "source": [
    "learn.predict(\"If you're heartsick over the images and videos of children in Mississippi whose parents were taken away by ICE, pitch in or spread the word to fund organizations that are providing legal aid and support services to impacted familie\")"
   ]
  },
  {
   "cell_type": "code",
   "execution_count": 56,
   "metadata": {},
   "outputs": [
    {
     "data": {
      "text/plain": [
       "(Category Democrat, tensor(0), tensor([0.9902, 0.0098]))"
      ]
     },
     "execution_count": 56,
     "metadata": {},
     "output_type": "execute_result"
    }
   ],
   "source": [
    "learn.predict(\"Heading into next year’s elections, every voter must reckon with what their vote supports. At the border and around the country, a vote for Trump is a vote to tear parents away from their children.\")"
   ]
  },
  {
   "cell_type": "code",
   "execution_count": 57,
   "metadata": {},
   "outputs": [
    {
     "data": {
      "text/plain": [
       "(Category Democrat, tensor(0), tensor([0.7874, 0.2126]))"
      ]
     },
     "execution_count": 57,
     "metadata": {},
     "output_type": "execute_result"
    }
   ],
   "source": [
    "learn.predict(\"The honor is ours; it’s not every day you meet a queen. 👑\")"
   ]
  },
  {
   "cell_type": "code",
   "execution_count": 58,
   "metadata": {
    "scrolled": false
   },
   "outputs": [
    {
     "data": {
      "text/plain": [
       "(Category Democrat, tensor(0), tensor([0.9829, 0.0171]))"
      ]
     },
     "execution_count": 58,
     "metadata": {},
     "output_type": "execute_result"
    }
   ],
   "source": [
    "learn.predict(\"'If there is a book that you want to read but it hasn't been written yet, you must be the one to write it,' Toni Morrison said. We are all so lucky to live in a world where she took her own advice and shared it with others.\")"
   ]
  },
  {
   "cell_type": "code",
   "execution_count": 59,
   "metadata": {},
   "outputs": [
    {
     "data": {
      "text/plain": [
       "(Category Democrat, tensor(0), tensor([0.9896, 0.0104]))"
      ]
     },
     "execution_count": 59,
     "metadata": {},
     "output_type": "execute_result"
    }
   ],
   "source": [
    "learn.predict(\"@ChelseaClinton and I are thrilled to announce 'The Book of Gutsy Women,' out October 1st. It's a conversation about over 100 women who have inspired us—and narrowing it down was a process! \")"
   ]
  },
  {
   "cell_type": "code",
   "execution_count": 60,
   "metadata": {},
   "outputs": [
    {
     "data": {
      "text/plain": [
       "(Category Democrat, tensor(0), tensor([0.8539, 0.1461]))"
      ]
     },
     "execution_count": 60,
     "metadata": {},
     "output_type": "execute_result"
    }
   ],
   "source": [
    "learn.predict(\"People suffer from mental illness in every other country on earth; people play video games in virtually every other country on earth. The difference is the guns.\")"
   ]
  },
  {
   "cell_type": "markdown",
   "metadata": {},
   "source": [
    "HillaryClinton Accuracy: 18/20 = 90%"
   ]
  },
  {
   "cell_type": "markdown",
   "metadata": {},
   "source": [
    "#### Actual `BernieSanders` Tweets"
   ]
  },
  {
   "cell_type": "code",
   "execution_count": 61,
   "metadata": {
    "scrolled": false
   },
   "outputs": [
    {
     "data": {
      "text/plain": [
       "(Category Democrat, tensor(0), tensor([0.5906, 0.4094]))"
      ]
     },
     "execution_count": 61,
     "metadata": {},
     "output_type": "execute_result"
    }
   ],
   "source": [
    "learn.predict(\"Nobody wants to look their grandchild in the eye 30 years from now and have them say, “You knew what the scientists were saying in 2019 and you didn’t do anything.”\")"
   ]
  },
  {
   "cell_type": "code",
   "execution_count": 62,
   "metadata": {
    "scrolled": false
   },
   "outputs": [
    {
     "data": {
      "text/plain": [
       "(Category Democrat, tensor(0), tensor([0.7114, 0.2886]))"
      ]
     },
     "execution_count": 62,
     "metadata": {},
     "output_type": "execute_result"
    }
   ],
   "source": [
    "learn.predict(\"Coal miners are not my enemy. The men and women who work on oil rigs are not my enemy. Climate change is my enemy. #ClimateTownHall\")"
   ]
  },
  {
   "cell_type": "code",
   "execution_count": 63,
   "metadata": {
    "scrolled": true
   },
   "outputs": [
    {
     "data": {
      "text/plain": [
       "(Category Democrat, tensor(0), tensor([0.8305, 0.1695]))"
      ]
     },
     "execution_count": 63,
     "metadata": {},
     "output_type": "execute_result"
    }
   ],
   "source": [
    "learn.predict(\"\"\"How we fund the #GreenNewDeal:\n",
    "\n",
    "-Hold the fossil fuel industry accountable\n",
    "-Revenue from wholesale of renewable energy\n",
    "-Eliminate federal fossil fuel subsidies\n",
    "-Scale back military spending\n",
    "-Tax revenue from 20 million jobs\n",
    "-Make the wealthy pay their fair share\"\"\")"
   ]
  },
  {
   "cell_type": "code",
   "execution_count": 64,
   "metadata": {
    "scrolled": false
   },
   "outputs": [
    {
     "data": {
      "text/plain": [
       "(Category Democrat, tensor(0), tensor([0.8043, 0.1957]))"
      ]
     },
     "execution_count": 64,
     "metadata": {},
     "output_type": "execute_result"
    }
   ],
   "source": [
    "learn.predict(\"Maybe, just maybe, instead of spending more than $1.5 trillion a year on weapons of destruction to kill each other, nations around the world can work together against our common enemy of climate change.\")"
   ]
  },
  {
   "cell_type": "code",
   "execution_count": 65,
   "metadata": {
    "scrolled": false
   },
   "outputs": [
    {
     "data": {
      "text/plain": [
       "(Category Republican, tensor(1), tensor([0.4080, 0.5920]))"
      ]
     },
     "execution_count": 65,
     "metadata": {},
     "output_type": "execute_result"
    }
   ],
   "source": [
    "learn.predict(\"'Safe fracking' is like 'clean coal'—it doesn't exist. We need to ban fracking in America.\")"
   ]
  },
  {
   "cell_type": "code",
   "execution_count": 66,
   "metadata": {
    "scrolled": false
   },
   "outputs": [
    {
     "data": {
      "text/plain": [
       "(Category Democrat, tensor(0), tensor([0.7407, 0.2593]))"
      ]
     },
     "execution_count": 66,
     "metadata": {},
     "output_type": "execute_result"
    }
   ],
   "source": [
    "learn.predict(\"We have a corporate health care system that bankrupts hundreds of thousands of people for getting sick. That is barbaric!\")"
   ]
  },
  {
   "cell_type": "code",
   "execution_count": 67,
   "metadata": {
    "scrolled": false
   },
   "outputs": [
    {
     "data": {
      "text/plain": [
       "(Category Democrat, tensor(0), tensor([0.9537, 0.0463]))"
      ]
     },
     "execution_count": 67,
     "metadata": {},
     "output_type": "execute_result"
    }
   ],
   "source": [
    "learn.predict(\"\"\"The climate crisis is our greatest challenge — and our single greatest opportunity to build a just and equitable future.\n",
    "\n",
    "We're going to pass a Green New Deal and create 20 million good-paying \"\"\")"
   ]
  },
  {
   "cell_type": "markdown",
   "metadata": {},
   "source": [
    "#### Actual `SenatorDurbin` Tweets"
   ]
  },
  {
   "cell_type": "code",
   "execution_count": 68,
   "metadata": {
    "scrolled": true
   },
   "outputs": [
    {
     "data": {
      "text/plain": [
       "(Category Democrat, tensor(0), tensor([0.6434, 0.3566]))"
      ]
     },
     "execution_count": 68,
     "metadata": {},
     "output_type": "execute_result"
    }
   ],
   "source": [
    "learn.predict(\"\"\"Today I visited \n",
    "@Autismsi\n",
    " to learn more about their work in providing services to those on the autism spectrum. As a member of the Senate Appropriations Committee, I will continue to fight for federal funding for autism research.\"\"\")"
   ]
  },
  {
   "cell_type": "code",
   "execution_count": 69,
   "metadata": {},
   "outputs": [
    {
     "data": {
      "text/plain": [
       "(Category Republican, tensor(1), tensor([0.3435, 0.6565]))"
      ]
     },
     "execution_count": 69,
     "metadata": {},
     "output_type": "execute_result"
    }
   ],
   "source": [
    "learn.predict(\"\"\"And now we learn that the President is re-routing $771M from construction projects to defend our European allies from Russian aggression, right after cancelling $250M in aid to the Ukraine for that very same purpose. Gen. Mattis is right - we need to put our allies over politics.\"\"\")"
   ]
  },
  {
   "cell_type": "code",
   "execution_count": 70,
   "metadata": {
    "scrolled": false
   },
   "outputs": [
    {
     "data": {
      "text/plain": [
       "(Category Democrat, tensor(0), tensor([0.9803, 0.0197]))"
      ]
     },
     "execution_count": 70,
     "metadata": {},
     "output_type": "execute_result"
    }
   ],
   "source": [
    "learn.predict(\"\"\"If the President thinks that Congress is going to turn around and provide additional money for any of the defunded projects, he's sorely mistaken. These funds were already appropriated as intended. We cannot ask the American people to foot the bill twice for his vanity project.\"\"\")"
   ]
  },
  {
   "cell_type": "code",
   "execution_count": 71,
   "metadata": {
    "scrolled": false
   },
   "outputs": [
    {
     "data": {
      "text/plain": [
       "(Category Democrat, tensor(0), tensor([0.9645, 0.0355]))"
      ]
     },
     "execution_count": 71,
     "metadata": {},
     "output_type": "execute_result"
    }
   ],
   "source": [
    "learn.predict(\"\"\"I remember when Mexico was going to pay for President Trump's border wall. He failed entirely to fulfill that promise and has now decided to steal funding from our armed service members and their families instead. Over 120 military projects are going to lose funding as a result.\"\"\")"
   ]
  },
  {
   "cell_type": "code",
   "execution_count": 72,
   "metadata": {
    "scrolled": false
   },
   "outputs": [
    {
     "data": {
      "text/plain": [
       "(Category Democrat, tensor(0), tensor([0.5187, 0.4813]))"
      ]
     },
     "execution_count": 72,
     "metadata": {},
     "output_type": "execute_result"
    }
   ],
   "source": [
    "learn.predict(\"\"\"This is why I introduced the bipartisan Rural America Health Corps Act, which will expand upon the current \n",
    "@NHSCorps\n",
    " program to provide new, directed loan forgiveness funding for rural health providers who serve in rural communities.\"\"\")"
   ]
  },
  {
   "cell_type": "code",
   "execution_count": 73,
   "metadata": {
    "scrolled": false
   },
   "outputs": [
    {
     "data": {
      "text/plain": [
       "(Category Democrat, tensor(0), tensor([0.6348, 0.3652]))"
      ]
     },
     "execution_count": 73,
     "metadata": {},
     "output_type": "execute_result"
    }
   ],
   "source": [
    "learn.predict(\"\"\"The \n",
    "@NHSCorps\n",
    " has a program that provides loan forgiveness for medical professionals who work in health professional shortage areas, but only 30% of the program participants serve in rural communities.\"\"\")"
   ]
  },
  {
   "cell_type": "markdown",
   "metadata": {},
   "source": [
    "#### Actual `RandPaul` Tweets"
   ]
  },
  {
   "cell_type": "code",
   "execution_count": 74,
   "metadata": {
    "scrolled": false
   },
   "outputs": [
    {
     "data": {
      "text/plain": [
       "(Category Republican, tensor(1), tensor([0.3685, 0.6315]))"
      ]
     },
     "execution_count": 74,
     "metadata": {},
     "output_type": "execute_result"
    }
   ],
   "source": [
    "learn.predict(\"\"\"I hope you'll join us September 5th at the 2019 Service Academy Information Fair and you can apply for an academy nomination on our website here\"\"\")"
   ]
  },
  {
   "cell_type": "code",
   "execution_count": 75,
   "metadata": {
    "scrolled": false
   },
   "outputs": [
    {
     "data": {
      "text/plain": [
       "(Category Republican, tensor(1), tensor([0.3248, 0.6752]))"
      ]
     },
     "execution_count": 75,
     "metadata": {},
     "output_type": "execute_result"
    }
   ],
   "source": [
    "learn.predict(\"\"\"“What do Panamanian frogs, an abandoned Civil War-era mental hospital, and the Pakistani film industry have in common? Your tax dollars were spent to support each of them.”\"\"\")"
   ]
  },
  {
   "cell_type": "code",
   "execution_count": 76,
   "metadata": {
    "scrolled": false
   },
   "outputs": [
    {
     "data": {
      "text/plain": [
       "(Category Democrat, tensor(0), tensor([0.5694, 0.4306]))"
      ]
     },
     "execution_count": 76,
     "metadata": {},
     "output_type": "execute_result"
    }
   ],
   "source": [
    "learn.predict(\"\"\"It’s interesting several of the U.S. Senators now wanting to travel to Russia voted against allowing Russian legislators to travel to the United States. \n",
    "@realDonaldTrump\n",
    " is right to want diplomacy.\"\"\")"
   ]
  },
  {
   "cell_type": "code",
   "execution_count": 77,
   "metadata": {
    "scrolled": false
   },
   "outputs": [
    {
     "data": {
      "text/plain": [
       "(Category Democrat, tensor(0), tensor([0.5225, 0.4775]))"
      ]
     },
     "execution_count": 77,
     "metadata": {},
     "output_type": "execute_result"
    }
   ],
   "source": [
    "learn.predict(\"\"\"The topics touched on during the roundtable prove how appropriately organizing the event allowed the local community’s real problems, strengths and desires to take center stage.\"\"\")"
   ]
  },
  {
   "cell_type": "code",
   "execution_count": 78,
   "metadata": {
    "scrolled": true
   },
   "outputs": [
    {
     "data": {
      "text/plain": [
       "(Category Democrat, tensor(0), tensor([0.5065, 0.4935]))"
      ]
     },
     "execution_count": 78,
     "metadata": {},
     "output_type": "execute_result"
    }
   ],
   "source": [
    "learn.predict(\"\"\"RIP to a man who lived a life of liberty, peace and philanthropy. Great blessings being great responsibility, and David Koch lived that way. His many contributions will have lasting impact on our country. My thoughts are with his family today.\"\"\")"
   ]
  },
  {
   "cell_type": "code",
   "execution_count": 79,
   "metadata": {
    "scrolled": true
   },
   "outputs": [
    {
     "data": {
      "text/plain": [
       "(Category Republican, tensor(1), tensor([0.0675, 0.9325]))"
      ]
     },
     "execution_count": 79,
     "metadata": {},
     "output_type": "execute_result"
    }
   ],
   "source": [
    "learn.predict(\"\"\"Congratulations to Bowling Green East on their win against Australia at Little League World Series!\"\"\")"
   ]
  },
  {
   "cell_type": "code",
   "execution_count": 80,
   "metadata": {
    "scrolled": true
   },
   "outputs": [
    {
     "data": {
      "text/plain": [
       "(Category Democrat, tensor(0), tensor([0.9259, 0.0741]))"
      ]
     },
     "execution_count": 80,
     "metadata": {},
     "output_type": "execute_result"
    }
   ],
   "source": [
    "learn.predict(\"\"\"Obama got a Nobel Peace Prize and subsequently sent 100,000 US troops to ramp up war in Afghanistan. If \n",
    "@realDonaldTrump\n",
    " ends the war, the Nobel Committee should retrieve Obama’s peace prize and give it to Trump!\n",
    "\"\"\")"
   ]
  },
  {
   "cell_type": "code",
   "execution_count": 81,
   "metadata": {
    "scrolled": true
   },
   "outputs": [
    {
     "data": {
      "text/plain": [
       "(Category Republican, tensor(1), tensor([0.1844, 0.8156]))"
      ]
     },
     "execution_count": 81,
     "metadata": {},
     "output_type": "execute_result"
    }
   ],
   "source": [
    "learn.predict(\"\"\"Today I joined \n",
    "@FoxNews\n",
    " with my wife \n",
    "@KelleyAshbyPaul\n",
    " to discuss my surgery and recovery. Watch the full interview here: https://youtu.be/oIkSoo68JGM\"\"\")"
   ]
  },
  {
   "cell_type": "code",
   "execution_count": 82,
   "metadata": {
    "scrolled": true
   },
   "outputs": [
    {
     "data": {
      "text/plain": [
       "(Category Republican, tensor(1), tensor([0.0214, 0.9786]))"
      ]
     },
     "execution_count": 82,
     "metadata": {},
     "output_type": "execute_result"
    }
   ],
   "source": [
    "learn.predict(\"\"\"I have proposed spending cut after spending cut. When will congress stop the reckless spending?\"\"\")"
   ]
  },
  {
   "cell_type": "code",
   "execution_count": 83,
   "metadata": {
    "scrolled": true
   },
   "outputs": [
    {
     "data": {
      "text/plain": [
       "(Category Republican, tensor(1), tensor([0.0296, 0.9704]))"
      ]
     },
     "execution_count": 83,
     "metadata": {},
     "output_type": "execute_result"
    }
   ],
   "source": [
    "learn.predict(\"\"\"I have and will continue to fight to cut spending. This is out of control.\"\"\")"
   ]
  },
  {
   "cell_type": "code",
   "execution_count": 84,
   "metadata": {
    "scrolled": true
   },
   "outputs": [
    {
     "data": {
      "text/plain": [
       "(Category Republican, tensor(1), tensor([0.2291, 0.7709]))"
      ]
     },
     "execution_count": 84,
     "metadata": {},
     "output_type": "execute_result"
    }
   ],
   "source": [
    "learn.predict(\"\"\"Great to see so many friendly faces at my first public event since my surgery! I was in Williamsburg, KY today for the Southern KY Chamber of Commerce luncheon and enjoyed speaking and taking questions from those in attendance\"\"\")"
   ]
  },
  {
   "cell_type": "markdown",
   "metadata": {},
   "source": [
    "### Ideology Score"
   ]
  },
  {
   "cell_type": "markdown",
   "metadata": {},
   "source": [
    "Govtrack, https://www.govtrack.us/congress/members/report-cards/2018/senate/ideology calculates an `ideology` score for each member of congress. This is an attempt to rank the conservative/liberal ideology of the lawmaker. It is determined by a number factors, including the type of laws the legislator has supported. The `ideology` score ranges from 1 and 0, with 1 being the most ideologically conservative and 0 being the most liberal."
   ]
  },
  {
   "cell_type": "markdown",
   "metadata": {},
   "source": [
    "Rather than just using the blue-or-red model to classify a tweet as being from a Democratic or Republican lawmaker, would it be possible to analyze a large number of tweets at once and obtain a proxy for the expert `ideology` score calculated by Govtrack?"
   ]
  },
  {
   "cell_type": "markdown",
   "metadata": {},
   "source": [
    "The general approach is to look at many tweets from a specific member of congress, classify each tweet as being Democratic or Republican and then calculate an average. By their nature, tweets are short and may be too generic to provide much ideological 'signal'. (Though having said this, 84% accuracy for any individual tweet seems pretty good.) None-the-less, an average should cancel out the 'noise' and increase the 'signal'."
   ]
  },
  {
   "cell_type": "markdown",
   "metadata": {},
   "source": [
    "The `ideology_score` function takes a previously trained model, a tweet csv_file for a specific member of congress and returns two averages. The first is the accuracy of the classifications, i.e., what percentage of the tweets were classified as Republican. The second average is of the probabilities of each tweet being Republican. In both cases, the averages are normalized so as to be consistent with the `ideology` score provided by Govtrack, namely, the averages closer to 1 are more Republican and closer to 0 more Democratic. Additionally, the ground-truth of which party the lawmaker is a member is returned as well as the number of tweets classified."
   ]
  },
  {
   "cell_type": "code",
   "execution_count": 116,
   "metadata": {},
   "outputs": [],
   "source": [
    "def blue_red_scrore(path, learner, csv_file, col_text='text', col_party='party'):\n",
    "    df = pd.read_csv(csv_file)\n",
    "    try:\n",
    "        party = df[col_party][1]\n",
    "    except:\n",
    "        party = np.nan\n",
    "    test = TextList.from_csv(path, csv_file, col_text)\n",
    "    learner.data.add_test(test)\n",
    "    preds = learner.get_preds(ds_type=DatasetType.Test, ordered=True)[0]\n",
    "    d,r =  (sum(preds)/len(preds)).numpy().tolist()\n",
    "    clas = np.argmax(preds, axis=1)\n",
    "    clas = int(sum(clas))/len(preds)\n",
    "    return [round(clas,2), round(r,2), party, len(df[col_text]) ]"
   ]
  },
  {
   "cell_type": "markdown",
   "metadata": {},
   "source": [
    "Hillary and Trump Ideology Score"
   ]
  },
  {
   "cell_type": "code",
   "execution_count": 86,
   "metadata": {
    "scrolled": false
   },
   "outputs": [
    {
     "data": {
      "text/plain": [
       "[0.68, 0.61, nan, 2161]"
      ]
     },
     "execution_count": 86,
     "metadata": {},
     "output_type": "execute_result"
    }
   ],
   "source": [
    "blue_red_scrore(path, learn, path/'../clinton-trump-tweets/orig_tweets/realDonaldTrump.csv')"
   ]
  },
  {
   "cell_type": "code",
   "execution_count": 87,
   "metadata": {
    "scrolled": true
   },
   "outputs": [
    {
     "data": {
      "text/plain": [
       "[0.19, 0.26, nan, 2605]"
      ]
     },
     "execution_count": 87,
     "metadata": {},
     "output_type": "execute_result"
    }
   ],
   "source": [
    "blue_red_scrore(path, learn, path/'../clinton-trump-tweets/orig_tweets/hillaryclinton.csv')"
   ]
  },
  {
   "cell_type": "markdown",
   "metadata": {},
   "source": [
    "Conservative Republicans (as determined by the GovTrack ideology score)"
   ]
  },
  {
   "cell_type": "code",
   "execution_count": 235,
   "metadata": {
    "scrolled": true
   },
   "outputs": [
    {
     "data": {
      "text/plain": [
       "[0.98, 0.92, 'Republican', 1451]"
      ]
     },
     "execution_count": 235,
     "metadata": {},
     "output_type": "execute_result"
    }
   ],
   "source": [
    "blue_red_scrore(path, learn, path/'data_full/McConnellPress.csv')"
   ]
  },
  {
   "cell_type": "code",
   "execution_count": 236,
   "metadata": {
    "scrolled": false
   },
   "outputs": [
    {
     "data": {
      "text/plain": [
       "[0.97, 0.94, 'Republican', 1552]"
      ]
     },
     "execution_count": 236,
     "metadata": {},
     "output_type": "execute_result"
    }
   ],
   "source": [
    "blue_red_scrore(path, learn, path/'data_full/InhofePress.csv')"
   ]
  },
  {
   "cell_type": "code",
   "execution_count": 237,
   "metadata": {
    "scrolled": false
   },
   "outputs": [
    {
     "data": {
      "text/plain": [
       "[0.9, 0.82, 'Republican', 1712]"
      ]
     },
     "execution_count": 237,
     "metadata": {},
     "output_type": "execute_result"
    }
   ],
   "source": [
    "blue_red_scrore(path, learn, path/'data_full/SenatorEnzi.csv')"
   ]
  },
  {
   "cell_type": "code",
   "execution_count": 238,
   "metadata": {
    "scrolled": false
   },
   "outputs": [
    {
     "data": {
      "text/plain": [
       "[0.93, 0.85, 'Republican', 1928]"
      ]
     },
     "execution_count": 238,
     "metadata": {},
     "output_type": "execute_result"
    }
   ],
   "source": [
    "blue_red_scrore(path, learn, path/'data_full/SenTomCotton.csv')"
   ]
  },
  {
   "cell_type": "code",
   "execution_count": 239,
   "metadata": {
    "scrolled": false
   },
   "outputs": [
    {
     "data": {
      "text/plain": [
       "[0.93, 0.85, 'Republican', 1813]"
      ]
     },
     "execution_count": 239,
     "metadata": {},
     "output_type": "execute_result"
    }
   ],
   "source": [
    "blue_red_scrore(path, learn, path/'data_full/SenatorRounds.csv')"
   ]
  },
  {
   "cell_type": "code",
   "execution_count": 240,
   "metadata": {
    "scrolled": true
   },
   "outputs": [
    {
     "data": {
      "text/plain": [
       "[0.76, 0.69, 'Republican', 1144]"
      ]
     },
     "execution_count": 240,
     "metadata": {},
     "output_type": "execute_result"
    }
   ],
   "source": [
    "blue_red_scrore(path, learn, path/'data_full/JohnCornyn.csv')"
   ]
  },
  {
   "cell_type": "code",
   "execution_count": 241,
   "metadata": {
    "scrolled": false
   },
   "outputs": [
    {
     "data": {
      "text/plain": [
       "[0.88, 0.82, 'Republican', 1637]"
      ]
     },
     "execution_count": 241,
     "metadata": {},
     "output_type": "execute_result"
    }
   ],
   "source": [
    "blue_red_scrore(path, learn, path/'data_full/sendavidperdue.csv')"
   ]
  },
  {
   "cell_type": "code",
   "execution_count": 242,
   "metadata": {
    "scrolled": false
   },
   "outputs": [
    {
     "data": {
      "text/plain": [
       "[0.95, 0.85, 'Republican', 1080]"
      ]
     },
     "execution_count": 242,
     "metadata": {},
     "output_type": "execute_result"
    }
   ],
   "source": [
    "blue_red_scrore(path, learn, path/'data_full/SenPatRoberts.csv')"
   ]
  },
  {
   "cell_type": "markdown",
   "metadata": {},
   "source": [
    "Centrist Republicans"
   ]
  },
  {
   "cell_type": "code",
   "execution_count": 243,
   "metadata": {
    "scrolled": false
   },
   "outputs": [
    {
     "data": {
      "text/plain": [
       "[0.86, 0.77, 'Republican', 1736]"
      ]
     },
     "execution_count": 243,
     "metadata": {},
     "output_type": "execute_result"
    }
   ],
   "source": [
    "blue_red_scrore(path, learn, path/'data_full/SenatorBurr.csv')"
   ]
  },
  {
   "cell_type": "code",
   "execution_count": 244,
   "metadata": {
    "scrolled": true
   },
   "outputs": [
    {
     "data": {
      "text/plain": [
       "[0.75, 0.69, 'Republican', 1360]"
      ]
     },
     "execution_count": 244,
     "metadata": {},
     "output_type": "execute_result"
    }
   ],
   "source": [
    "blue_red_scrore(path, learn, path/'data_full/RandPaul.csv')"
   ]
  },
  {
   "cell_type": "code",
   "execution_count": 245,
   "metadata": {
    "scrolled": true
   },
   "outputs": [
    {
     "data": {
      "text/plain": [
       "[0.95, 0.87, 'Republican', 1680]"
      ]
     },
     "execution_count": 245,
     "metadata": {},
     "output_type": "execute_result"
    }
   ],
   "source": [
    "blue_red_scrore(path, learn, path/'data_full/SenShelby.csv')"
   ]
  },
  {
   "cell_type": "code",
   "execution_count": 246,
   "metadata": {
    "scrolled": true
   },
   "outputs": [
    {
     "data": {
      "text/plain": [
       "[0.86, 0.77, 'Republican', 1990]"
      ]
     },
     "execution_count": 246,
     "metadata": {},
     "output_type": "execute_result"
    }
   ],
   "source": [
    "blue_red_scrore(path, learn, path/'data_full/SenRobPortman.csv')"
   ]
  },
  {
   "cell_type": "code",
   "execution_count": 247,
   "metadata": {
    "scrolled": false
   },
   "outputs": [
    {
     "data": {
      "text/plain": [
       "[0.77, 0.72, 'Republican', 1943]"
      ]
     },
     "execution_count": 247,
     "metadata": {},
     "output_type": "execute_result"
    }
   ],
   "source": [
    "blue_red_scrore(path, learn, path/'data_full/LisaMurkowski.csv')"
   ]
  },
  {
   "cell_type": "code",
   "execution_count": 248,
   "metadata": {
    "scrolled": true
   },
   "outputs": [
    {
     "data": {
      "text/plain": [
       "[0.72, 0.7, 'Republican', 1857]"
      ]
     },
     "execution_count": 248,
     "metadata": {},
     "output_type": "execute_result"
    }
   ],
   "source": [
    "blue_red_scrore(path, learn, path/'data_full/SenatorCollins.csv')"
   ]
  },
  {
   "cell_type": "markdown",
   "metadata": {},
   "source": [
    "Centrist Democrats"
   ]
  },
  {
   "cell_type": "code",
   "execution_count": 249,
   "metadata": {
    "scrolled": false
   },
   "outputs": [
    {
     "data": {
      "text/plain": [
       "[0.29, 0.34, 'Democrat', 1894]"
      ]
     },
     "execution_count": 249,
     "metadata": {},
     "output_type": "execute_result"
    }
   ],
   "source": [
    "blue_red_scrore(path, learn, path/'data_full/Sen_JoeManchin.csv')"
   ]
  },
  {
   "cell_type": "code",
   "execution_count": 250,
   "metadata": {
    "scrolled": true
   },
   "outputs": [
    {
     "data": {
      "text/plain": [
       "[0.23, 0.29, 'Democrat', 1468]"
      ]
     },
     "execution_count": 250,
     "metadata": {},
     "output_type": "execute_result"
    }
   ],
   "source": [
    "blue_red_scrore(path, learn, path/'data_full/SenatorTester.csv')"
   ]
  },
  {
   "cell_type": "code",
   "execution_count": 251,
   "metadata": {
    "scrolled": false
   },
   "outputs": [
    {
     "data": {
      "text/plain": [
       "[0.32, 0.36, 'Democrat', 815]"
      ]
     },
     "execution_count": 251,
     "metadata": {},
     "output_type": "execute_result"
    }
   ],
   "source": [
    "blue_red_scrore(path, learn, path/'data_full/sendougjones.csv')"
   ]
  },
  {
   "cell_type": "code",
   "execution_count": 252,
   "metadata": {
    "scrolled": true
   },
   "outputs": [
    {
     "data": {
      "text/plain": [
       "[0.14, 0.22, 'Democrat', 1364]"
      ]
     },
     "execution_count": 252,
     "metadata": {},
     "output_type": "execute_result"
    }
   ],
   "source": [
    "blue_red_scrore(path, learn, path/'data_full/MarkWarner.csv')"
   ]
  },
  {
   "cell_type": "code",
   "execution_count": 253,
   "metadata": {
    "scrolled": true
   },
   "outputs": [
    {
     "data": {
      "text/plain": [
       "[0.14, 0.22, 'Democrat', 1698]"
      ]
     },
     "execution_count": 253,
     "metadata": {},
     "output_type": "execute_result"
    }
   ],
   "source": [
    "blue_red_scrore(path, learn, path/'data_full/ChrisCoons.csv')"
   ]
  },
  {
   "cell_type": "code",
   "execution_count": 254,
   "metadata": {
    "scrolled": false
   },
   "outputs": [
    {
     "data": {
      "text/plain": [
       "[0.16, 0.22, 'Democrat', 1857]"
      ]
     },
     "execution_count": 254,
     "metadata": {},
     "output_type": "execute_result"
    }
   ],
   "source": [
    "blue_red_scrore(path, learn, path/'data_full/SenatorBennet.csv')"
   ]
  },
  {
   "cell_type": "markdown",
   "metadata": {},
   "source": [
    "Liberal Democrats"
   ]
  },
  {
   "cell_type": "code",
   "execution_count": 255,
   "metadata": {
    "scrolled": false
   },
   "outputs": [
    {
     "data": {
      "text/plain": [
       "[0.04, 0.1, 'Democrat', 1808]"
      ]
     },
     "execution_count": 255,
     "metadata": {},
     "output_type": "execute_result"
    }
   ],
   "source": [
    "blue_red_scrore(path, learn, path/'data_full/SenWarren.csv')"
   ]
  },
  {
   "cell_type": "code",
   "execution_count": 256,
   "metadata": {
    "scrolled": true
   },
   "outputs": [
    {
     "data": {
      "text/plain": [
       "[0.08, 0.15, 'Democrat', 1472]"
      ]
     },
     "execution_count": 256,
     "metadata": {},
     "output_type": "execute_result"
    }
   ],
   "source": [
    "blue_red_scrore(path, learn, path/'data_full/SenMarkey.csv')"
   ]
  },
  {
   "cell_type": "code",
   "execution_count": 257,
   "metadata": {
    "scrolled": false
   },
   "outputs": [
    {
     "data": {
      "text/plain": [
       "[0.03, 0.1, 'Democrat', 1878]"
      ]
     },
     "execution_count": 257,
     "metadata": {},
     "output_type": "execute_result"
    }
   ],
   "source": [
    "blue_red_scrore(path, learn, path/'data_full/SenKamalaHarris.csv')"
   ]
  },
  {
   "cell_type": "code",
   "execution_count": 258,
   "metadata": {
    "scrolled": true
   },
   "outputs": [
    {
     "data": {
      "text/plain": [
       "[0.06, 0.12, 'Democrat', 1515]"
      ]
     },
     "execution_count": 258,
     "metadata": {},
     "output_type": "execute_result"
    }
   ],
   "source": [
    "blue_red_scrore(path, learn, path/'data_full/SenJeffMerkley.csv')"
   ]
  },
  {
   "cell_type": "code",
   "execution_count": 259,
   "metadata": {
    "scrolled": true
   },
   "outputs": [
    {
     "data": {
      "text/plain": [
       "[0.05, 0.12, 'Democrat', 1631]"
      ]
     },
     "execution_count": 259,
     "metadata": {},
     "output_type": "execute_result"
    }
   ],
   "source": [
    "blue_red_scrore(path, learn, path/'data_full/SenSanders.csv')"
   ]
  },
  {
   "cell_type": "code",
   "execution_count": 117,
   "metadata": {
    "scrolled": false
   },
   "outputs": [
    {
     "data": {
      "text/plain": [
       "[0.05, 0.13, 'Democrat', 535]"
      ]
     },
     "execution_count": 117,
     "metadata": {},
     "output_type": "execute_result"
    }
   ],
   "source": [
    "blue_red_scrore(path, learn, path/'data_full/GillibrandNY.csv')"
   ]
  },
  {
   "cell_type": "markdown",
   "metadata": {},
   "source": [
    "### Ideological Scores of Members of Congress"
   ]
  },
  {
   "cell_type": "code",
   "execution_count": 373,
   "metadata": {},
   "outputs": [],
   "source": [
    "#Calculate all ideology scores contained in \"data_full/\" and save as \"data_ful.csv\"\n",
    "# ! ipython ideology_scores.py"
   ]
  },
  {
   "cell_type": "code",
   "execution_count": 358,
   "metadata": {},
   "outputs": [],
   "source": [
    "df = pd.read_csv(\"data_full.csv\")"
   ]
  },
  {
   "cell_type": "code",
   "execution_count": 372,
   "metadata": {
    "scrolled": true
   },
   "outputs": [
    {
     "data": {
      "text/plain": [
       "array([[<matplotlib.axes._subplots.AxesSubplot object at 0x7f816db16cf8>]], dtype=object)"
      ]
     },
     "execution_count": 372,
     "metadata": {},
     "output_type": "execute_result"
    },
    {
     "data": {
      "image/png": "[encoded data removed]",
      "text/plain": [
       "<Figure size 432x288 with 1 Axes>"
      ]
     },
     "metadata": {
      "needs_background": "light"
     },
     "output_type": "display_data"
    }
   ],
   "source": [
    "df.hist(\"id1\",bins=50)"
   ]
  },
  {
   "cell_type": "markdown",
   "metadata": {},
   "source": [
    "### 0=Most Democratic and 1=Most Republican"
   ]
  },
  {
   "cell_type": "markdown",
   "metadata": {},
   "source": [
    "### Ideological Scores of Media Organizations"
   ]
  },
  {
   "cell_type": "markdown",
   "metadata": {},
   "source": [
    "https://www.quora.com/Which-media-outlets-in-the-USA-are-right-wing-and-which-are-left-wing"
   ]
  },
  {
   "cell_type": "code",
   "execution_count": 375,
   "metadata": {},
   "outputs": [],
   "source": [
    "df = pd.read_csv(\"data_media.csv\")"
   ]
  },
  {
   "cell_type": "code",
   "execution_count": 398,
   "metadata": {},
   "outputs": [
    {
     "data": {
      "text/plain": [
       "<matplotlib.axes._subplots.AxesSubplot at 0x7f814bf1ab70>"
      ]
     },
     "execution_count": 398,
     "metadata": {},
     "output_type": "execute_result"
    },
    {
     "data": {
      "image/png": "[encoded data removed]",
      "text/plain": [
       "<Figure size 2160x1440 with 1 Axes>"
      ]
     },
     "metadata": {
      "needs_background": "light"
     },
     "output_type": "display_data"
    }
   ],
   "source": [
    "df.plot.barh(y='id1',x='handle',figsize=(30,20),fontsize=25)"
   ]
  },
  {
   "cell_type": "markdown",
   "metadata": {},
   "source": [
    "### Ideology Score of Large Banks"
   ]
  },
  {
   "cell_type": "markdown",
   "metadata": {},
   "source": [
    "#### 0 is progressive, 1 is conservative"
   ]
  },
  {
   "cell_type": "code",
   "execution_count": 109,
   "metadata": {},
   "outputs": [],
   "source": [
    "df = pd.read_csv(\"data_banks.csv\")"
   ]
  },
  {
   "cell_type": "code",
   "execution_count": 110,
   "metadata": {
    "scrolled": false
   },
   "outputs": [
    {
     "data": {
      "text/plain": [
       "<matplotlib.axes._subplots.AxesSubplot at 0x7f982160f0b8>"
      ]
     },
     "execution_count": 110,
     "metadata": {},
     "output_type": "execute_result"
    },
    {
     "data": {
      "image/png": "[encoded data removed]",
      "text/plain": [
       "<Figure size 2160x1440 with 1 Axes>"
      ]
     },
     "metadata": {
      "needs_background": "light"
     },
     "output_type": "display_data"
    }
   ],
   "source": [
    "df.plot.barh(y='id1',x='handle',figsize=(30,20),fontsize=25)"
   ]
  },
  {
   "cell_type": "code",
   "execution_count": null,
   "metadata": {},
   "outputs": [],
   "source": []
  }
 ],
 "metadata": {
  "kernelspec": {
   "display_name": "Python 3 (ipykernel)",
   "language": "python",
   "name": "python3"
  },
  "language_info": {
   "codemirror_mode": {
    "name": "ipython",
    "version": 3
   },
   "file_extension": ".py",
   "mimetype": "text/x-python",
   "name": "python",
   "nbconvert_exporter": "python",
   "pygments_lexer": "ipython3",
   "version": "3.9.13"
  },
  "varInspector": {
   "cols": {
    "lenName": 16,
    "lenType": 16,
    "lenVar": 40
   },
   "kernels_config": {
    "python": {
     "delete_cmd_postfix": "",
     "delete_cmd_prefix": "del ",
     "library": "var_list.py",
     "varRefreshCmd": "print(var_dic_list())"
    },
    "r": {
     "delete_cmd_postfix": ") ",
     "delete_cmd_prefix": "rm(",
     "library": "var_list.r",
     "varRefreshCmd": "cat(var_dic_list()) "
    }
   },
   "types_to_exclude": [
    "module",
    "function",
    "builtin_function_or_method",
    "instance",
    "_Feature"
   ],
   "window_display": false
  }
 },
 "nbformat": 4,
 "nbformat_minor": 2
}
