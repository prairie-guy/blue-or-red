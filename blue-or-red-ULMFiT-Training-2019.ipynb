{
 "cells": [
  {
   "cell_type": "markdown",
   "id": "989792d0",
   "metadata": {},
   "source": [
    "## ULMFiT-2 Blue-or-Red Training: 2019 Tweets"
   ]
  },
  {
   "cell_type": "code",
   "execution_count": 1,
   "id": "5adb228d",
   "metadata": {
    "ExecuteTime": {
     "end_time": "2022-06-09T21:27:25.574731Z",
     "start_time": "2022-06-09T21:27:23.362204Z"
    }
   },
   "outputs": [],
   "source": [
    "from fastai.text.all import *\n",
    "from rich import inspect"
   ]
  },
  {
   "cell_type": "code",
   "execution_count": 2,
   "id": "68ee0d2a",
   "metadata": {
    "ExecuteTime": {
     "end_time": "2022-06-09T21:27:27.441884Z",
     "start_time": "2022-06-09T21:27:27.434926Z"
    }
   },
   "outputs": [],
   "source": [
    "import warnings\n",
    "warnings.simplefilter(action='ignore', category=FutureWarning)"
   ]
  },
  {
   "cell_type": "code",
   "execution_count": 4,
   "id": "0d4e645c",
   "metadata": {
    "ExecuteTime": {
     "end_time": "2022-06-09T21:29:24.540976Z",
     "start_time": "2022-06-09T21:29:24.533922Z"
    }
   },
   "outputs": [],
   "source": [
    "from ideology_utils import *"
   ]
  },
  {
   "cell_type": "code",
   "execution_count": 15,
   "id": "0fdb9709",
   "metadata": {
    "ExecuteTime": {
     "end_time": "2022-06-09T21:36:47.466800Z",
     "start_time": "2022-06-09T21:36:47.460785Z"
    }
   },
   "outputs": [],
   "source": [
    "path = Path()\n",
    "path_19 = '/home/cdaniels/fastai-projects/blue-or-red/data_full'"
   ]
  },
  {
   "cell_type": "code",
   "execution_count": 16,
   "id": "bf8b8f8a",
   "metadata": {
    "ExecuteTime": {
     "end_time": "2022-06-09T21:36:53.749336Z",
     "start_time": "2022-06-09T21:36:52.458530Z"
    }
   },
   "outputs": [],
   "source": [
    "df = pd.read_csv(\"blue_red_training_valid_2019.csv\")"
   ]
  },
  {
   "cell_type": "markdown",
   "id": "cfe5bacc",
   "metadata": {},
   "source": [
    "#### Preprocess each of the tweets"
   ]
  },
  {
   "cell_type": "code",
   "execution_count": 19,
   "id": "7b225a5c",
   "metadata": {
    "ExecuteTime": {
     "end_time": "2022-06-09T21:42:38.804778Z",
     "start_time": "2022-06-09T21:42:19.281697Z"
    }
   },
   "outputs": [],
   "source": [
    "df = preprocess_tweets(df)"
   ]
  },
  {
   "cell_type": "markdown",
   "id": "49d57df9",
   "metadata": {},
   "source": [
    "#### Shuffle and create Training (which Validation) and Testing Sets"
   ]
  },
  {
   "cell_type": "code",
   "execution_count": 27,
   "id": "cbd70f4c",
   "metadata": {
    "ExecuteTime": {
     "end_time": "2022-06-09T21:48:05.088579Z",
     "start_time": "2022-06-09T21:48:04.937334Z"
    }
   },
   "outputs": [],
   "source": [
    "df = df.sample(frac=1).reset_index(drop=True)"
   ]
  },
  {
   "cell_type": "code",
   "execution_count": 30,
   "id": "9803fad8",
   "metadata": {
    "ExecuteTime": {
     "end_time": "2022-06-09T21:48:30.328320Z",
     "start_time": "2022-06-09T21:48:30.317240Z"
    }
   },
   "outputs": [
    {
     "data": {
      "text/plain": [
       "619501"
      ]
     },
     "execution_count": 30,
     "metadata": {},
     "output_type": "execute_result"
    }
   ],
   "source": [
    "n_tr = Int(.9*(len(df)))\n",
    "n_tr"
   ]
  },
  {
   "cell_type": "code",
   "execution_count": 32,
   "id": "2ebb8d58",
   "metadata": {
    "ExecuteTime": {
     "end_time": "2022-06-09T21:49:39.294592Z",
     "start_time": "2022-06-09T21:49:39.286536Z"
    }
   },
   "outputs": [],
   "source": [
    "df_train, df_test = df[:n_tr], df[n_tr+1:]"
   ]
  },
  {
   "cell_type": "markdown",
   "id": "88b35ed6",
   "metadata": {},
   "source": [
    "### Fine-tuning a language model on Congrssional Tweets from 2019"
   ]
  },
  {
   "cell_type": "code",
   "execution_count": 35,
   "id": "55c38038",
   "metadata": {
    "ExecuteTime": {
     "end_time": "2022-06-09T21:55:22.657023Z",
     "start_time": "2022-06-09T21:50:24.938108Z"
    }
   },
   "outputs": [
    {
     "data": {
      "text/html": [
       "\n",
       "<style>\n",
       "    /* Turns off some styling */\n",
       "    progress {\n",
       "        /* gets rid of default border in Firefox and Opera. */\n",
       "        border: none;\n",
       "        /* Needs to be in here for Safari polyfill so background images work as expected. */\n",
       "        background-size: auto;\n",
       "    }\n",
       "    .progress-bar-interrupted, .progress-bar-interrupted::-webkit-progress-bar {\n",
       "        background: #F44336;\n",
       "    }\n",
       "</style>\n"
      ],
      "text/plain": [
       "<IPython.core.display.HTML object>"
      ]
     },
     "metadata": {},
     "output_type": "display_data"
    },
    {
     "data": {
      "text/html": [],
      "text/plain": [
       "<IPython.core.display.HTML object>"
      ]
     },
     "metadata": {},
     "output_type": "display_data"
    }
   ],
   "source": [
    "dls_lm = TextDataLoaders.from_df(df_train, is_lm=True, valid_pct=0.1, bs=128)"
   ]
  },
  {
   "cell_type": "code",
   "execution_count": 36,
   "id": "0fd20fc8",
   "metadata": {
    "ExecuteTime": {
     "end_time": "2022-06-09T21:55:30.084888Z",
     "start_time": "2022-06-09T21:55:27.629487Z"
    },
    "scrolled": false
   },
   "outputs": [
    {
     "data": {
      "text/html": [
       "<table border=\"1\" class=\"dataframe\">\n",
       "  <thead>\n",
       "    <tr style=\"text-align: right;\">\n",
       "      <th></th>\n",
       "      <th>text</th>\n",
       "      <th>text_</th>\n",
       "    </tr>\n",
       "  </thead>\n",
       "  <tbody>\n",
       "    <tr>\n",
       "      <th>0</th>\n",
       "      <td>xxbos \" the xxmaj president has manufactured a crisis based on fear and is now holding our government hostage blatantly causing … xxbos xxmaj the # savetheinternet xxmaj act is another step @user are taking to make xxmaj washington work # forthepeople . xxmaj consumer … xxbos i was honored to be a part of the annual “ pass the xxmaj gavel ” meeting today where members of the house - senate</td>\n",
       "      <td>\" the xxmaj president has manufactured a crisis based on fear and is now holding our government hostage blatantly causing … xxbos xxmaj the # savetheinternet xxmaj act is another step @user are taking to make xxmaj washington work # forthepeople . xxmaj consumer … xxbos i was honored to be a part of the annual “ pass the xxmaj gavel ” meeting today where members of the house - senate #</td>\n",
       "    </tr>\n",
       "    <tr>\n",
       "      <th>1</th>\n",
       "      <td>xxup xxunk this morning xxbos xxmaj the race for xxmaj naval superiority is more important now than ever as # xxmaj china and other xxup u.s . adversaries continue to bui … xxbos xxmaj today was our first conference committee meeting to finalize a full - year # xxup dhs funding bill . i was honored to presen … xxbos xxmaj citizenship is a constitutionally protected right granted to anyone born in</td>\n",
       "      <td>xxunk this morning xxbos xxmaj the race for xxmaj naval superiority is more important now than ever as # xxmaj china and other xxup u.s . adversaries continue to bui … xxbos xxmaj today was our first conference committee meeting to finalize a full - year # xxup dhs funding bill . i was honored to presen … xxbos xxmaj citizenship is a constitutionally protected right granted to anyone born in the</td>\n",
       "    </tr>\n",
       "    <tr>\n",
       "      <th>2</th>\n",
       "      <td>the opioid crisis : xxbos i am working with xxmaj democrats &amp; &amp; xxmaj republicans alike to shine a light on the countless xxmaj central xxmaj ohioans who do not know w … xxbos xxmaj thanks for coming and helping me vote xxmaj xxunk . xxmaj it was a lot of fun visiting with you and your mom ! xxbos xxmaj today we will be reviewing and analyzing various bills on important</td>\n",
       "      <td>opioid crisis : xxbos i am working with xxmaj democrats &amp; &amp; xxmaj republicans alike to shine a light on the countless xxmaj central xxmaj ohioans who do not know w … xxbos xxmaj thanks for coming and helping me vote xxmaj xxunk . xxmaj it was a lot of fun visiting with you and your mom ! xxbos xxmaj today we will be reviewing and analyzing various bills on important healthcare</td>\n",
       "    </tr>\n",
       "    <tr>\n",
       "      <th>3</th>\n",
       "      <td>film xxmaj breaking xxmaj point … xxbos xxup snap is the country 's most effective anti - hunger program helping 1 in 8 xxmaj americans afford a basic diet with most r … xxbos xxmaj to compete in the world economy we need an educated skilled cyber - ready xxunk bill with @user xxbos xxmaj sen . xxmaj inhofe reads from the xxmaj old xxmaj testament passages xxunk the coming of xxmaj</td>\n",
       "      <td>xxmaj breaking xxmaj point … xxbos xxup snap is the country 's most effective anti - hunger program helping 1 in 8 xxmaj americans afford a basic diet with most r … xxbos xxmaj to compete in the world economy we need an educated skilled cyber - ready xxunk bill with @user xxbos xxmaj sen . xxmaj inhofe reads from the xxmaj old xxmaj testament passages xxunk the coming of xxmaj jesus</td>\n",
       "    </tr>\n",
       "    <tr>\n",
       "      <th>4</th>\n",
       "      <td># taxday xxbos xxmaj i ’m closely following the breaking news about the explosion in xxmaj sikeston . xxmaj everyone stay safe . xxbos # xxmaj columbine 19 yrs ago : 13 lives . # xxmaj newtown 5 yrs ago : 27 lives . # xxmaj parkland this year : 17 lives – yet xxmaj congress does noth … xxbos xxmaj happening xxmaj now : talking to @user on abc 's #</td>\n",
       "      <td>taxday xxbos xxmaj i ’m closely following the breaking news about the explosion in xxmaj sikeston . xxmaj everyone stay safe . xxbos # xxmaj columbine 19 yrs ago : 13 lives . # xxmaj newtown 5 yrs ago : 27 lives . # xxmaj parkland this year : 17 lives – yet xxmaj congress does noth … xxbos xxmaj happening xxmaj now : talking to @user on abc 's # thisweek</td>\n",
       "    </tr>\n",
       "  </tbody>\n",
       "</table>"
      ],
      "text/plain": [
       "<IPython.core.display.HTML object>"
      ]
     },
     "metadata": {},
     "output_type": "display_data"
    }
   ],
   "source": [
    "dls_lm.show_batch(max_n=5)"
   ]
  },
  {
   "cell_type": "code",
   "execution_count": 37,
   "id": "3be890a6",
   "metadata": {
    "ExecuteTime": {
     "end_time": "2022-06-09T21:55:42.583029Z",
     "start_time": "2022-06-09T21:55:36.687407Z"
    }
   },
   "outputs": [],
   "source": [
    "learn = language_model_learner(dls_lm, AWD_LSTM, metrics=[accuracy, Perplexity()], path=path, wd=0.1).to_fp16()"
   ]
  },
  {
   "cell_type": "code",
   "execution_count": 39,
   "id": "f36078df",
   "metadata": {
    "ExecuteTime": {
     "end_time": "2022-06-09T21:59:26.678056Z",
     "start_time": "2022-06-09T21:57:45.020394Z"
    },
    "scrolled": true
   },
   "outputs": [
    {
     "data": {
      "text/html": [
       "\n",
       "<style>\n",
       "    /* Turns off some styling */\n",
       "    progress {\n",
       "        /* gets rid of default border in Firefox and Opera. */\n",
       "        border: none;\n",
       "        /* Needs to be in here for Safari polyfill so background images work as expected. */\n",
       "        background-size: auto;\n",
       "    }\n",
       "    .progress-bar-interrupted, .progress-bar-interrupted::-webkit-progress-bar {\n",
       "        background: #F44336;\n",
       "    }\n",
       "</style>\n"
      ],
      "text/plain": [
       "<IPython.core.display.HTML object>"
      ]
     },
     "metadata": {},
     "output_type": "display_data"
    },
    {
     "data": {
      "text/html": [],
      "text/plain": [
       "<IPython.core.display.HTML object>"
      ]
     },
     "metadata": {},
     "output_type": "display_data"
    },
    {
     "data": {
      "text/plain": [
       "SuggestedLRs(valley=0.007585775572806597)"
      ]
     },
     "execution_count": 39,
     "metadata": {},
     "output_type": "execute_result"
    },
    {
     "data": {
      "image/png": "[encoded data removed]",
      "text/plain": [
       "<Figure size 432x288 with 1 Axes>"
      ]
     },
     "metadata": {
      "needs_background": "light"
     },
     "output_type": "display_data"
    }
   ],
   "source": [
    "learn.lr_find()"
   ]
  },
  {
   "cell_type": "code",
   "execution_count": 42,
   "id": "a29dc5ba",
   "metadata": {
    "ExecuteTime": {
     "end_time": "2022-06-09T22:27:09.695665Z",
     "start_time": "2022-06-09T22:01:59.490934Z"
    },
    "scrolled": true
   },
   "outputs": [
    {
     "data": {
      "text/html": [
       "\n",
       "<style>\n",
       "    /* Turns off some styling */\n",
       "    progress {\n",
       "        /* gets rid of default border in Firefox and Opera. */\n",
       "        border: none;\n",
       "        /* Needs to be in here for Safari polyfill so background images work as expected. */\n",
       "        background-size: auto;\n",
       "    }\n",
       "    .progress-bar-interrupted, .progress-bar-interrupted::-webkit-progress-bar {\n",
       "        background: #F44336;\n",
       "    }\n",
       "</style>\n"
      ],
      "text/plain": [
       "<IPython.core.display.HTML object>"
      ]
     },
     "metadata": {},
     "output_type": "display_data"
    },
    {
     "data": {
      "text/html": [
       "<table border=\"1\" class=\"dataframe\">\n",
       "  <thead>\n",
       "    <tr style=\"text-align: left;\">\n",
       "      <th>epoch</th>\n",
       "      <th>train_loss</th>\n",
       "      <th>valid_loss</th>\n",
       "      <th>accuracy</th>\n",
       "      <th>perplexity</th>\n",
       "      <th>time</th>\n",
       "    </tr>\n",
       "  </thead>\n",
       "  <tbody>\n",
       "    <tr>\n",
       "      <td>0</td>\n",
       "      <td>3.982595</td>\n",
       "      <td>3.674936</td>\n",
       "      <td>0.351246</td>\n",
       "      <td>39.446117</td>\n",
       "      <td>25:10</td>\n",
       "    </tr>\n",
       "  </tbody>\n",
       "</table>"
      ],
      "text/plain": [
       "<IPython.core.display.HTML object>"
      ]
     },
     "metadata": {},
     "output_type": "display_data"
    }
   ],
   "source": [
    "learn.fit_one_cycle(1, .008)"
   ]
  },
  {
   "cell_type": "code",
   "execution_count": 43,
   "id": "25a14646",
   "metadata": {
    "ExecuteTime": {
     "end_time": "2022-06-09T23:44:35.784946Z",
     "start_time": "2022-06-09T22:27:21.598311Z"
    },
    "scrolled": false
   },
   "outputs": [
    {
     "data": {
      "text/html": [
       "\n",
       "<style>\n",
       "    /* Turns off some styling */\n",
       "    progress {\n",
       "        /* gets rid of default border in Firefox and Opera. */\n",
       "        border: none;\n",
       "        /* Needs to be in here for Safari polyfill so background images work as expected. */\n",
       "        background-size: auto;\n",
       "    }\n",
       "    .progress-bar-interrupted, .progress-bar-interrupted::-webkit-progress-bar {\n",
       "        background: #F44336;\n",
       "    }\n",
       "</style>\n"
      ],
      "text/plain": [
       "<IPython.core.display.HTML object>"
      ]
     },
     "metadata": {},
     "output_type": "display_data"
    },
    {
     "data": {
      "text/html": [
       "<table border=\"1\" class=\"dataframe\">\n",
       "  <thead>\n",
       "    <tr style=\"text-align: left;\">\n",
       "      <th>epoch</th>\n",
       "      <th>train_loss</th>\n",
       "      <th>valid_loss</th>\n",
       "      <th>accuracy</th>\n",
       "      <th>perplexity</th>\n",
       "      <th>time</th>\n",
       "    </tr>\n",
       "  </thead>\n",
       "  <tbody>\n",
       "    <tr>\n",
       "      <td>0</td>\n",
       "      <td>3.580788</td>\n",
       "      <td>3.422384</td>\n",
       "      <td>0.377247</td>\n",
       "      <td>30.642372</td>\n",
       "      <td>25:38</td>\n",
       "    </tr>\n",
       "    <tr>\n",
       "      <td>1</td>\n",
       "      <td>3.384612</td>\n",
       "      <td>3.224929</td>\n",
       "      <td>0.397713</td>\n",
       "      <td>25.151791</td>\n",
       "      <td>25:45</td>\n",
       "    </tr>\n",
       "    <tr>\n",
       "      <td>2</td>\n",
       "      <td>3.200127</td>\n",
       "      <td>3.104323</td>\n",
       "      <td>0.412283</td>\n",
       "      <td>22.294119</td>\n",
       "      <td>25:50</td>\n",
       "    </tr>\n",
       "  </tbody>\n",
       "</table>"
      ],
      "text/plain": [
       "<IPython.core.display.HTML object>"
      ]
     },
     "metadata": {},
     "output_type": "display_data"
    },
    {
     "name": "stderr",
     "output_type": "stream",
     "text": [
      "IOPub message rate exceeded.\n",
      "The notebook server will temporarily stop sending output\n",
      "to the client in order to avoid crashing it.\n",
      "To change this limit, set the config variable\n",
      "`--NotebookApp.iopub_msg_rate_limit`.\n",
      "\n",
      "Current values:\n",
      "NotebookApp.iopub_msg_rate_limit=1000.0 (msgs/sec)\n",
      "NotebookApp.rate_limit_window=3.0 (secs)\n",
      "\n"
     ]
    }
   ],
   "source": [
    "learn.unfreeze()\n",
    "learn.fit_one_cycle(3, .008)"
   ]
  },
  {
   "cell_type": "code",
   "execution_count": 44,
   "id": "eb62a92f",
   "metadata": {
    "ExecuteTime": {
     "end_time": "2022-06-09T23:44:36.134701Z",
     "start_time": "2022-06-09T23:44:35.848373Z"
    }
   },
   "outputs": [],
   "source": [
    "learn.save_encoder('ulmfit-lm-2019')"
   ]
  },
  {
   "cell_type": "markdown",
   "id": "6097a6eb",
   "metadata": {},
   "source": [
    "### Training a text classifier"
   ]
  },
  {
   "cell_type": "code",
   "execution_count": 58,
   "id": "0bb4b7f1",
   "metadata": {
    "ExecuteTime": {
     "end_time": "2022-06-10T02:43:45.138514Z",
     "start_time": "2022-06-10T02:34:49.057965Z"
    }
   },
   "outputs": [
    {
     "data": {
      "text/html": [
       "\n",
       "<style>\n",
       "    /* Turns off some styling */\n",
       "    progress {\n",
       "        /* gets rid of default border in Firefox and Opera. */\n",
       "        border: none;\n",
       "        /* Needs to be in here for Safari polyfill so background images work as expected. */\n",
       "        background-size: auto;\n",
       "    }\n",
       "    .progress-bar-interrupted, .progress-bar-interrupted::-webkit-progress-bar {\n",
       "        background: #F44336;\n",
       "    }\n",
       "</style>\n"
      ],
      "text/plain": [
       "<IPython.core.display.HTML object>"
      ]
     },
     "metadata": {},
     "output_type": "display_data"
    },
    {
     "data": {
      "text/html": [],
      "text/plain": [
       "<IPython.core.display.HTML object>"
      ]
     },
     "metadata": {},
     "output_type": "display_data"
    }
   ],
   "source": [
    "dls_clas = TextDataLoaders.from_df(df_train, valid_pct=.2, text_col='text', label='party',           text_vocab=dls_lm.vocab, bs=128)"
   ]
  },
  {
   "cell_type": "code",
   "execution_count": 59,
   "id": "2e520cc3",
   "metadata": {
    "ExecuteTime": {
     "end_time": "2022-06-10T02:43:50.904650Z",
     "start_time": "2022-06-10T02:43:49.673982Z"
    }
   },
   "outputs": [],
   "source": [
    "learn = text_classifier_learner(dls_clas, AWD_LSTM, drop_mult=0.5, metrics=accuracy)"
   ]
  },
  {
   "cell_type": "code",
   "execution_count": 60,
   "id": "8d6c4fd0",
   "metadata": {
    "ExecuteTime": {
     "end_time": "2022-06-10T02:44:10.588948Z",
     "start_time": "2022-06-10T02:44:10.434510Z"
    }
   },
   "outputs": [],
   "source": [
    "learn = learn.load_encoder('ulmfit-lm-2019')"
   ]
  },
  {
   "cell_type": "code",
   "execution_count": 61,
   "id": "df26e79c",
   "metadata": {
    "ExecuteTime": {
     "end_time": "2022-06-10T02:44:32.295766Z",
     "start_time": "2022-06-10T02:44:27.033445Z"
    }
   },
   "outputs": [
    {
     "data": {
      "text/html": [
       "\n",
       "<style>\n",
       "    /* Turns off some styling */\n",
       "    progress {\n",
       "        /* gets rid of default border in Firefox and Opera. */\n",
       "        border: none;\n",
       "        /* Needs to be in here for Safari polyfill so background images work as expected. */\n",
       "        background-size: auto;\n",
       "    }\n",
       "    .progress-bar-interrupted, .progress-bar-interrupted::-webkit-progress-bar {\n",
       "        background: #F44336;\n",
       "    }\n",
       "</style>\n"
      ],
      "text/plain": [
       "<IPython.core.display.HTML object>"
      ]
     },
     "metadata": {},
     "output_type": "display_data"
    },
    {
     "data": {
      "text/html": [],
      "text/plain": [
       "<IPython.core.display.HTML object>"
      ]
     },
     "metadata": {},
     "output_type": "display_data"
    },
    {
     "data": {
      "text/plain": [
       "SuggestedLRs(valley=0.0010000000474974513)"
      ]
     },
     "execution_count": 61,
     "metadata": {},
     "output_type": "execute_result"
    },
    {
     "data": {
      "image/png": "[encoded data removed]",
      "text/plain": [
       "<Figure size 432x288 with 1 Axes>"
      ]
     },
     "metadata": {
      "needs_background": "light"
     },
     "output_type": "display_data"
    }
   ],
   "source": [
    "learn.lr_find()"
   ]
  },
  {
   "cell_type": "code",
   "execution_count": 62,
   "id": "2d6a80e7",
   "metadata": {
    "ExecuteTime": {
     "end_time": "2022-06-10T02:48:56.030180Z",
     "start_time": "2022-06-10T02:45:05.213552Z"
    }
   },
   "outputs": [
    {
     "data": {
      "text/html": [
       "\n",
       "<style>\n",
       "    /* Turns off some styling */\n",
       "    progress {\n",
       "        /* gets rid of default border in Firefox and Opera. */\n",
       "        border: none;\n",
       "        /* Needs to be in here for Safari polyfill so background images work as expected. */\n",
       "        background-size: auto;\n",
       "    }\n",
       "    .progress-bar-interrupted, .progress-bar-interrupted::-webkit-progress-bar {\n",
       "        background: #F44336;\n",
       "    }\n",
       "</style>\n"
      ],
      "text/plain": [
       "<IPython.core.display.HTML object>"
      ]
     },
     "metadata": {},
     "output_type": "display_data"
    },
    {
     "data": {
      "text/html": [
       "<table border=\"1\" class=\"dataframe\">\n",
       "  <thead>\n",
       "    <tr style=\"text-align: left;\">\n",
       "      <th>epoch</th>\n",
       "      <th>train_loss</th>\n",
       "      <th>valid_loss</th>\n",
       "      <th>accuracy</th>\n",
       "      <th>time</th>\n",
       "    </tr>\n",
       "  </thead>\n",
       "  <tbody>\n",
       "    <tr>\n",
       "      <td>0</td>\n",
       "      <td>0.570631</td>\n",
       "      <td>0.537363</td>\n",
       "      <td>0.717579</td>\n",
       "      <td>01:54</td>\n",
       "    </tr>\n",
       "    <tr>\n",
       "      <td>1</td>\n",
       "      <td>0.541811</td>\n",
       "      <td>0.520039</td>\n",
       "      <td>0.728580</td>\n",
       "      <td>01:55</td>\n",
       "    </tr>\n",
       "  </tbody>\n",
       "</table>"
      ],
      "text/plain": [
       "<IPython.core.display.HTML object>"
      ]
     },
     "metadata": {},
     "output_type": "display_data"
    }
   ],
   "source": [
    "learn.fit_one_cycle(2, 2e-2)"
   ]
  },
  {
   "cell_type": "code",
   "execution_count": 63,
   "id": "5d562fa2",
   "metadata": {
    "ExecuteTime": {
     "end_time": "2022-06-10T02:56:26.125405Z",
     "start_time": "2022-06-10T02:49:57.430753Z"
    }
   },
   "outputs": [
    {
     "data": {
      "text/html": [
       "\n",
       "<style>\n",
       "    /* Turns off some styling */\n",
       "    progress {\n",
       "        /* gets rid of default border in Firefox and Opera. */\n",
       "        border: none;\n",
       "        /* Needs to be in here for Safari polyfill so background images work as expected. */\n",
       "        background-size: auto;\n",
       "    }\n",
       "    .progress-bar-interrupted, .progress-bar-interrupted::-webkit-progress-bar {\n",
       "        background: #F44336;\n",
       "    }\n",
       "</style>\n"
      ],
      "text/plain": [
       "<IPython.core.display.HTML object>"
      ]
     },
     "metadata": {},
     "output_type": "display_data"
    },
    {
     "data": {
      "text/html": [
       "<table border=\"1\" class=\"dataframe\">\n",
       "  <thead>\n",
       "    <tr style=\"text-align: left;\">\n",
       "      <th>epoch</th>\n",
       "      <th>train_loss</th>\n",
       "      <th>valid_loss</th>\n",
       "      <th>accuracy</th>\n",
       "      <th>time</th>\n",
       "    </tr>\n",
       "  </thead>\n",
       "  <tbody>\n",
       "    <tr>\n",
       "      <td>0</td>\n",
       "      <td>0.505283</td>\n",
       "      <td>0.482395</td>\n",
       "      <td>0.752720</td>\n",
       "      <td>02:08</td>\n",
       "    </tr>\n",
       "    <tr>\n",
       "      <td>1</td>\n",
       "      <td>0.464765</td>\n",
       "      <td>0.440854</td>\n",
       "      <td>0.779524</td>\n",
       "      <td>02:09</td>\n",
       "    </tr>\n",
       "    <tr>\n",
       "      <td>2</td>\n",
       "      <td>0.450038</td>\n",
       "      <td>0.429671</td>\n",
       "      <td>0.787425</td>\n",
       "      <td>02:10</td>\n",
       "    </tr>\n",
       "  </tbody>\n",
       "</table>"
      ],
      "text/plain": [
       "<IPython.core.display.HTML object>"
      ]
     },
     "metadata": {},
     "output_type": "display_data"
    }
   ],
   "source": [
    "learn.freeze_to(-2)\n",
    "learn.fit_one_cycle(3, slice(1e-2/(2.6**4),1e-2))"
   ]
  },
  {
   "cell_type": "code",
   "execution_count": 65,
   "id": "00e7941f",
   "metadata": {
    "ExecuteTime": {
     "end_time": "2022-06-10T03:14:50.110496Z",
     "start_time": "2022-06-10T03:03:30.411321Z"
    }
   },
   "outputs": [
    {
     "data": {
      "text/html": [
       "\n",
       "<style>\n",
       "    /* Turns off some styling */\n",
       "    progress {\n",
       "        /* gets rid of default border in Firefox and Opera. */\n",
       "        border: none;\n",
       "        /* Needs to be in here for Safari polyfill so background images work as expected. */\n",
       "        background-size: auto;\n",
       "    }\n",
       "    .progress-bar-interrupted, .progress-bar-interrupted::-webkit-progress-bar {\n",
       "        background: #F44336;\n",
       "    }\n",
       "</style>\n"
      ],
      "text/plain": [
       "<IPython.core.display.HTML object>"
      ]
     },
     "metadata": {},
     "output_type": "display_data"
    },
    {
     "data": {
      "text/html": [
       "<table border=\"1\" class=\"dataframe\">\n",
       "  <thead>\n",
       "    <tr style=\"text-align: left;\">\n",
       "      <th>epoch</th>\n",
       "      <th>train_loss</th>\n",
       "      <th>valid_loss</th>\n",
       "      <th>accuracy</th>\n",
       "      <th>time</th>\n",
       "    </tr>\n",
       "  </thead>\n",
       "  <tbody>\n",
       "    <tr>\n",
       "      <td>0</td>\n",
       "      <td>0.393865</td>\n",
       "      <td>0.387677</td>\n",
       "      <td>0.810751</td>\n",
       "      <td>03:45</td>\n",
       "    </tr>\n",
       "    <tr>\n",
       "      <td>1</td>\n",
       "      <td>0.346702</td>\n",
       "      <td>0.369757</td>\n",
       "      <td>0.823341</td>\n",
       "      <td>03:46</td>\n",
       "    </tr>\n",
       "    <tr>\n",
       "      <td>2</td>\n",
       "      <td>0.291523</td>\n",
       "      <td>0.378272</td>\n",
       "      <td>0.827401</td>\n",
       "      <td>03:47</td>\n",
       "    </tr>\n",
       "  </tbody>\n",
       "</table>"
      ],
      "text/plain": [
       "<IPython.core.display.HTML object>"
      ]
     },
     "metadata": {},
     "output_type": "display_data"
    }
   ],
   "source": [
    "learn.freeze_to(-5)\n",
    "learn.fit_one_cycle(4, slice(5e-3/(2.6**4),5e-3))"
   ]
  },
  {
   "cell_type": "code",
   "execution_count": 67,
   "id": "0545721f",
   "metadata": {
    "ExecuteTime": {
     "end_time": "2022-06-10T03:16:56.054490Z",
     "start_time": "2022-06-10T03:16:55.241719Z"
    }
   },
   "outputs": [
    {
     "data": {
      "text/plain": [
       "Path('models/clss-fifth-2019.pth')"
      ]
     },
     "execution_count": 67,
     "metadata": {},
     "output_type": "execute_result"
    }
   ],
   "source": [
    "learn.save(\"clss-fifth-2019\")"
   ]
  },
  {
   "cell_type": "code",
   "execution_count": 68,
   "id": "07ab5031",
   "metadata": {
    "ExecuteTime": {
     "end_time": "2022-06-10T03:24:34.670806Z",
     "start_time": "2022-06-10T03:17:02.936661Z"
    }
   },
   "outputs": [
    {
     "data": {
      "text/html": [
       "\n",
       "<style>\n",
       "    /* Turns off some styling */\n",
       "    progress {\n",
       "        /* gets rid of default border in Firefox and Opera. */\n",
       "        border: none;\n",
       "        /* Needs to be in here for Safari polyfill so background images work as expected. */\n",
       "        background-size: auto;\n",
       "    }\n",
       "    .progress-bar-interrupted, .progress-bar-interrupted::-webkit-progress-bar {\n",
       "        background: #F44336;\n",
       "    }\n",
       "</style>\n"
      ],
      "text/plain": [
       "<IPython.core.display.HTML object>"
      ]
     },
     "metadata": {},
     "output_type": "display_data"
    },
    {
     "data": {
      "text/html": [
       "<table border=\"1\" class=\"dataframe\">\n",
       "  <thead>\n",
       "    <tr style=\"text-align: left;\">\n",
       "      <th>epoch</th>\n",
       "      <th>train_loss</th>\n",
       "      <th>valid_loss</th>\n",
       "      <th>accuracy</th>\n",
       "      <th>time</th>\n",
       "    </tr>\n",
       "  </thead>\n",
       "  <tbody>\n",
       "    <tr>\n",
       "      <td>0</td>\n",
       "      <td>0.281420</td>\n",
       "      <td>0.386347</td>\n",
       "      <td>0.827950</td>\n",
       "      <td>03:43</td>\n",
       "    </tr>\n",
       "    <tr>\n",
       "      <td>1</td>\n",
       "      <td>0.257919</td>\n",
       "      <td>0.393477</td>\n",
       "      <td>0.828563</td>\n",
       "      <td>03:47</td>\n",
       "    </tr>\n",
       "  </tbody>\n",
       "</table>"
      ],
      "text/plain": [
       "<IPython.core.display.HTML object>"
      ]
     },
     "metadata": {},
     "output_type": "display_data"
    }
   ],
   "source": [
    "learn.unfreeze()\n",
    "learn.fit_one_cycle(2, slice(1e-3/(2.6**4),1e-3))"
   ]
  },
  {
   "cell_type": "code",
   "execution_count": 69,
   "id": "8daecaae",
   "metadata": {
    "ExecuteTime": {
     "end_time": "2022-06-10T03:25:00.237613Z",
     "start_time": "2022-06-10T03:24:52.266173Z"
    }
   },
   "outputs": [],
   "source": [
    "learn.export(\"ulmfit-2019.pkl\")"
   ]
  },
  {
   "cell_type": "markdown",
   "id": "6fc06093",
   "metadata": {},
   "source": [
    "### Evaluate Against Test Set"
   ]
  },
  {
   "cell_type": "code",
   "execution_count": 135,
   "id": "79f0feba",
   "metadata": {
    "ExecuteTime": {
     "end_time": "2022-06-10T04:09:18.273757Z",
     "start_time": "2022-06-10T04:08:01.560180Z"
    }
   },
   "outputs": [],
   "source": [
    "dl_test = learn.dls.test_dl(df_test, with_labels=True)"
   ]
  },
  {
   "cell_type": "code",
   "execution_count": 138,
   "id": "69519b41",
   "metadata": {
    "ExecuteTime": {
     "end_time": "2022-06-10T04:11:43.477976Z",
     "start_time": "2022-06-10T04:11:26.351114Z"
    }
   },
   "outputs": [
    {
     "data": {
      "text/html": [
       "\n",
       "<style>\n",
       "    /* Turns off some styling */\n",
       "    progress {\n",
       "        /* gets rid of default border in Firefox and Opera. */\n",
       "        border: none;\n",
       "        /* Needs to be in here for Safari polyfill so background images work as expected. */\n",
       "        background-size: auto;\n",
       "    }\n",
       "    .progress-bar-interrupted, .progress-bar-interrupted::-webkit-progress-bar {\n",
       "        background: #F44336;\n",
       "    }\n",
       "</style>\n"
      ],
      "text/plain": [
       "<IPython.core.display.HTML object>"
      ]
     },
     "metadata": {},
     "output_type": "display_data"
    },
    {
     "data": {
      "text/html": [],
      "text/plain": [
       "<IPython.core.display.HTML object>"
      ]
     },
     "metadata": {},
     "output_type": "display_data"
    }
   ],
   "source": [
    "predicts, actuals = learn.get_preds(dl = dl_test)\n",
    "predicts, actuals = np.argmax(predicts, axis=1).numpy(), actuals.numpy()"
   ]
  },
  {
   "cell_type": "code",
   "execution_count": 141,
   "id": "0cc41d16",
   "metadata": {
    "ExecuteTime": {
     "end_time": "2022-06-10T04:12:15.008140Z",
     "start_time": "2022-06-10T04:12:14.785244Z"
    }
   },
   "outputs": [
    {
     "data": {
      "text/plain": [
       "0.8273357255967341"
      ]
     },
     "execution_count": 141,
     "metadata": {},
     "output_type": "execute_result"
    }
   ],
   "source": [
    "sum(predicts == actuals)/len(predicts)"
   ]
  },
  {
   "cell_type": "markdown",
   "id": "7122addd",
   "metadata": {},
   "source": [
    "The **82.7%** accuracy of the model predictions on the **Test Data** is nearly identical to that of the accuracy model prediction on the **Training Data.**"
   ]
  },
  {
   "cell_type": "markdown",
   "id": "ebece752",
   "metadata": {},
   "source": [
    "###  Load Model"
   ]
  },
  {
   "cell_type": "code",
   "execution_count": 56,
   "id": "9eff8250",
   "metadata": {
    "ExecuteTime": {
     "end_time": "2022-06-10T02:22:05.226615Z",
     "start_time": "2022-06-10T02:22:04.503590Z"
    }
   },
   "outputs": [],
   "source": [
    "learn = load_learner(\"ulmfit-2019.pkl\")"
   ]
  },
  {
   "cell_type": "code",
   "execution_count": 162,
   "id": "66f48ce1",
   "metadata": {
    "ExecuteTime": {
     "end_time": "2022-06-10T04:37:54.528045Z",
     "start_time": "2022-06-10T04:37:39.569490Z"
    },
    "scrolled": false
   },
   "outputs": [
    {
     "data": {
      "text/html": [
       "\n",
       "<style>\n",
       "    /* Turns off some styling */\n",
       "    progress {\n",
       "        /* gets rid of default border in Firefox and Opera. */\n",
       "        border: none;\n",
       "        /* Needs to be in here for Safari polyfill so background images work as expected. */\n",
       "        background-size: auto;\n",
       "    }\n",
       "    .progress-bar-interrupted, .progress-bar-interrupted::-webkit-progress-bar {\n",
       "        background: #F44336;\n",
       "    }\n",
       "</style>\n"
      ],
      "text/plain": [
       "<IPython.core.display.HTML object>"
      ]
     },
     "metadata": {},
     "output_type": "display_data"
    },
    {
     "data": {
      "text/html": [],
      "text/plain": [
       "<IPython.core.display.HTML object>"
      ]
     },
     "metadata": {},
     "output_type": "display_data"
    },
    {
     "data": {
      "text/plain": [
       "[0.95, 0.92, 1451]"
      ]
     },
     "execution_count": 162,
     "metadata": {},
     "output_type": "execute_result"
    }
   ],
   "source": [
    "ideology_score(Path(path_19)/\"McConnellPress.csv\",\"ulmfit-2019.pkl\")"
   ]
  },
  {
   "cell_type": "code",
   "execution_count": 174,
   "id": "417fb5c0",
   "metadata": {
    "ExecuteTime": {
     "end_time": "2022-06-10T04:43:31.259712Z",
     "start_time": "2022-06-10T04:43:28.382734Z"
    }
   },
   "outputs": [
    {
     "data": {
      "text/html": [
       "\n",
       "<style>\n",
       "    /* Turns off some styling */\n",
       "    progress {\n",
       "        /* gets rid of default border in Firefox and Opera. */\n",
       "        border: none;\n",
       "        /* Needs to be in here for Safari polyfill so background images work as expected. */\n",
       "        background-size: auto;\n",
       "    }\n",
       "    .progress-bar-interrupted, .progress-bar-interrupted::-webkit-progress-bar {\n",
       "        background: #F44336;\n",
       "    }\n",
       "</style>\n"
      ],
      "text/plain": [
       "<IPython.core.display.HTML object>"
      ]
     },
     "metadata": {},
     "output_type": "display_data"
    },
    {
     "data": {
      "text/html": [],
      "text/plain": [
       "<IPython.core.display.HTML object>"
      ]
     },
     "metadata": {},
     "output_type": "display_data"
    },
    {
     "data": {
      "text/plain": [
       "[0.94, 0.92, 18]"
      ]
     },
     "execution_count": 174,
     "metadata": {},
     "output_type": "execute_result"
    }
   ],
   "source": [
    "path_22 = path/'tweets'/'tweets-congress-2022-05-24'\n",
    "ideology_score(path_22/'McConnellPress.csv', \"ulmfit-2019.pkl\")"
   ]
  },
  {
   "cell_type": "code",
   "execution_count": null,
   "id": "4269943a",
   "metadata": {},
   "outputs": [],
   "source": []
  },
  {
   "cell_type": "code",
   "execution_count": null,
   "id": "555dde27",
   "metadata": {},
   "outputs": [],
   "source": []
  },
  {
   "cell_type": "code",
   "execution_count": null,
   "id": "aba70a8d",
   "metadata": {},
   "outputs": [],
   "source": []
  },
  {
   "cell_type": "code",
   "execution_count": null,
   "id": "72dccfba",
   "metadata": {},
   "outputs": [],
   "source": []
  }
 ],
 "metadata": {
  "kernelspec": {
   "display_name": "Python 3 (ipykernel)",
   "language": "python",
   "name": "python3"
  },
  "language_info": {
   "codemirror_mode": {
    "name": "ipython",
    "version": 3
   },
   "file_extension": ".py",
   "mimetype": "text/x-python",
   "name": "python",
   "nbconvert_exporter": "python",
   "pygments_lexer": "ipython3",
   "version": "3.9.13"
  },
  "varInspector": {
   "cols": {
    "lenName": 16,
    "lenType": 16,
    "lenVar": 40
   },
   "kernels_config": {
    "python": {
     "delete_cmd_postfix": "",
     "delete_cmd_prefix": "del ",
     "library": "var_list.py",
     "varRefreshCmd": "print(var_dic_list())"
    },
    "r": {
     "delete_cmd_postfix": ") ",
     "delete_cmd_prefix": "rm(",
     "library": "var_list.r",
     "varRefreshCmd": "cat(var_dic_list()) "
    }
   },
   "types_to_exclude": [
    "module",
    "function",
    "builtin_function_or_method",
    "instance",
    "_Feature"
   ],
   "window_display": false
  }
 },
 "nbformat": 4,
 "nbformat_minor": 5
}
