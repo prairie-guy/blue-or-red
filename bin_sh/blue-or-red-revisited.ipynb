{
 "cells": [
  {
   "cell_type": "markdown",
   "metadata": {},
   "source": [
    "# Blue or Red"
   ]
  },
  {
   "cell_type": "markdown",
   "metadata": {},
   "source": [
    "The objective of this project is to create a **Blue-or-Red** (Democrat or Republican) classifier of tweets. This will be trained recent tweets from all members of Congress with a twitter handle. A latter phase of the project would be to see if the classifier could be extended to provide a **Blue-or-Red** classification to tweets in general (as opposed to just members of Congress)."
   ]
  },
  {
   "cell_type": "code",
   "execution_count": 1,
   "metadata": {},
   "outputs": [],
   "source": [
    "%reload_ext autoreload\n",
    "%autoreload 2"
   ]
  },
  {
   "cell_type": "code",
   "execution_count": 2,
   "metadata": {},
   "outputs": [],
   "source": [
    "from fastai.text.all import *\n",
    "from rich import inspect"
   ]
  },
  {
   "cell_type": "code",
   "execution_count": 2,
   "metadata": {},
   "outputs": [],
   "source": [
    "import warnings\n",
    "warnings.simplefilter(action='ignore', category=FutureWarning)"
   ]
  },
  {
   "cell_type": "markdown",
   "metadata": {},
   "source": [
    "### Congressional Legislators"
   ]
  },
  {
   "cell_type": "markdown",
   "metadata": {},
   "source": [
    "The list of twitter handles was obtained here: https://github.com/unitedstates/congress-legislators/. In particular, I used the csv format: https://theunitedstates.io/congress-legislators/legislators-current.csv I created a smaller csv file `legislators-with-twitter.csv `, which included the attributes of `twitter`, `party` for each member of congress."
   ]
  },
  {
   "cell_type": "markdown",
   "metadata": {},
   "source": [
    "The most time intensive part of the data preparation was downloading the tweets. Here is the code that I used, though I ran it as a script. It reads the `legislators-with-twitter.csv` file and downloads the last 100 pages of tweets for each member of congress. (A page is a Twitter construct containing roughly 20-25 tweets.) The tweets for each member of congress were saved to separate csv files. Each file contains these attributes: `handle`, `time`, `party` and `text`. Each of these file were save in the `data` directory."
   ]
  },
  {
   "cell_type": "markdown",
   "metadata": {},
   "source": [
    "Get the **Name**, **state**, **Party** affiliation and the **twitter** handle for each member of Congress. Need to make sure that everyone has a **twitter** handle. One does not."
   ]
  },
  {
   "cell_type": "code",
   "execution_count": 3,
   "metadata": {},
   "outputs": [],
   "source": [
    "def get_legislators():\n",
    "    url = \"https://theunitedstates.io/congress-legislators/legislators-current.csv\"\n",
    "    df = pd.read_csv(url)\n",
    "    df = df[['first_name','last_name', 'state', 'party', 'twitter']]\n",
    "    df = df[(df.party == 'Democrat') | (df.party == 'Republican')]\n",
    "    df = df.rename(columns={'twitter':'handle'})\n",
    "    df = df[df.handle.notnull()]\n",
    "    return(df)"
   ]
  },
  {
   "cell_type": "code",
   "execution_count": 4,
   "metadata": {},
   "outputs": [
    {
     "data": {
      "text/html": [
       "<div>\n",
       "<style scoped>\n",
       "    .dataframe tbody tr th:only-of-type {\n",
       "        vertical-align: middle;\n",
       "    }\n",
       "\n",
       "    .dataframe tbody tr th {\n",
       "        vertical-align: top;\n",
       "    }\n",
       "\n",
       "    .dataframe thead th {\n",
       "        text-align: right;\n",
       "    }\n",
       "</style>\n",
       "<table border=\"1\" class=\"dataframe\">\n",
       "  <thead>\n",
       "    <tr style=\"text-align: right;\">\n",
       "      <th></th>\n",
       "      <th>first_name</th>\n",
       "      <th>last_name</th>\n",
       "      <th>state</th>\n",
       "      <th>party</th>\n",
       "      <th>handle</th>\n",
       "    </tr>\n",
       "  </thead>\n",
       "  <tbody>\n",
       "    <tr>\n",
       "      <th>0</th>\n",
       "      <td>Sherrod</td>\n",
       "      <td>Brown</td>\n",
       "      <td>OH</td>\n",
       "      <td>Democrat</td>\n",
       "      <td>SenSherrodBrown</td>\n",
       "    </tr>\n",
       "    <tr>\n",
       "      <th>1</th>\n",
       "      <td>Maria</td>\n",
       "      <td>Cantwell</td>\n",
       "      <td>WA</td>\n",
       "      <td>Democrat</td>\n",
       "      <td>SenatorCantwell</td>\n",
       "    </tr>\n",
       "    <tr>\n",
       "      <th>2</th>\n",
       "      <td>Benjamin</td>\n",
       "      <td>Cardin</td>\n",
       "      <td>MD</td>\n",
       "      <td>Democrat</td>\n",
       "      <td>SenatorCardin</td>\n",
       "    </tr>\n",
       "    <tr>\n",
       "      <th>3</th>\n",
       "      <td>Thomas</td>\n",
       "      <td>Carper</td>\n",
       "      <td>DE</td>\n",
       "      <td>Democrat</td>\n",
       "      <td>SenatorCarper</td>\n",
       "    </tr>\n",
       "    <tr>\n",
       "      <th>4</th>\n",
       "      <td>Robert</td>\n",
       "      <td>Casey</td>\n",
       "      <td>PA</td>\n",
       "      <td>Democrat</td>\n",
       "      <td>SenBobCasey</td>\n",
       "    </tr>\n",
       "  </tbody>\n",
       "</table>\n",
       "</div>"
      ],
      "text/plain": [
       "  first_name last_name state     party           handle\n",
       "0    Sherrod     Brown    OH  Democrat  SenSherrodBrown\n",
       "1      Maria  Cantwell    WA  Democrat  SenatorCantwell\n",
       "2   Benjamin    Cardin    MD  Democrat    SenatorCardin\n",
       "3     Thomas    Carper    DE  Democrat    SenatorCarper\n",
       "4     Robert     Casey    PA  Democrat      SenBobCasey"
      ]
     },
     "execution_count": 4,
     "metadata": {},
     "output_type": "execute_result"
    }
   ],
   "source": [
    "dfl = get_legislators()\n",
    "dfl.head()"
   ]
  },
  {
   "cell_type": "markdown",
   "metadata": {},
   "source": [
    "### Twitter API"
   ]
  },
  {
   "cell_type": "markdown",
   "metadata": {},
   "source": [
    "There were several python modules for Twitter, I choose tweepy: http://www.tweepy.org. It seemed fairly broadly used and is actively developed."
   ]
  },
  {
   "cell_type": "markdown",
   "metadata": {},
   "source": [
    "In order to gather the tweets, I needed to set up a developer account with Twitter in order to use their api. This was free. (Setting this up is described here https://developer.twitter.com and in other on-line resources.) I then created an App for this project and obtained the following keys/tokens: `API Key`, `API Seceret Key` and `Bearer Token`. Only the `Bearer Token` was required for this project.\n",
    "\n",
    "**Without an Academic Account, Twitter limits searches to the past 7 days. Accordingly, all of the tweets used in this model are based on only 7 days of tweets**"
   ]
  },
  {
   "cell_type": "markdown",
   "metadata": {},
   "source": [
    "### Download and Save Tweets"
   ]
  },
  {
   "cell_type": "markdown",
   "metadata": {},
   "source": [
    "Using the function: `get_tweets_of(handle)`, download and save a file `<handle>.csv` for each member of Congress. These are saved in the directory `tweets-{date}`."
   ]
  },
  {
   "cell_type": "code",
   "execution_count": 5,
   "metadata": {},
   "outputs": [],
   "source": [
    "import tweepy, csv\n",
    "import config  # Authentication Tokens\n",
    "\n",
    "client = tweepy.Client(config.BEARER_TOKEN)\n",
    "\n",
    "def get_tweets_of(handle, path='.', limit=1000):\n",
    "    path = Path(path)/handle\n",
    "    query = f'from:{handle} -is:retweet'\n",
    "    res = []\n",
    "    with open(path.with_suffix('.csv'), \"w\") as fn:\n",
    "        writer = csv.writer(fn, delimiter=',', quotechar='\"', quoting=csv.QUOTE_MINIMAL)\n",
    "        writer.writerow(['handle','text'])\n",
    "        for tweet in tweepy.Paginator(client.search_recent_tweets, query = query).flatten(limit=limit):\n",
    "            text = clean_text(tweet.text)\n",
    "            writer.writerow([handle, text])\n",
    "    print(f'{handle}.csv')\n",
    "\n",
    "\n",
    "def clean_text(text):\n",
    "    text = re.sub('http[s]?://(?:[a-zA-Z]|[0-9]|[$-_@.&+]|[!*\\(\\),]|(?:%[0-9a-fA-F][0-9a-fA-F]))+', '', text)\n",
    "    text = re.sub('http[s]?://(?:[a-zA-Z]|[0-9]|[$-_@.&+]|[!*\\(\\),]|(?:%[0-9a-fA-F][0-9a-fA-F]))+', '', text)\n",
    "    text = re.sub('[\\\\r,\\\\n]','', text)\n",
    "    return text"
   ]
  },
  {
   "cell_type": "markdown",
   "metadata": {},
   "source": [
    "There is a rate cap for the **twittter-api** which eventually throws an error:\n",
    "```python\n",
    "Too ManyRequests: 429 Too Many Requests`\n",
    "```\n",
    "After the error, the **twitter-api** waits for 15 minutes to resume.\n",
    "\n",
    "The function: `download_tweets()` uses `get_legislators()` to get a list of the handles of each member of Congress and then repeatedly downloads and saves these tweets to `<handle>.csv` file. It catches the rate cap error, waits for 15 minutes and then resumes downloading. \n",
    "\n",
    "Without access to an academic account, I set this to run every 7 days to get more tweets for training. Here, I have two weeks of tweets."
   ]
  },
  {
   "cell_type": "code",
   "execution_count": 6,
   "metadata": {
    "scrolled": true
   },
   "outputs": [],
   "source": [
    "import time\n",
    "from datetime import date\n",
    "from get_tweets_of import *\n",
    "from get_legislators import *\n",
    "\n",
    "def download_tweets():\n",
    "    df = get_legislators()\n",
    "    handles = df.handle\n",
    "    path = f\"tweets-{str(date.today())}\"\n",
    "    Path(path).mkdir(parents=True, exist_ok=True)\n",
    "    for handle in handles:\n",
    "        try:\n",
    "            get_tweets_of(handle, path)\n",
    "        except:\n",
    "            for m in range(15):\n",
    "                print(f\"Minutes waiting: {m}\")\n",
    "                time.sleep(65)\n",
    "            get_tweets_of(handle, path)"
   ]
  },
  {
   "cell_type": "code",
   "execution_count": 7,
   "metadata": {},
   "outputs": [
    {
     "name": "stdout",
     "output_type": "stream",
     "text": [
      "Getting Legislator Tweets\n",
      "Saving to: tweets-2022-05-25\n"
     ]
    }
   ],
   "source": [
    "print(\"Getting Legislator Tweets\")\n",
    "print(f\"Saving to: tweets-{str(date.today())}\")\n",
    "#download_tweets()"
   ]
  },
  {
   "cell_type": "markdown",
   "metadata": {},
   "source": [
    "###  Read all Tweets into a Single Dataframe"
   ]
  },
  {
   "cell_type": "markdown",
   "metadata": {},
   "source": [
    "Read the tweets `<handle.csv>` of each member of Congress into a new dataframe."
   ]
  },
  {
   "cell_type": "code",
   "execution_count": 8,
   "metadata": {},
   "outputs": [],
   "source": [
    "path = Path()\n",
    "weeks = [path/'tweets-congress-2022-05-18', path/'tweets-congress-2022-05-24']"
   ]
  },
  {
   "cell_type": "code",
   "execution_count": 9,
   "metadata": {
    "scrolled": true
   },
   "outputs": [],
   "source": [
    "df = pd.DataFrame(columns=['handle','text']) \n",
    "for week in weeks:       \n",
    "    for t in week.ls():\n",
    "        dft = pd.read_csv(t)\n",
    "        df  = pd.concat([df,dft],ignore_index=True)"
   ]
  },
  {
   "cell_type": "code",
   "execution_count": 10,
   "metadata": {},
   "outputs": [
    {
     "data": {
      "text/plain": [
       "17289"
      ]
     },
     "execution_count": 10,
     "metadata": {},
     "output_type": "execute_result"
    }
   ],
   "source": [
    "len(df)"
   ]
  },
  {
   "cell_type": "markdown",
   "metadata": {},
   "source": [
    "Merge the tweet dataframe with the legislative dataframe to label each tweet as **Democrat** or **Republican** and then cleanup `text` "
   ]
  },
  {
   "cell_type": "code",
   "execution_count": 11,
   "metadata": {},
   "outputs": [],
   "source": [
    "def cleanup_text(df):\n",
    "    df.text = df.text.str.replace('http[s]?://(?:[a-zA-Z]|[0-9]|[$-_@.&+]|[!*\\(\\),]|(?:%[0-9a-fA-F][0-9a-fA-F]))+', '')\n",
    "    df = df[(df.party == 'Democrat') | (df.party == 'Republican')]\n",
    "    df = df[df.text.notnull()]\n",
    "    df.text = df.text.str.replace('[\\\\r,\\\\n]','')\n",
    "    df = df.dropna()\n",
    "    df = df.reset_index()\n",
    "    return df"
   ]
  },
  {
   "cell_type": "code",
   "execution_count": 12,
   "metadata": {
    "scrolled": false
   },
   "outputs": [],
   "source": [
    "df = df.merge(dfl)\n",
    "df = cleanup_text(df)"
   ]
  },
  {
   "cell_type": "markdown",
   "metadata": {},
   "source": [
    "Randomize"
   ]
  },
  {
   "cell_type": "code",
   "execution_count": 13,
   "metadata": {},
   "outputs": [
    {
     "data": {
      "text/html": [
       "<div>\n",
       "<style scoped>\n",
       "    .dataframe tbody tr th:only-of-type {\n",
       "        vertical-align: middle;\n",
       "    }\n",
       "\n",
       "    .dataframe tbody tr th {\n",
       "        vertical-align: top;\n",
       "    }\n",
       "\n",
       "    .dataframe thead th {\n",
       "        text-align: right;\n",
       "    }\n",
       "</style>\n",
       "<table border=\"1\" class=\"dataframe\">\n",
       "  <thead>\n",
       "    <tr style=\"text-align: right;\">\n",
       "      <th></th>\n",
       "      <th>index</th>\n",
       "      <th>handle</th>\n",
       "      <th>text</th>\n",
       "      <th>first_name</th>\n",
       "      <th>last_name</th>\n",
       "      <th>state</th>\n",
       "      <th>party</th>\n",
       "    </tr>\n",
       "  </thead>\n",
       "  <tbody>\n",
       "    <tr>\n",
       "      <th>7115</th>\n",
       "      <td>7128</td>\n",
       "      <td>RosaDeLauro</td>\n",
       "      <td>I encourage everyone to watch @AppropsDems’ hearing with the @US_FDA. There must be accountability for the contaminated formula found at an Abbott facility in Sturgis MI and FDA’s delay in investigating whistleblower claims alleging wrongdoing.We need answers.</td>\n",
       "      <td>Rosa</td>\n",
       "      <td>DeLauro</td>\n",
       "      <td>CT</td>\n",
       "      <td>Democrat</td>\n",
       "    </tr>\n",
       "    <tr>\n",
       "      <th>2702</th>\n",
       "      <td>2706</td>\n",
       "      <td>RepDebDingell</td>\n",
       "      <td>Joined the @GREconClub with my friend @RepFredUpton to discuss the current political climate &amp;amp; how we can come together to get important work done.  There are many issues that matter to us all &amp;amp; if we approach them in the right way we can cut through the gridlock.</td>\n",
       "      <td>Debbie</td>\n",
       "      <td>Dingell</td>\n",
       "      <td>MI</td>\n",
       "      <td>Democrat</td>\n",
       "    </tr>\n",
       "    <tr>\n",
       "      <th>13464</th>\n",
       "      <td>13489</td>\n",
       "      <td>SenWhitehouse</td>\n",
       "      <td>Justice Kagan has it right in her dissent: greenlighting the payment schemes at issue in this case \"bring[s] this country’s political system into further disrepute.\"</td>\n",
       "      <td>Sheldon</td>\n",
       "      <td>Whitehouse</td>\n",
       "      <td>RI</td>\n",
       "      <td>Democrat</td>\n",
       "    </tr>\n",
       "    <tr>\n",
       "      <th>2253</th>\n",
       "      <td>2257</td>\n",
       "      <td>SenatorDurbin</td>\n",
       "      <td>It is noteworthy that Police Week falls during Mental Health Awareness Month. The Judiciary Committee will use this opportunity not just to pause and honor our law enforcement officers and their families but also to take action to improve mental health resources for them.</td>\n",
       "      <td>Richard</td>\n",
       "      <td>Durbin</td>\n",
       "      <td>IL</td>\n",
       "      <td>Democrat</td>\n",
       "    </tr>\n",
       "    <tr>\n",
       "      <th>11806</th>\n",
       "      <td>11826</td>\n",
       "      <td>MazieHirono</td>\n",
       "      <td>My bill to name the ALOHA VA Clinic after the late Senator Daniel Kahikina Akaka is on its way to @POTUS's desk to be signed into law. The facility spearheaded by Sen. Akaka will serve thousands &amp;amp; honor his legacy of service to Hawaii &amp;amp; our veterans.</td>\n",
       "      <td>Mazie</td>\n",
       "      <td>Hirono</td>\n",
       "      <td>HI</td>\n",
       "      <td>Democrat</td>\n",
       "    </tr>\n",
       "  </tbody>\n",
       "</table>\n",
       "</div>"
      ],
      "text/plain": [
       "       index         handle  \\\n",
       "7115    7128    RosaDeLauro   \n",
       "2702    2706  RepDebDingell   \n",
       "13464  13489  SenWhitehouse   \n",
       "2253    2257  SenatorDurbin   \n",
       "11806  11826    MazieHirono   \n",
       "\n",
       "                                                                                                                                                                                                                                                                                    text  \\\n",
       "7115                I encourage everyone to watch @AppropsDems’ hearing with the @US_FDA. There must be accountability for the contaminated formula found at an Abbott facility in Sturgis MI and FDA’s delay in investigating whistleblower claims alleging wrongdoing.We need answers.   \n",
       "2702    Joined the @GREconClub with my friend @RepFredUpton to discuss the current political climate &amp; how we can come together to get important work done.  There are many issues that matter to us all &amp; if we approach them in the right way we can cut through the gridlock.   \n",
       "13464                                                                                                              Justice Kagan has it right in her dissent: greenlighting the payment schemes at issue in this case \"bring[s] this country’s political system into further disrepute.\"   \n",
       "2253   It is noteworthy that Police Week falls during Mental Health Awareness Month. The Judiciary Committee will use this opportunity not just to pause and honor our law enforcement officers and their families but also to take action to improve mental health resources for them.    \n",
       "11806                 My bill to name the ALOHA VA Clinic after the late Senator Daniel Kahikina Akaka is on its way to @POTUS's desk to be signed into law. The facility spearheaded by Sen. Akaka will serve thousands &amp; honor his legacy of service to Hawaii &amp; our veterans.   \n",
       "\n",
       "      first_name   last_name state     party  \n",
       "7115        Rosa     DeLauro    CT  Democrat  \n",
       "2702      Debbie     Dingell    MI  Democrat  \n",
       "13464    Sheldon  Whitehouse    RI  Democrat  \n",
       "2253     Richard      Durbin    IL  Democrat  \n",
       "11806      Mazie      Hirono    HI  Democrat  "
      ]
     },
     "execution_count": 13,
     "metadata": {},
     "output_type": "execute_result"
    }
   ],
   "source": [
    "df = df.iloc[np.random.permutation(len(df))]; df\n",
    "df.head()"
   ]
  },
  {
   "cell_type": "code",
   "execution_count": null,
   "metadata": {},
   "outputs": [],
   "source": [
    "df[['text','party']].to_csv('blue_red_training_valid.csv', index=False)"
   ]
  },
  {
   "cell_type": "markdown",
   "metadata": {},
   "source": [
    "Double check that csv file wasn't corrupted"
   ]
  },
  {
   "cell_type": "code",
   "execution_count": null,
   "metadata": {},
   "outputs": [],
   "source": [
    "#df2 = pd.read_csv(\"blue_red_training_valid.csv\")\n",
    "#len(df), len(df2), len(df.text), len(df2.text),sum(df.text == df2.text),# sum(df.party == df2.party),sum((df.party == 'Democrat') == (df2.party == 'Democrat'))"
   ]
  },
  {
   "cell_type": "code",
   "execution_count": 16,
   "metadata": {},
   "outputs": [
    {
     "data": {
      "text/plain": [
       "0.5810140614971702"
      ]
     },
     "execution_count": 16,
     "metadata": {},
     "output_type": "execute_result"
    }
   ],
   "source": [
    "sum(df.party=='Democrat')/len(df.party)"
   ]
  },
  {
   "cell_type": "markdown",
   "metadata": {},
   "source": [
    "### Prepare Dataloader"
   ]
  },
  {
   "cell_type": "code",
   "execution_count": 17,
   "metadata": {},
   "outputs": [
    {
     "data": {
      "text/html": [
       "\n",
       "<style>\n",
       "    /* Turns off some styling */\n",
       "    progress {\n",
       "        /* gets rid of default border in Firefox and Opera. */\n",
       "        border: none;\n",
       "        /* Needs to be in here for Safari polyfill so background images work as expected. */\n",
       "        background-size: auto;\n",
       "    }\n",
       "    .progress-bar-interrupted, .progress-bar-interrupted::-webkit-progress-bar {\n",
       "        background: #F44336;\n",
       "    }\n",
       "</style>\n"
      ],
      "text/plain": [
       "<IPython.core.display.HTML object>"
      ]
     },
     "metadata": {},
     "output_type": "display_data"
    },
    {
     "data": {
      "text/html": [],
      "text/plain": [
       "<IPython.core.display.HTML object>"
      ]
     },
     "metadata": {},
     "output_type": "display_data"
    }
   ],
   "source": [
    "dls = TextDataLoaders.from_csv(path, csv_fname=\"blue_red_training_valid.csv\",text_col='text', label_col=\"party\")"
   ]
  },
  {
   "cell_type": "code",
   "execution_count": 18,
   "metadata": {},
   "outputs": [
    {
     "data": {
      "text/html": [
       "<table border=\"1\" class=\"dataframe\">\n",
       "  <thead>\n",
       "    <tr style=\"text-align: right;\">\n",
       "      <th></th>\n",
       "      <th>text</th>\n",
       "      <th>category</th>\n",
       "    </tr>\n",
       "  </thead>\n",
       "  <tbody>\n",
       "    <tr>\n",
       "      <th>0</th>\n",
       "      <td>xxbos xxmaj xxunk xxmaj xxunk xxmaj baltimore xxmaj city xxup p.d . 12 / 23 / xxunk xxmaj andrew xxmaj xxunk xxmaj xxunk xxup p.d . 4 / 28 / xxunk xxmaj michael xxmaj xxunk xxmaj frederick xxmaj city xxup p.d . 12 / 28 / xxunk xxmaj xxunk xxmaj xxunk xxmaj xxunk xxup p.d . 1 / 14 / xxunk xxmaj guy xxmaj collins xxmaj maryland xxmaj state xxmaj division xxmaj of xxmaj correction 6 / 4 / xxunk in xxmaj power .</td>\n",
       "      <td>Democrat</td>\n",
       "    </tr>\n",
       "    <tr>\n",
       "      <th>1</th>\n",
       "      <td>xxbos xxmaj if you or someone you know is in crisis please reach out . xxmaj you are not xxunk xxmaj suicide xxmaj prevention xxmaj lifeline : 1 - 800 - 273 - 8255 xxmaj en xxmaj español : 1- xxrep 3 8 xxunk - xxunk xxmaj deaf &amp; &amp; xxmaj hard of xxmaj hearing : 1 - 800 - 273 - 8255 ( tty users : use your xxunk xxunk service or dial xxunk then 1 - 800 - 273 - 8255 )</td>\n",
       "      <td>Democrat</td>\n",
       "    </tr>\n",
       "    <tr>\n",
       "      <th>2</th>\n",
       "      <td>xxbos xxmaj if you or someone you know is in crisis please reach out . xxmaj you are not xxunk xxmaj suicide xxmaj prevention xxmaj lifeline : 1 - 800 - 273 - 8255 xxmaj en xxmaj español : 1- xxrep 3 8 xxunk - xxunk xxmaj deaf &amp; &amp; xxmaj hard of xxmaj hearing : 1 - 800 - 273 - 8255 ( tty users : use your xxunk xxunk service or dial xxunk then 1 - 800 - 273 - 8255 )</td>\n",
       "      <td>Democrat</td>\n",
       "    </tr>\n",
       "    <tr>\n",
       "      <th>3</th>\n",
       "      <td>xxbos 📍 xxmaj xxunk xxmaj xxunk xxmaj tribe : $ xxunk 📍 xxmaj xxunk xxmaj band of xxmaj xxunk : $ xxunk 📍 paiute - xxunk xxmaj tribe : $ xxunk 📍 xxmaj xxunk xxmaj lake xxmaj paiute xxmaj tribe : $ xxunk 📍 xxmaj reno xxmaj sparks xxmaj indian xxmaj xxunk : $ xxunk 📍 xxmaj walker xxmaj river xxmaj paiute xxmaj tribe : $ xxunk 📍 xxmaj xxunk xxmaj tribe of xxmaj nevada and xxmaj california : $ xxunk</td>\n",
       "      <td>Democrat</td>\n",
       "    </tr>\n",
       "    <tr>\n",
       "      <th>4</th>\n",
       "      <td>xxbos xxmaj future defenders : xxmaj great talking leadership and military with @westpoint_usma xxmaj cadets xxmaj garrett xxmaj xxunk ( xxunk xxup xxunk ) xxmaj thomas xxmaj ward ( jasper xxup al ) xxmaj xxunk xxmaj van de xxmaj wall ( xxunk xxmaj city xxup md ) xxmaj jack xxmaj may ( burlington xxup nc ) xxmaj michael xxmaj xxunk ( xxunk xxup il ) and xxmaj xxunk xxmaj xxunk ( xxunk xxup oh ) . xxmaj go xxmaj army !</td>\n",
       "      <td>Republican</td>\n",
       "    </tr>\n",
       "    <tr>\n",
       "      <th>5</th>\n",
       "      <td>xxbos xxmaj the average gas price in xxmaj south xxmaj carolina today is $ xxunk . xxmaj that 's up from $ 4.22 just a week ago $ xxunk a month ago &amp; &amp; $ xxunk a year ago ( xxrep 3 a ) . xxmaj south xxmaj carolinians ca n't afford xxmaj joe xxmaj biden 's self - imposed # energycrisis all because he refuses to end his war on xxmaj american energy xxunk ⛽ ️</td>\n",
       "      <td>Republican</td>\n",
       "    </tr>\n",
       "    <tr>\n",
       "      <th>6</th>\n",
       "      <td>xxbos # xxmaj trump 's enactment of # xxmaj title42 saved thousands of lives by slowing the spread of # xxup covid &amp; &amp; by curbing the flow of # fentanyl into the # xxup us . xxmaj i 'm proud to co - sponsor # xxup xxunk which allows # xxmaj title42 to be used for fentanyl / other drugs which are the leading cause of death for 18 - 45 y / o.</td>\n",
       "      <td>Republican</td>\n",
       "    </tr>\n",
       "    <tr>\n",
       "      <th>7</th>\n",
       "      <td>xxbos xxmaj this week in fl 's xxmaj fort xxunk - xxunk xxmaj xxunk region gas prices hit an all - time record of $ 4.48 . xxmaj one year ago gas prices were at $ xxunk month in fl 's xxmaj fort xxunk - xxunk xxmaj xxunk region diesel prices hit an all - time record of $ xxunk . xxmaj one year ago diesel prices were at $ xxunk .</td>\n",
       "      <td>Republican</td>\n",
       "    </tr>\n",
       "    <tr>\n",
       "      <th>8</th>\n",
       "      <td>xxbos xxmaj on this week ’s # xxunk join # xxmaj bellingham xxmaj american xxmaj legion xxmaj post 7 xxmaj commander xxmaj al xxmaj xxunk &amp; &amp; me to discuss ⬇ ️ ✔ xxmaj action to address the infant formula shortage ✔ xxmaj the xxmaj honoring xxmaj our xxup pact xxmaj act ✔ xxmaj efforts to ensure 59 xxrep 3 0 + # xxup wa02 veterans can access the resources they need</td>\n",
       "      <td>Democrat</td>\n",
       "    </tr>\n",
       "  </tbody>\n",
       "</table>"
      ],
      "text/plain": [
       "<IPython.core.display.HTML object>"
      ]
     },
     "metadata": {},
     "output_type": "display_data"
    }
   ],
   "source": [
    "dls.show_batch()"
   ]
  },
  {
   "cell_type": "code",
   "execution_count": 19,
   "metadata": {},
   "outputs": [],
   "source": [
    "learner = text_classifier_learner(dls, AWD_LSTM, drop_mult=0.5, metrics=accuracy)"
   ]
  },
  {
   "cell_type": "code",
   "execution_count": 20,
   "metadata": {},
   "outputs": [
    {
     "data": {
      "text/html": [
       "\n",
       "<style>\n",
       "    /* Turns off some styling */\n",
       "    progress {\n",
       "        /* gets rid of default border in Firefox and Opera. */\n",
       "        border: none;\n",
       "        /* Needs to be in here for Safari polyfill so background images work as expected. */\n",
       "        background-size: auto;\n",
       "    }\n",
       "    .progress-bar-interrupted, .progress-bar-interrupted::-webkit-progress-bar {\n",
       "        background: #F44336;\n",
       "    }\n",
       "</style>\n"
      ],
      "text/plain": [
       "<IPython.core.display.HTML object>"
      ]
     },
     "metadata": {},
     "output_type": "display_data"
    },
    {
     "data": {
      "text/html": [],
      "text/plain": [
       "<IPython.core.display.HTML object>"
      ]
     },
     "metadata": {},
     "output_type": "display_data"
    },
    {
     "data": {
      "text/plain": [
       "SuggestedLRs(valley=0.0030199517495930195)"
      ]
     },
     "execution_count": 20,
     "metadata": {},
     "output_type": "execute_result"
    },
    {
     "data": {
      "image/png": "[encoded data removed]",
      "text/plain": [
       "<Figure size 432x288 with 1 Axes>"
      ]
     },
     "metadata": {
      "needs_background": "light"
     },
     "output_type": "display_data"
    }
   ],
   "source": [
    "learner.lr_find()"
   ]
  },
  {
   "cell_type": "code",
   "execution_count": 21,
   "metadata": {
    "scrolled": true
   },
   "outputs": [
    {
     "data": {
      "text/html": [
       "\n",
       "<style>\n",
       "    /* Turns off some styling */\n",
       "    progress {\n",
       "        /* gets rid of default border in Firefox and Opera. */\n",
       "        border: none;\n",
       "        /* Needs to be in here for Safari polyfill so background images work as expected. */\n",
       "        background-size: auto;\n",
       "    }\n",
       "    .progress-bar-interrupted, .progress-bar-interrupted::-webkit-progress-bar {\n",
       "        background: #F44336;\n",
       "    }\n",
       "</style>\n"
      ],
      "text/plain": [
       "<IPython.core.display.HTML object>"
      ]
     },
     "metadata": {},
     "output_type": "display_data"
    },
    {
     "data": {
      "text/html": [
       "<table border=\"1\" class=\"dataframe\">\n",
       "  <thead>\n",
       "    <tr style=\"text-align: left;\">\n",
       "      <th>epoch</th>\n",
       "      <th>train_loss</th>\n",
       "      <th>valid_loss</th>\n",
       "      <th>accuracy</th>\n",
       "      <th>time</th>\n",
       "    </tr>\n",
       "  </thead>\n",
       "  <tbody>\n",
       "    <tr>\n",
       "      <td>0</td>\n",
       "      <td>0.607742</td>\n",
       "      <td>0.557907</td>\n",
       "      <td>0.706741</td>\n",
       "      <td>00:06</td>\n",
       "    </tr>\n",
       "  </tbody>\n",
       "</table>"
      ],
      "text/plain": [
       "<IPython.core.display.HTML object>"
      ]
     },
     "metadata": {},
     "output_type": "display_data"
    },
    {
     "data": {
      "text/html": [
       "\n",
       "<style>\n",
       "    /* Turns off some styling */\n",
       "    progress {\n",
       "        /* gets rid of default border in Firefox and Opera. */\n",
       "        border: none;\n",
       "        /* Needs to be in here for Safari polyfill so background images work as expected. */\n",
       "        background-size: auto;\n",
       "    }\n",
       "    .progress-bar-interrupted, .progress-bar-interrupted::-webkit-progress-bar {\n",
       "        background: #F44336;\n",
       "    }\n",
       "</style>\n"
      ],
      "text/plain": [
       "<IPython.core.display.HTML object>"
      ]
     },
     "metadata": {},
     "output_type": "display_data"
    },
    {
     "data": {
      "text/html": [
       "<table border=\"1\" class=\"dataframe\">\n",
       "  <thead>\n",
       "    <tr style=\"text-align: left;\">\n",
       "      <th>epoch</th>\n",
       "      <th>train_loss</th>\n",
       "      <th>valid_loss</th>\n",
       "      <th>accuracy</th>\n",
       "      <th>time</th>\n",
       "    </tr>\n",
       "  </thead>\n",
       "  <tbody>\n",
       "    <tr>\n",
       "      <td>0</td>\n",
       "      <td>0.552444</td>\n",
       "      <td>0.493648</td>\n",
       "      <td>0.760140</td>\n",
       "      <td>00:12</td>\n",
       "    </tr>\n",
       "    <tr>\n",
       "      <td>1</td>\n",
       "      <td>0.512261</td>\n",
       "      <td>0.446947</td>\n",
       "      <td>0.789028</td>\n",
       "      <td>00:12</td>\n",
       "    </tr>\n",
       "    <tr>\n",
       "      <td>2</td>\n",
       "      <td>0.452405</td>\n",
       "      <td>0.411675</td>\n",
       "      <td>0.810913</td>\n",
       "      <td>00:12</td>\n",
       "    </tr>\n",
       "    <tr>\n",
       "      <td>3</td>\n",
       "      <td>0.392998</td>\n",
       "      <td>0.401718</td>\n",
       "      <td>0.811205</td>\n",
       "      <td>00:12</td>\n",
       "    </tr>\n",
       "    <tr>\n",
       "      <td>4</td>\n",
       "      <td>0.332708</td>\n",
       "      <td>0.375972</td>\n",
       "      <td>0.835425</td>\n",
       "      <td>00:12</td>\n",
       "    </tr>\n",
       "    <tr>\n",
       "      <td>5</td>\n",
       "      <td>0.262604</td>\n",
       "      <td>0.395524</td>\n",
       "      <td>0.838051</td>\n",
       "      <td>00:12</td>\n",
       "    </tr>\n",
       "    <tr>\n",
       "      <td>6</td>\n",
       "      <td>0.230470</td>\n",
       "      <td>0.408174</td>\n",
       "      <td>0.840385</td>\n",
       "      <td>00:12</td>\n",
       "    </tr>\n",
       "    <tr>\n",
       "      <td>7</td>\n",
       "      <td>0.208189</td>\n",
       "      <td>0.401739</td>\n",
       "      <td>0.841261</td>\n",
       "      <td>00:12</td>\n",
       "    </tr>\n",
       "  </tbody>\n",
       "</table>"
      ],
      "text/plain": [
       "<IPython.core.display.HTML object>"
      ]
     },
     "metadata": {},
     "output_type": "display_data"
    }
   ],
   "source": [
    "learner.fine_tune(8, .005)"
   ]
  },
  {
   "cell_type": "code",
   "execution_count": 22,
   "metadata": {},
   "outputs": [],
   "source": [
    "learner.export(\"blue-or-red-2022.pkl\")"
   ]
  },
  {
   "cell_type": "markdown",
   "metadata": {},
   "source": [
    "### Distribution of Predicted Probability Scores (Democrat = 0, Republican = 1)"
   ]
  },
  {
   "cell_type": "code",
   "execution_count": 63,
   "metadata": {},
   "outputs": [],
   "source": [
    "learner = load_learner(\"blue-or-red-2022.pkl\")"
   ]
  },
  {
   "cell_type": "code",
   "execution_count": 64,
   "metadata": {},
   "outputs": [],
   "source": [
    "df = pd.read_csv(\"blue_red_training_valid.csv\")"
   ]
  },
  {
   "cell_type": "code",
   "execution_count": 66,
   "metadata": {},
   "outputs": [
    {
     "data": {
      "text/html": [
       "\n",
       "<style>\n",
       "    /* Turns off some styling */\n",
       "    progress {\n",
       "        /* gets rid of default border in Firefox and Opera. */\n",
       "        border: none;\n",
       "        /* Needs to be in here for Safari polyfill so background images work as expected. */\n",
       "        background-size: auto;\n",
       "    }\n",
       "    .progress-bar-interrupted, .progress-bar-interrupted::-webkit-progress-bar {\n",
       "        background: #F44336;\n",
       "    }\n",
       "</style>\n"
      ],
      "text/plain": [
       "<IPython.core.display.HTML object>"
      ]
     },
     "metadata": {},
     "output_type": "display_data"
    },
    {
     "data": {
      "text/html": [],
      "text/plain": [
       "<IPython.core.display.HTML object>"
      ]
     },
     "metadata": {},
     "output_type": "display_data"
    }
   ],
   "source": [
    "dl_test = TextDataLoaders.from_df(df, text_col='text', valid_pct=0)[0]"
   ]
  },
  {
   "cell_type": "code",
   "execution_count": 67,
   "metadata": {},
   "outputs": [
    {
     "data": {
      "text/html": [
       "\n",
       "<style>\n",
       "    /* Turns off some styling */\n",
       "    progress {\n",
       "        /* gets rid of default border in Firefox and Opera. */\n",
       "        border: none;\n",
       "        /* Needs to be in here for Safari polyfill so background images work as expected. */\n",
       "        background-size: auto;\n",
       "    }\n",
       "    .progress-bar-interrupted, .progress-bar-interrupted::-webkit-progress-bar {\n",
       "        background: #F44336;\n",
       "    }\n",
       "</style>\n"
      ],
      "text/plain": [
       "<IPython.core.display.HTML object>"
      ]
     },
     "metadata": {},
     "output_type": "display_data"
    },
    {
     "data": {
      "text/html": [],
      "text/plain": [
       "<IPython.core.display.HTML object>"
      ]
     },
     "metadata": {},
     "output_type": "display_data"
    }
   ],
   "source": [
    "preds, actual = learner.get_preds(dl=dl_test)"
   ]
  },
  {
   "cell_type": "code",
   "execution_count": 68,
   "metadata": {},
   "outputs": [
    {
     "data": {
      "text/plain": [
       "array([[<AxesSubplot:title={'center':'0'}>]], dtype=object)"
      ]
     },
     "execution_count": 68,
     "metadata": {},
     "output_type": "execute_result"
    },
    {
     "data": {
      "image/png": "[encoded data removed]",
      "text/plain": [
       "<Figure size 432x288 with 1 Axes>"
      ]
     },
     "metadata": {
      "needs_background": "light"
     },
     "output_type": "display_data"
    }
   ],
   "source": [
    "all = [float(r) for d,r in preds]\n",
    "pd.DataFrame(all).hist()"
   ]
  },
  {
   "cell_type": "code",
   "execution_count": 69,
   "metadata": {},
   "outputs": [
    {
     "data": {
      "text/plain": [
       "array([[<AxesSubplot:title={'center':'0'}>]], dtype=object)"
      ]
     },
     "execution_count": 69,
     "metadata": {},
     "output_type": "execute_result"
    },
    {
     "data": {
      "image/png": "[encoded data removed]",
      "text/plain": [
       "<Figure size 432x288 with 1 Axes>"
      ]
     },
     "metadata": {
      "needs_background": "light"
     },
     "output_type": "display_data"
    }
   ],
   "source": [
    "rs = [float(r) for d,r in preds if r>.5]\n",
    "pd.DataFrame(rs).hist()"
   ]
  },
  {
   "cell_type": "code",
   "execution_count": 71,
   "metadata": {},
   "outputs": [
    {
     "data": {
      "text/plain": [
       "array([[<AxesSubplot:title={'center':'0'}>]], dtype=object)"
      ]
     },
     "execution_count": 71,
     "metadata": {},
     "output_type": "execute_result"
    },
    {
     "data": {
      "image/png": "[encoded data removed]",
      "text/plain": [
       "<Figure size 432x288 with 1 Axes>"
      ]
     },
     "metadata": {
      "needs_background": "light"
     },
     "output_type": "display_data"
    }
   ],
   "source": [
    "ds = [float(d) for d,r in preds if d<.5]\n",
    "pd.DataFrame(ds).hist()"
   ]
  },
  {
   "cell_type": "code",
   "execution_count": 72,
   "metadata": {},
   "outputs": [
    {
     "data": {
      "text/plain": [
       "0.9460295233094113"
      ]
     },
     "execution_count": 72,
     "metadata": {},
     "output_type": "execute_result"
    }
   ],
   "source": [
    "sum(preds.argmax(axis=1).numpy() == actual.numpy())/len(preds)"
   ]
  },
  {
   "cell_type": "markdown",
   "metadata": {},
   "source": [
    "### Tweets from 2019 Analysis"
   ]
  },
  {
   "cell_type": "markdown",
   "metadata": {},
   "source": [
    "In 2019, before the twitter api limited downloads of tweeets to the most recent 7 days, I had downloaded almost 700,000 Congressional tweets for the prior year. I used the 2019 tweets to train a new model."
   ]
  },
  {
   "cell_type": "code",
   "execution_count": null,
   "metadata": {
    "scrolled": false
   },
   "outputs": [],
   "source": [
    "prior_path = Path(\"/home/cdaniels/fastai-projects/blue-or-red\")\n",
    "tweet_dir = prior_path/'data_full'\n",
    "\n",
    "df = pd.DataFrame(columns=['handle','text']) \n",
    "for t in tweet_dir.ls():\n",
    "    dft = pd.read_csv(t)\n",
    "    df = pd.concat([df,dft],ignore_index=True)\n",
    "df.text = df.text.str.replace('[\\\\r,\\\\n]','') # An \\\\r in text can split a row"
   ]
  },
  {
   "cell_type": "markdown",
   "metadata": {},
   "source": [
    "Clean up `text`"
   ]
  },
  {
   "cell_type": "code",
   "execution_count": null,
   "metadata": {
    "scrolled": true
   },
   "outputs": [],
   "source": [
    "df = cleanup_text(df)"
   ]
  },
  {
   "cell_type": "code",
   "execution_count": null,
   "metadata": {},
   "outputs": [],
   "source": [
    "df[['text','party']].to_csv(\"blue_red_training_valid_2019.csv\", index=False)"
   ]
  },
  {
   "cell_type": "markdown",
   "metadata": {},
   "source": [
    "Double check that csv file wasn't corrupted"
   ]
  },
  {
   "cell_type": "code",
   "execution_count": 75,
   "metadata": {},
   "outputs": [],
   "source": [
    "#df2 = pd.read_csv(\"blue_red_training_valid_2019.csv\")\n",
    "#len(df), len(df2),sum(df.text == df2.text), sum(df.party == df2.party),sum((df.party == 'Democrat') == (df2.party == 'Democrat'))"
   ]
  },
  {
   "cell_type": "code",
   "execution_count": null,
   "metadata": {
    "scrolled": true
   },
   "outputs": [],
   "source": [
    "dls = TextDataLoaders.from_csv(path, csv_fname=\"blue_red_training_valid_2019.csv\",text_col='text', label_col=\"party\")"
   ]
  },
  {
   "cell_type": "code",
   "execution_count": null,
   "metadata": {},
   "outputs": [],
   "source": [
    "dls.show_batch()"
   ]
  },
  {
   "cell_type": "code",
   "execution_count": null,
   "metadata": {},
   "outputs": [],
   "source": [
    "learner = text_classifier_learner(dls, AWD_LSTM, drop_mult=0.5, metrics=accuracy)"
   ]
  },
  {
   "cell_type": "code",
   "execution_count": null,
   "metadata": {},
   "outputs": [],
   "source": [
    "learner.lr_find()"
   ]
  },
  {
   "cell_type": "code",
   "execution_count": null,
   "metadata": {},
   "outputs": [],
   "source": [
    "learner.fine_tune(5, .02)"
   ]
  },
  {
   "cell_type": "code",
   "execution_count": null,
   "metadata": {},
   "outputs": [],
   "source": [
    "learner.export(\"blue-or-red-2019.pkl\")"
   ]
  },
  {
   "cell_type": "code",
   "execution_count": null,
   "metadata": {},
   "outputs": [],
   "source": [
    "learner = load_learner(\"blue-or-red-2019.pkl\")"
   ]
  },
  {
   "cell_type": "code",
   "execution_count": null,
   "metadata": {
    "scrolled": true
   },
   "outputs": [],
   "source": [
    "learner.predict(df.text[0])"
   ]
  },
  {
   "cell_type": "markdown",
   "metadata": {},
   "source": [
    "Double Check that the model predictions make sense"
   ]
  },
  {
   "cell_type": "code",
   "execution_count": null,
   "metadata": {},
   "outputs": [],
   "source": [
    "preds, actual = learner.get_preds(0)"
   ]
  },
  {
   "cell_type": "code",
   "execution_count": null,
   "metadata": {},
   "outputs": [],
   "source": [
    "sum(preds.argmax(axis=1).numpy() == actual.numpy())/len(preds)"
   ]
  },
  {
   "cell_type": "markdown",
   "metadata": {},
   "source": [
    "### Predict 2022 Congressional Tweets using 2019 Trained Model"
   ]
  },
  {
   "cell_type": "code",
   "execution_count": null,
   "metadata": {},
   "outputs": [],
   "source": [
    "learner = load_learner(\"blue-or-red-2019.pkl\")"
   ]
  },
  {
   "cell_type": "code",
   "execution_count": null,
   "metadata": {},
   "outputs": [],
   "source": [
    "#learner = load_learner(\"blue-or-red-2022.pkl\") "
   ]
  },
  {
   "cell_type": "code",
   "execution_count": null,
   "metadata": {
    "scrolled": false
   },
   "outputs": [],
   "source": [
    "df = pd.read_csv(\"blue_red_training_valid.csv\")"
   ]
  },
  {
   "cell_type": "code",
   "execution_count": null,
   "metadata": {},
   "outputs": [],
   "source": [
    "sum(df.party=='Democrat')/len(df)"
   ]
  },
  {
   "cell_type": "markdown",
   "metadata": {},
   "source": [
    "Create a test dataloader containing the two weeks of 2022 Congressional tweets"
   ]
  },
  {
   "cell_type": "code",
   "execution_count": null,
   "metadata": {},
   "outputs": [],
   "source": [
    "dl_test = TextDataLoaders.from_df(df, valid_pct = 0, text_col='text', shuffle=False)[0] "
   ]
  },
  {
   "cell_type": "markdown",
   "metadata": {},
   "source": [
    "Get predictions of 2022 tweets on model trained with 2019 tweets"
   ]
  },
  {
   "cell_type": "code",
   "execution_count": null,
   "metadata": {},
   "outputs": [],
   "source": [
    "predicts, actuals = learner.get_preds(dl=dl_test)"
   ]
  },
  {
   "cell_type": "code",
   "execution_count": null,
   "metadata": {},
   "outputs": [],
   "source": [
    "sum(predicts.argmax(axis=1).numpy() == actuals.numpy())/len(predicts)"
   ]
  },
  {
   "cell_type": "markdown",
   "metadata": {},
   "source": [
    "#### The 2019 model did not predict 2022 Democratic or Republican Congressperson tweets very well. The accuracy was only 48%."
   ]
  },
  {
   "cell_type": "markdown",
   "metadata": {},
   "source": [
    "## Documentation on using a Test DataLoaders and learner.get_preds()"
   ]
  },
  {
   "cell_type": "markdown",
   "metadata": {},
   "source": [
    "### How to Create a Test Data Set:\n",
    "- It's probably easiest to create a DataLoader NOT a Dataset\n",
    "- It is NOT necessary to indicate which are `x,y` elements, i.e, no need to indicate the lable. This will be provided by the learner\n",
    "- Set `valid_pct = 0` to avoid splitting the data into train and valid dataloaders\n",
    "- `dls = DataLoaders.from_` factory methods create two dataloaders, i.e., train and valid\n",
    "- `dls[0]` is the train DataLoader and `dls[1]` is the valid DataLoader\n",
    "- When using the `DataLoader.from_` factory methods to create a test dataLoader, select a single dataloader, i.e., `dl_test = dls[0]`\n",
    "- `dl_test` is comprised of a single dataLoader containing multiple randomly orderd batches of paired, `x,y`"
   ]
  },
  {
   "cell_type": "markdown",
   "metadata": {},
   "source": [
    "### Using `get_preds` method\n",
    "- The learner can be the created directly through training or else loaded by `load_learner(\"some-export.pkl\")`\n",
    "- `learner.get_preds(dl = dl_test)`returns two Tensor arrays -> `predicts`, `actuals`\n",
    "- `predicts` is a TensorText array, itself comprised of TensorText arrays, where each array contains the predicted probabilities of each catagory\n",
    "- `actuals` is a TensorText array, where each element is the actual catagory\n",
    "- In other words, `predicts` relates to the prediction of the model whereas, `actuals` is the original lable for that catatory\n",
    "- `predicts` and `actuals` are all that is needed to determine the accuracy of the predictions"
   ]
  },
  {
   "cell_type": "code",
   "execution_count": null,
   "metadata": {},
   "outputs": [],
   "source": [
    "# Sample Code\n",
    "df_2022 = pd.read_csv(\"blue_red_training_valid.csv\")\n",
    "learner = load_learner(\"blue-or-red-2022.pkl\")\n",
    "dl_test = TextDataLoaders.from_df(df_2022, text_col='text', valid_pct=0)[0] # Important to choose first dataLoader\n",
    "predicts, actuals = learner.get_preds(dl = dl_test)\n",
    "sum(predicts.argmax(axis=1).numpy() == actuals.numpy())/len(predicts)"
   ]
  },
  {
   "cell_type": "code",
   "execution_count": null,
   "metadata": {},
   "outputs": [],
   "source": []
  },
  {
   "cell_type": "code",
   "execution_count": null,
   "metadata": {},
   "outputs": [],
   "source": []
  },
  {
   "cell_type": "code",
   "execution_count": null,
   "metadata": {},
   "outputs": [],
   "source": []
  }
 ],
 "metadata": {
  "kernelspec": {
   "display_name": "Python 3 (ipykernel)",
   "language": "python",
   "name": "python3"
  },
  "language_info": {
   "codemirror_mode": {
    "name": "ipython",
    "version": 3
   },
   "file_extension": ".py",
   "mimetype": "text/x-python",
   "name": "python",
   "nbconvert_exporter": "python",
   "pygments_lexer": "ipython3",
   "version": "3.9.13"
  },
  "varInspector": {
   "cols": {
    "lenName": 16,
    "lenType": 16,
    "lenVar": 40
   },
   "kernels_config": {
    "python": {
     "delete_cmd_postfix": "",
     "delete_cmd_prefix": "del ",
     "library": "var_list.py",
     "varRefreshCmd": "print(var_dic_list())"
    },
    "r": {
     "delete_cmd_postfix": ") ",
     "delete_cmd_prefix": "rm(",
     "library": "var_list.r",
     "varRefreshCmd": "cat(var_dic_list()) "
    }
   },
   "types_to_exclude": [
    "module",
    "function",
    "builtin_function_or_method",
    "instance",
    "_Feature"
   ],
   "window_display": false
  }
 },
 "nbformat": 4,
 "nbformat_minor": 2
}
