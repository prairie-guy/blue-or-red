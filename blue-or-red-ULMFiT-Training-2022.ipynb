{
 "cells": [
  {
   "cell_type": "markdown",
   "id": "989792d0",
   "metadata": {},
   "source": [
    "## NEW: ULMFiT-2 Blue-or-Red Training: 2022 Tweets"
   ]
  },
  {
   "cell_type": "code",
   "execution_count": 1,
   "id": "5adb228d",
   "metadata": {
    "ExecuteTime": {
     "end_time": "2022-06-10T04:48:45.329805Z",
     "start_time": "2022-06-10T04:48:43.131663Z"
    }
   },
   "outputs": [],
   "source": [
    "from fastai.text.all import *"
   ]
  },
  {
   "cell_type": "code",
   "execution_count": 2,
   "id": "68ee0d2a",
   "metadata": {
    "ExecuteTime": {
     "end_time": "2022-06-10T04:48:48.258305Z",
     "start_time": "2022-06-10T04:48:48.251073Z"
    }
   },
   "outputs": [],
   "source": [
    "import warnings\n",
    "warnings.simplefilter(action='ignore', category=FutureWarning)"
   ]
  },
  {
   "cell_type": "code",
   "execution_count": 3,
   "id": "0d4e645c",
   "metadata": {
    "ExecuteTime": {
     "end_time": "2022-06-10T04:48:52.799493Z",
     "start_time": "2022-06-10T04:48:52.400932Z"
    }
   },
   "outputs": [],
   "source": [
    "from ideology_utils import *"
   ]
  },
  {
   "cell_type": "markdown",
   "id": "ed34135d",
   "metadata": {},
   "source": [
    "#### Grab Congressional tweets for each week and create a dataframe"
   ]
  },
  {
   "cell_type": "code",
   "execution_count": 82,
   "id": "5493e01d",
   "metadata": {
    "ExecuteTime": {
     "end_time": "2022-06-10T05:31:24.217641Z",
     "start_time": "2022-06-10T05:31:24.210042Z"
    }
   },
   "outputs": [],
   "source": [
    "path = Path()\n",
    "path_22 = path/'tweets/'"
   ]
  },
  {
   "cell_type": "code",
   "execution_count": 83,
   "id": "c77c15f2",
   "metadata": {
    "ExecuteTime": {
     "end_time": "2022-06-10T05:31:31.047619Z",
     "start_time": "2022-06-10T05:31:27.180780Z"
    }
   },
   "outputs": [],
   "source": [
    "df = pd.concat(map(tweets2df, path_22.rglob(\"tweets-congress*/*\")))"
   ]
  },
  {
   "cell_type": "markdown",
   "id": "57feedf5",
   "metadata": {},
   "source": [
    "#### Label each tweet according by the handle of the legislator"
   ]
  },
  {
   "cell_type": "code",
   "execution_count": 84,
   "id": "4d9a54fc",
   "metadata": {
    "ExecuteTime": {
     "end_time": "2022-06-10T05:31:36.515711Z",
     "start_time": "2022-06-10T05:31:36.169580Z"
    }
   },
   "outputs": [],
   "source": [
    "df = label_tweets_of_legislators(df)\n",
    "df = df[['text','party']]"
   ]
  },
  {
   "cell_type": "markdown",
   "id": "cfe5bacc",
   "metadata": {},
   "source": [
    "#### Preprocess each of the tweets"
   ]
  },
  {
   "cell_type": "code",
   "execution_count": 85,
   "id": "7b225a5c",
   "metadata": {
    "ExecuteTime": {
     "end_time": "2022-06-10T05:31:42.063375Z",
     "start_time": "2022-06-10T05:31:40.581023Z"
    }
   },
   "outputs": [],
   "source": [
    "df = preprocess_tweets(df)"
   ]
  },
  {
   "cell_type": "markdown",
   "id": "49d57df9",
   "metadata": {},
   "source": [
    "#### Shuffle and create Training (which Validation) and Testing Sets"
   ]
  },
  {
   "cell_type": "code",
   "execution_count": 86,
   "id": "cbd70f4c",
   "metadata": {
    "ExecuteTime": {
     "end_time": "2022-06-10T05:31:44.777583Z",
     "start_time": "2022-06-10T05:31:44.761915Z"
    }
   },
   "outputs": [],
   "source": [
    "df = df.sample(frac=1).reset_index(drop=True)"
   ]
  },
  {
   "cell_type": "code",
   "execution_count": 87,
   "id": "9803fad8",
   "metadata": {
    "ExecuteTime": {
     "end_time": "2022-06-10T05:31:46.856380Z",
     "start_time": "2022-06-10T05:31:46.845396Z"
    }
   },
   "outputs": [
    {
     "data": {
      "text/plain": [
       "27096"
      ]
     },
     "execution_count": 87,
     "metadata": {},
     "output_type": "execute_result"
    }
   ],
   "source": [
    "n_tr = Int(.9*(len(df)))\n",
    "n_tr"
   ]
  },
  {
   "cell_type": "code",
   "execution_count": 88,
   "id": "2ebb8d58",
   "metadata": {
    "ExecuteTime": {
     "end_time": "2022-06-10T05:31:51.522325Z",
     "start_time": "2022-06-10T05:31:51.514670Z"
    }
   },
   "outputs": [],
   "source": [
    "df_train, df_test = df[:n_tr], df[n_tr+1:]"
   ]
  },
  {
   "cell_type": "markdown",
   "id": "88b35ed6",
   "metadata": {},
   "source": [
    "### Fine-tuning a language model on Congressional Tweets from 2022"
   ]
  },
  {
   "cell_type": "code",
   "execution_count": 98,
   "id": "55c38038",
   "metadata": {
    "ExecuteTime": {
     "end_time": "2022-06-10T05:36:03.345438Z",
     "start_time": "2022-06-10T05:35:47.410198Z"
    }
   },
   "outputs": [
    {
     "data": {
      "text/html": [
       "\n",
       "<style>\n",
       "    /* Turns off some styling */\n",
       "    progress {\n",
       "        /* gets rid of default border in Firefox and Opera. */\n",
       "        border: none;\n",
       "        /* Needs to be in here for Safari polyfill so background images work as expected. */\n",
       "        background-size: auto;\n",
       "    }\n",
       "    .progress-bar-interrupted, .progress-bar-interrupted::-webkit-progress-bar {\n",
       "        background: #F44336;\n",
       "    }\n",
       "</style>\n"
      ],
      "text/plain": [
       "<IPython.core.display.HTML object>"
      ]
     },
     "metadata": {},
     "output_type": "display_data"
    },
    {
     "data": {
      "text/html": [],
      "text/plain": [
       "<IPython.core.display.HTML object>"
      ]
     },
     "metadata": {},
     "output_type": "display_data"
    }
   ],
   "source": [
    "dls_lm = TextDataLoaders.from_df(df_train, is_lm=True, valid_pct=0.1, bs=128)"
   ]
  },
  {
   "cell_type": "code",
   "execution_count": 99,
   "id": "2e143055",
   "metadata": {
    "ExecuteTime": {
     "end_time": "2022-06-10T05:36:11.315858Z",
     "start_time": "2022-06-10T05:36:10.922068Z"
    }
   },
   "outputs": [
    {
     "data": {
      "text/html": [
       "<table border=\"1\" class=\"dataframe\">\n",
       "  <thead>\n",
       "    <tr style=\"text-align: right;\">\n",
       "      <th></th>\n",
       "      <th>text</th>\n",
       "      <th>text_</th>\n",
       "    </tr>\n",
       "  </thead>\n",
       "  <tbody>\n",
       "    <tr>\n",
       "      <th>0</th>\n",
       "      <td>xxbos xxmaj today is # headstart 's 57th birthday ! xxmaj join me in celebrating the nationwide impact of this vital program and the 39 + million # headstart alumni who have made such a difference in xxmaj nevada and across the country . http xxbos xxmaj my heart goes out to the families &amp; &amp; loved ones of xxmaj dr . xxmaj john xxmaj cheng who was killed during a senseless</td>\n",
       "      <td>xxmaj today is # headstart 's 57th birthday ! xxmaj join me in celebrating the nationwide impact of this vital program and the 39 + million # headstart alumni who have made such a difference in xxmaj nevada and across the country . http xxbos xxmaj my heart goes out to the families &amp; &amp; loved ones of xxmaj dr . xxmaj john xxmaj cheng who was killed during a senseless mass</td>\n",
       "    </tr>\n",
       "    <tr>\n",
       "      <th>1</th>\n",
       "      <td>economic cooperation &amp; &amp; the different way we need to look at security in xxmaj europe now that xxmaj russia has so xxunk invaded xxmaj ukraine . 2 / 4 xxbos xxmaj yesterday we met with xxup blm xxmaj director xxmaj tracy stone - xxunk to discuss xxmaj new xxmaj mexico ’s priorities &amp; &amp; the need to protect our lands waters &amp; &amp; resources &amp; &amp; consult with our communities on</td>\n",
       "      <td>cooperation &amp; &amp; the different way we need to look at security in xxmaj europe now that xxmaj russia has so xxunk invaded xxmaj ukraine . 2 / 4 xxbos xxmaj yesterday we met with xxup blm xxmaj director xxmaj tracy stone - xxunk to discuss xxmaj new xxmaj mexico ’s priorities &amp; &amp; the need to protect our lands waters &amp; &amp; resources &amp; &amp; consult with our communities on any</td>\n",
       "    </tr>\n",
       "    <tr>\n",
       "      <th>2</th>\n",
       "      <td>toxic blend of racism xxunk and gun violence is domestic terrorism . http xxbos a teacher told me “ i see the fear in my students ’ eyes . xxmaj they have so much courage but they should n’t need courage to walk into their classroom . ”i agree with her which is why xxmaj i ’m urging my colleagues to act . xxmaj there are popular commonsense steps we can take</td>\n",
       "      <td>blend of racism xxunk and gun violence is domestic terrorism . http xxbos a teacher told me “ i see the fear in my students ’ eyes . xxmaj they have so much courage but they should n’t need courage to walk into their classroom . ”i agree with her which is why xxmaj i ’m urging my colleagues to act . xxmaj there are popular commonsense steps we can take to</td>\n",
       "    </tr>\n",
       "    <tr>\n",
       "      <th>3</th>\n",
       "      <td>out here soon ! # xxunk xxbos xxmaj as xxmaj i 've had some time to think on last week 's tragic events i wanted to share some xxunk . xxmaj the breakdown of the traditional xxmaj american family &amp; &amp; our shared values directly xxunk with the rise in the number of troubled individuals who commit mass xxunk / 3 xxbos i look forward to continuing to work with the xxmaj</td>\n",
       "      <td>here soon ! # xxunk xxbos xxmaj as xxmaj i 've had some time to think on last week 's tragic events i wanted to share some xxunk . xxmaj the breakdown of the traditional xxmaj american family &amp; &amp; our shared values directly xxunk with the rise in the number of troubled individuals who commit mass xxunk / 3 xxbos i look forward to continuing to work with the xxmaj secretary</td>\n",
       "    </tr>\n",
       "    <tr>\n",
       "      <th>4</th>\n",
       "      <td>’ve got to start addressing the root cause behind these senseless acts . xxmaj we ’ve got to start taking care of one xxunk : / / t.co / xxunk xxbos xxmaj powerful evidence released today by @user &amp; &amp; @user xxunk the horrors occurring in xxmaj xinjiang . xxmaj these are nothing short of modern day concentration camps xxunk as “ vocational training centers . ” # xinjiangpolicefiles # xxunk xxbos</td>\n",
       "      <td>got to start addressing the root cause behind these senseless acts . xxmaj we ’ve got to start taking care of one xxunk : / / t.co / xxunk xxbos xxmaj powerful evidence released today by @user &amp; &amp; @user xxunk the horrors occurring in xxmaj xinjiang . xxmaj these are nothing short of modern day concentration camps xxunk as “ vocational training centers . ” # xinjiangpolicefiles # xxunk xxbos xxmaj</td>\n",
       "    </tr>\n",
       "  </tbody>\n",
       "</table>"
      ],
      "text/plain": [
       "<IPython.core.display.HTML object>"
      ]
     },
     "metadata": {},
     "output_type": "display_data"
    }
   ],
   "source": [
    "dls_lm.show_batch(max_n=5)"
   ]
  },
  {
   "cell_type": "code",
   "execution_count": 100,
   "id": "3be890a6",
   "metadata": {
    "ExecuteTime": {
     "end_time": "2022-06-10T05:36:17.780972Z",
     "start_time": "2022-06-10T05:36:17.199655Z"
    }
   },
   "outputs": [],
   "source": [
    "learn = language_model_learner(dls_lm, AWD_LSTM, metrics=[accuracy, Perplexity()], path=path, wd=0.1).to_fp16()"
   ]
  },
  {
   "cell_type": "code",
   "execution_count": 46,
   "id": "f36078df",
   "metadata": {
    "ExecuteTime": {
     "end_time": "2022-06-10T05:11:14.402444Z",
     "start_time": "2022-06-10T05:08:38.755168Z"
    },
    "scrolled": false
   },
   "outputs": [
    {
     "data": {
      "text/html": [
       "\n",
       "<style>\n",
       "    /* Turns off some styling */\n",
       "    progress {\n",
       "        /* gets rid of default border in Firefox and Opera. */\n",
       "        border: none;\n",
       "        /* Needs to be in here for Safari polyfill so background images work as expected. */\n",
       "        background-size: auto;\n",
       "    }\n",
       "    .progress-bar-interrupted, .progress-bar-interrupted::-webkit-progress-bar {\n",
       "        background: #F44336;\n",
       "    }\n",
       "</style>\n"
      ],
      "text/plain": [
       "<IPython.core.display.HTML object>"
      ]
     },
     "metadata": {},
     "output_type": "display_data"
    },
    {
     "data": {
      "text/html": [],
      "text/plain": [
       "<IPython.core.display.HTML object>"
      ]
     },
     "metadata": {},
     "output_type": "display_data"
    },
    {
     "data": {
      "text/plain": [
       "SuggestedLRs(valley=0.009120108559727669)"
      ]
     },
     "execution_count": 46,
     "metadata": {},
     "output_type": "execute_result"
    },
    {
     "data": {
      "image/png": "[encoded data removed]",
      "text/plain": [
       "<Figure size 432x288 with 1 Axes>"
      ]
     },
     "metadata": {
      "needs_background": "light"
     },
     "output_type": "display_data"
    }
   ],
   "source": [
    "learn.lr_find()"
   ]
  },
  {
   "cell_type": "code",
   "execution_count": 101,
   "id": "a29dc5ba",
   "metadata": {
    "ExecuteTime": {
     "end_time": "2022-06-10T05:38:45.944650Z",
     "start_time": "2022-06-10T05:36:23.950217Z"
    },
    "scrolled": true
   },
   "outputs": [
    {
     "data": {
      "text/html": [
       "\n",
       "<style>\n",
       "    /* Turns off some styling */\n",
       "    progress {\n",
       "        /* gets rid of default border in Firefox and Opera. */\n",
       "        border: none;\n",
       "        /* Needs to be in here for Safari polyfill so background images work as expected. */\n",
       "        background-size: auto;\n",
       "    }\n",
       "    .progress-bar-interrupted, .progress-bar-interrupted::-webkit-progress-bar {\n",
       "        background: #F44336;\n",
       "    }\n",
       "</style>\n"
      ],
      "text/plain": [
       "<IPython.core.display.HTML object>"
      ]
     },
     "metadata": {},
     "output_type": "display_data"
    },
    {
     "data": {
      "text/html": [
       "<table border=\"1\" class=\"dataframe\">\n",
       "  <thead>\n",
       "    <tr style=\"text-align: left;\">\n",
       "      <th>epoch</th>\n",
       "      <th>train_loss</th>\n",
       "      <th>valid_loss</th>\n",
       "      <th>accuracy</th>\n",
       "      <th>perplexity</th>\n",
       "      <th>time</th>\n",
       "    </tr>\n",
       "  </thead>\n",
       "  <tbody>\n",
       "    <tr>\n",
       "      <td>0</td>\n",
       "      <td>4.501612</td>\n",
       "      <td>3.723868</td>\n",
       "      <td>0.326069</td>\n",
       "      <td>41.424301</td>\n",
       "      <td>00:47</td>\n",
       "    </tr>\n",
       "    <tr>\n",
       "      <td>1</td>\n",
       "      <td>3.876400</td>\n",
       "      <td>3.496455</td>\n",
       "      <td>0.347616</td>\n",
       "      <td>32.998257</td>\n",
       "      <td>00:47</td>\n",
       "    </tr>\n",
       "    <tr>\n",
       "      <td>2</td>\n",
       "      <td>3.691785</td>\n",
       "      <td>3.464839</td>\n",
       "      <td>0.350623</td>\n",
       "      <td>31.971327</td>\n",
       "      <td>00:47</td>\n",
       "    </tr>\n",
       "  </tbody>\n",
       "</table>"
      ],
      "text/plain": [
       "<IPython.core.display.HTML object>"
      ]
     },
     "metadata": {},
     "output_type": "display_data"
    }
   ],
   "source": [
    "learn.fit_one_cycle(3, .008)"
   ]
  },
  {
   "cell_type": "code",
   "execution_count": 102,
   "id": "25a14646",
   "metadata": {
    "ExecuteTime": {
     "end_time": "2022-06-10T05:41:13.799283Z",
     "start_time": "2022-06-10T05:38:49.649796Z"
    },
    "scrolled": false
   },
   "outputs": [
    {
     "data": {
      "text/html": [
       "\n",
       "<style>\n",
       "    /* Turns off some styling */\n",
       "    progress {\n",
       "        /* gets rid of default border in Firefox and Opera. */\n",
       "        border: none;\n",
       "        /* Needs to be in here for Safari polyfill so background images work as expected. */\n",
       "        background-size: auto;\n",
       "    }\n",
       "    .progress-bar-interrupted, .progress-bar-interrupted::-webkit-progress-bar {\n",
       "        background: #F44336;\n",
       "    }\n",
       "</style>\n"
      ],
      "text/plain": [
       "<IPython.core.display.HTML object>"
      ]
     },
     "metadata": {},
     "output_type": "display_data"
    },
    {
     "data": {
      "text/html": [
       "<table border=\"1\" class=\"dataframe\">\n",
       "  <thead>\n",
       "    <tr style=\"text-align: left;\">\n",
       "      <th>epoch</th>\n",
       "      <th>train_loss</th>\n",
       "      <th>valid_loss</th>\n",
       "      <th>accuracy</th>\n",
       "      <th>perplexity</th>\n",
       "      <th>time</th>\n",
       "    </tr>\n",
       "  </thead>\n",
       "  <tbody>\n",
       "    <tr>\n",
       "      <td>0</td>\n",
       "      <td>3.499863</td>\n",
       "      <td>3.290524</td>\n",
       "      <td>0.371759</td>\n",
       "      <td>26.856920</td>\n",
       "      <td>00:48</td>\n",
       "    </tr>\n",
       "    <tr>\n",
       "      <td>1</td>\n",
       "      <td>3.212859</td>\n",
       "      <td>3.078983</td>\n",
       "      <td>0.399195</td>\n",
       "      <td>21.736286</td>\n",
       "      <td>00:47</td>\n",
       "    </tr>\n",
       "    <tr>\n",
       "      <td>2</td>\n",
       "      <td>2.878273</td>\n",
       "      <td>3.021015</td>\n",
       "      <td>0.408849</td>\n",
       "      <td>20.512100</td>\n",
       "      <td>00:48</td>\n",
       "    </tr>\n",
       "  </tbody>\n",
       "</table>"
      ],
      "text/plain": [
       "<IPython.core.display.HTML object>"
      ]
     },
     "metadata": {},
     "output_type": "display_data"
    }
   ],
   "source": [
    "learn.unfreeze()\n",
    "learn.fit_one_cycle(3, .008)"
   ]
  },
  {
   "cell_type": "code",
   "execution_count": 103,
   "id": "e8452b5a",
   "metadata": {
    "ExecuteTime": {
     "end_time": "2022-06-10T05:43:11.250984Z",
     "start_time": "2022-06-10T05:41:33.913402Z"
    },
    "scrolled": false
   },
   "outputs": [
    {
     "data": {
      "text/html": [
       "\n",
       "<style>\n",
       "    /* Turns off some styling */\n",
       "    progress {\n",
       "        /* gets rid of default border in Firefox and Opera. */\n",
       "        border: none;\n",
       "        /* Needs to be in here for Safari polyfill so background images work as expected. */\n",
       "        background-size: auto;\n",
       "    }\n",
       "    .progress-bar-interrupted, .progress-bar-interrupted::-webkit-progress-bar {\n",
       "        background: #F44336;\n",
       "    }\n",
       "</style>\n"
      ],
      "text/plain": [
       "<IPython.core.display.HTML object>"
      ]
     },
     "metadata": {},
     "output_type": "display_data"
    },
    {
     "data": {
      "text/html": [
       "<table border=\"1\" class=\"dataframe\">\n",
       "  <thead>\n",
       "    <tr style=\"text-align: left;\">\n",
       "      <th>epoch</th>\n",
       "      <th>train_loss</th>\n",
       "      <th>valid_loss</th>\n",
       "      <th>accuracy</th>\n",
       "      <th>perplexity</th>\n",
       "      <th>time</th>\n",
       "    </tr>\n",
       "  </thead>\n",
       "  <tbody>\n",
       "    <tr>\n",
       "      <td>0</td>\n",
       "      <td>3.027977</td>\n",
       "      <td>3.097367</td>\n",
       "      <td>0.396241</td>\n",
       "      <td>22.139576</td>\n",
       "      <td>00:48</td>\n",
       "    </tr>\n",
       "    <tr>\n",
       "      <td>1</td>\n",
       "      <td>2.791495</td>\n",
       "      <td>2.997048</td>\n",
       "      <td>0.414962</td>\n",
       "      <td>20.026329</td>\n",
       "      <td>00:48</td>\n",
       "    </tr>\n",
       "  </tbody>\n",
       "</table>"
      ],
      "text/plain": [
       "<IPython.core.display.HTML object>"
      ]
     },
     "metadata": {},
     "output_type": "display_data"
    }
   ],
   "source": [
    "learn.unfreeze()\n",
    "learn.fit_one_cycle(2, .008)"
   ]
  },
  {
   "cell_type": "code",
   "execution_count": 104,
   "id": "eb62a92f",
   "metadata": {
    "ExecuteTime": {
     "end_time": "2022-06-10T05:43:17.743026Z",
     "start_time": "2022-06-10T05:43:17.600098Z"
    }
   },
   "outputs": [],
   "source": [
    "learn.save_encoder('ulmfit-lm-2022')"
   ]
  },
  {
   "cell_type": "markdown",
   "id": "6097a6eb",
   "metadata": {},
   "source": [
    "### Training a text classifier"
   ]
  },
  {
   "cell_type": "code",
   "execution_count": 105,
   "id": "0bb4b7f1",
   "metadata": {
    "ExecuteTime": {
     "end_time": "2022-06-10T05:43:47.156862Z",
     "start_time": "2022-06-10T05:43:21.502340Z"
    }
   },
   "outputs": [
    {
     "data": {
      "text/html": [
       "\n",
       "<style>\n",
       "    /* Turns off some styling */\n",
       "    progress {\n",
       "        /* gets rid of default border in Firefox and Opera. */\n",
       "        border: none;\n",
       "        /* Needs to be in here for Safari polyfill so background images work as expected. */\n",
       "        background-size: auto;\n",
       "    }\n",
       "    .progress-bar-interrupted, .progress-bar-interrupted::-webkit-progress-bar {\n",
       "        background: #F44336;\n",
       "    }\n",
       "</style>\n"
      ],
      "text/plain": [
       "<IPython.core.display.HTML object>"
      ]
     },
     "metadata": {},
     "output_type": "display_data"
    },
    {
     "data": {
      "text/html": [],
      "text/plain": [
       "<IPython.core.display.HTML object>"
      ]
     },
     "metadata": {},
     "output_type": "display_data"
    }
   ],
   "source": [
    "dls_clas = TextDataLoaders.from_df(df_train, valid_pct=.2, text_col='text', label='party',           text_vocab=dls_lm.vocab, bs=128)"
   ]
  },
  {
   "cell_type": "code",
   "execution_count": 106,
   "id": "2e520cc3",
   "metadata": {
    "ExecuteTime": {
     "end_time": "2022-06-10T05:43:47.704521Z",
     "start_time": "2022-06-10T05:43:47.190325Z"
    }
   },
   "outputs": [],
   "source": [
    "learn = text_classifier_learner(dls_clas, AWD_LSTM, drop_mult=0.5, metrics=accuracy)"
   ]
  },
  {
   "cell_type": "code",
   "execution_count": 107,
   "id": "8d6c4fd0",
   "metadata": {
    "ExecuteTime": {
     "end_time": "2022-06-10T05:43:47.807940Z",
     "start_time": "2022-06-10T05:43:47.737291Z"
    }
   },
   "outputs": [],
   "source": [
    "learn = learn.load_encoder('ulmfit-lm-2022') # Reuse language model"
   ]
  },
  {
   "cell_type": "code",
   "execution_count": 108,
   "id": "df26e79c",
   "metadata": {
    "ExecuteTime": {
     "end_time": "2022-06-10T05:43:56.367810Z",
     "start_time": "2022-06-10T05:43:50.841709Z"
    }
   },
   "outputs": [
    {
     "data": {
      "text/html": [
       "\n",
       "<style>\n",
       "    /* Turns off some styling */\n",
       "    progress {\n",
       "        /* gets rid of default border in Firefox and Opera. */\n",
       "        border: none;\n",
       "        /* Needs to be in here for Safari polyfill so background images work as expected. */\n",
       "        background-size: auto;\n",
       "    }\n",
       "    .progress-bar-interrupted, .progress-bar-interrupted::-webkit-progress-bar {\n",
       "        background: #F44336;\n",
       "    }\n",
       "</style>\n"
      ],
      "text/plain": [
       "<IPython.core.display.HTML object>"
      ]
     },
     "metadata": {},
     "output_type": "display_data"
    },
    {
     "data": {
      "text/html": [],
      "text/plain": [
       "<IPython.core.display.HTML object>"
      ]
     },
     "metadata": {},
     "output_type": "display_data"
    },
    {
     "data": {
      "text/plain": [
       "SuggestedLRs(valley=0.0014454397605732083)"
      ]
     },
     "execution_count": 108,
     "metadata": {},
     "output_type": "execute_result"
    },
    {
     "data": {
      "image/png": "[encoded data removed]",
      "text/plain": [
       "<Figure size 432x288 with 1 Axes>"
      ]
     },
     "metadata": {
      "needs_background": "light"
     },
     "output_type": "display_data"
    }
   ],
   "source": [
    "learn.lr_find()"
   ]
  },
  {
   "cell_type": "code",
   "execution_count": 109,
   "id": "2d6a80e7",
   "metadata": {
    "ExecuteTime": {
     "end_time": "2022-06-10T05:45:05.467441Z",
     "start_time": "2022-06-10T05:44:47.703280Z"
    }
   },
   "outputs": [
    {
     "data": {
      "text/html": [
       "\n",
       "<style>\n",
       "    /* Turns off some styling */\n",
       "    progress {\n",
       "        /* gets rid of default border in Firefox and Opera. */\n",
       "        border: none;\n",
       "        /* Needs to be in here for Safari polyfill so background images work as expected. */\n",
       "        background-size: auto;\n",
       "    }\n",
       "    .progress-bar-interrupted, .progress-bar-interrupted::-webkit-progress-bar {\n",
       "        background: #F44336;\n",
       "    }\n",
       "</style>\n"
      ],
      "text/plain": [
       "<IPython.core.display.HTML object>"
      ]
     },
     "metadata": {},
     "output_type": "display_data"
    },
    {
     "data": {
      "text/html": [
       "<table border=\"1\" class=\"dataframe\">\n",
       "  <thead>\n",
       "    <tr style=\"text-align: left;\">\n",
       "      <th>epoch</th>\n",
       "      <th>train_loss</th>\n",
       "      <th>valid_loss</th>\n",
       "      <th>accuracy</th>\n",
       "      <th>time</th>\n",
       "    </tr>\n",
       "  </thead>\n",
       "  <tbody>\n",
       "    <tr>\n",
       "      <td>0</td>\n",
       "      <td>0.513232</td>\n",
       "      <td>0.474964</td>\n",
       "      <td>0.767485</td>\n",
       "      <td>00:08</td>\n",
       "    </tr>\n",
       "    <tr>\n",
       "      <td>1</td>\n",
       "      <td>0.471911</td>\n",
       "      <td>0.443060</td>\n",
       "      <td>0.781694</td>\n",
       "      <td>00:08</td>\n",
       "    </tr>\n",
       "  </tbody>\n",
       "</table>"
      ],
      "text/plain": [
       "<IPython.core.display.HTML object>"
      ]
     },
     "metadata": {},
     "output_type": "display_data"
    }
   ],
   "source": [
    "learn.fit_one_cycle(2, 1e-3)"
   ]
  },
  {
   "cell_type": "code",
   "execution_count": 110,
   "id": "5d562fa2",
   "metadata": {
    "ExecuteTime": {
     "end_time": "2022-06-10T05:45:40.129264Z",
     "start_time": "2022-06-10T05:45:10.411108Z"
    }
   },
   "outputs": [
    {
     "data": {
      "text/html": [
       "\n",
       "<style>\n",
       "    /* Turns off some styling */\n",
       "    progress {\n",
       "        /* gets rid of default border in Firefox and Opera. */\n",
       "        border: none;\n",
       "        /* Needs to be in here for Safari polyfill so background images work as expected. */\n",
       "        background-size: auto;\n",
       "    }\n",
       "    .progress-bar-interrupted, .progress-bar-interrupted::-webkit-progress-bar {\n",
       "        background: #F44336;\n",
       "    }\n",
       "</style>\n"
      ],
      "text/plain": [
       "<IPython.core.display.HTML object>"
      ]
     },
     "metadata": {},
     "output_type": "display_data"
    },
    {
     "data": {
      "text/html": [
       "<table border=\"1\" class=\"dataframe\">\n",
       "  <thead>\n",
       "    <tr style=\"text-align: left;\">\n",
       "      <th>epoch</th>\n",
       "      <th>train_loss</th>\n",
       "      <th>valid_loss</th>\n",
       "      <th>accuracy</th>\n",
       "      <th>time</th>\n",
       "    </tr>\n",
       "  </thead>\n",
       "  <tbody>\n",
       "    <tr>\n",
       "      <td>0</td>\n",
       "      <td>0.485077</td>\n",
       "      <td>0.433368</td>\n",
       "      <td>0.787968</td>\n",
       "      <td>00:09</td>\n",
       "    </tr>\n",
       "    <tr>\n",
       "      <td>1</td>\n",
       "      <td>0.416512</td>\n",
       "      <td>0.382542</td>\n",
       "      <td>0.816018</td>\n",
       "      <td>00:09</td>\n",
       "    </tr>\n",
       "    <tr>\n",
       "      <td>2</td>\n",
       "      <td>0.334801</td>\n",
       "      <td>0.375291</td>\n",
       "      <td>0.827090</td>\n",
       "      <td>00:09</td>\n",
       "    </tr>\n",
       "  </tbody>\n",
       "</table>"
      ],
      "text/plain": [
       "<IPython.core.display.HTML object>"
      ]
     },
     "metadata": {},
     "output_type": "display_data"
    }
   ],
   "source": [
    "learn.freeze_to(-2)\n",
    "learn.fit_one_cycle(3, slice(1e-2/(2.6**4),1e-2))"
   ]
  },
  {
   "cell_type": "code",
   "execution_count": 111,
   "id": "00e7941f",
   "metadata": {
    "ExecuteTime": {
     "end_time": "2022-06-10T05:46:52.336861Z",
     "start_time": "2022-06-10T05:45:46.307042Z"
    }
   },
   "outputs": [
    {
     "data": {
      "text/html": [
       "\n",
       "<style>\n",
       "    /* Turns off some styling */\n",
       "    progress {\n",
       "        /* gets rid of default border in Firefox and Opera. */\n",
       "        border: none;\n",
       "        /* Needs to be in here for Safari polyfill so background images work as expected. */\n",
       "        background-size: auto;\n",
       "    }\n",
       "    .progress-bar-interrupted, .progress-bar-interrupted::-webkit-progress-bar {\n",
       "        background: #F44336;\n",
       "    }\n",
       "</style>\n"
      ],
      "text/plain": [
       "<IPython.core.display.HTML object>"
      ]
     },
     "metadata": {},
     "output_type": "display_data"
    },
    {
     "data": {
      "text/html": [
       "<table border=\"1\" class=\"dataframe\">\n",
       "  <thead>\n",
       "    <tr style=\"text-align: left;\">\n",
       "      <th>epoch</th>\n",
       "      <th>train_loss</th>\n",
       "      <th>valid_loss</th>\n",
       "      <th>accuracy</th>\n",
       "      <th>time</th>\n",
       "    </tr>\n",
       "  </thead>\n",
       "  <tbody>\n",
       "    <tr>\n",
       "      <td>0</td>\n",
       "      <td>0.316442</td>\n",
       "      <td>0.396247</td>\n",
       "      <td>0.822292</td>\n",
       "      <td>00:16</td>\n",
       "    </tr>\n",
       "    <tr>\n",
       "      <td>1</td>\n",
       "      <td>0.295670</td>\n",
       "      <td>0.365037</td>\n",
       "      <td>0.835948</td>\n",
       "      <td>00:16</td>\n",
       "    </tr>\n",
       "    <tr>\n",
       "      <td>2</td>\n",
       "      <td>0.188301</td>\n",
       "      <td>0.395087</td>\n",
       "      <td>0.853109</td>\n",
       "      <td>00:16</td>\n",
       "    </tr>\n",
       "    <tr>\n",
       "      <td>3</td>\n",
       "      <td>0.126308</td>\n",
       "      <td>0.434397</td>\n",
       "      <td>0.855139</td>\n",
       "      <td>00:16</td>\n",
       "    </tr>\n",
       "  </tbody>\n",
       "</table>"
      ],
      "text/plain": [
       "<IPython.core.display.HTML object>"
      ]
     },
     "metadata": {},
     "output_type": "display_data"
    }
   ],
   "source": [
    "learn.freeze_to(-5)\n",
    "learn.fit_one_cycle(4, slice(5e-3/(2.6**4),5e-3))"
   ]
  },
  {
   "cell_type": "code",
   "execution_count": 112,
   "id": "0545721f",
   "metadata": {
    "ExecuteTime": {
     "end_time": "2022-06-10T05:46:57.030002Z",
     "start_time": "2022-06-10T05:46:56.602979Z"
    }
   },
   "outputs": [
    {
     "data": {
      "text/plain": [
       "Path('models/clss-fifth-2022.pth')"
      ]
     },
     "execution_count": 112,
     "metadata": {},
     "output_type": "execute_result"
    }
   ],
   "source": [
    "learn.save(\"clss-fifth-2022\")"
   ]
  },
  {
   "cell_type": "code",
   "execution_count": 113,
   "id": "07ab5031",
   "metadata": {
    "ExecuteTime": {
     "end_time": "2022-06-10T05:47:32.859246Z",
     "start_time": "2022-06-10T05:46:59.865043Z"
    }
   },
   "outputs": [
    {
     "data": {
      "text/html": [
       "\n",
       "<style>\n",
       "    /* Turns off some styling */\n",
       "    progress {\n",
       "        /* gets rid of default border in Firefox and Opera. */\n",
       "        border: none;\n",
       "        /* Needs to be in here for Safari polyfill so background images work as expected. */\n",
       "        background-size: auto;\n",
       "    }\n",
       "    .progress-bar-interrupted, .progress-bar-interrupted::-webkit-progress-bar {\n",
       "        background: #F44336;\n",
       "    }\n",
       "</style>\n"
      ],
      "text/plain": [
       "<IPython.core.display.HTML object>"
      ]
     },
     "metadata": {},
     "output_type": "display_data"
    },
    {
     "data": {
      "text/html": [
       "<table border=\"1\" class=\"dataframe\">\n",
       "  <thead>\n",
       "    <tr style=\"text-align: left;\">\n",
       "      <th>epoch</th>\n",
       "      <th>train_loss</th>\n",
       "      <th>valid_loss</th>\n",
       "      <th>accuracy</th>\n",
       "      <th>time</th>\n",
       "    </tr>\n",
       "  </thead>\n",
       "  <tbody>\n",
       "    <tr>\n",
       "      <td>0</td>\n",
       "      <td>0.114806</td>\n",
       "      <td>0.491273</td>\n",
       "      <td>0.851449</td>\n",
       "      <td>00:16</td>\n",
       "    </tr>\n",
       "    <tr>\n",
       "      <td>1</td>\n",
       "      <td>0.094655</td>\n",
       "      <td>0.474802</td>\n",
       "      <td>0.852740</td>\n",
       "      <td>00:16</td>\n",
       "    </tr>\n",
       "  </tbody>\n",
       "</table>"
      ],
      "text/plain": [
       "<IPython.core.display.HTML object>"
      ]
     },
     "metadata": {},
     "output_type": "display_data"
    }
   ],
   "source": [
    "learn.unfreeze()\n",
    "learn.fit_one_cycle(2, slice(1e-3/(2.6**4),1e-3))"
   ]
  },
  {
   "cell_type": "code",
   "execution_count": 114,
   "id": "8daecaae",
   "metadata": {
    "ExecuteTime": {
     "end_time": "2022-06-10T05:47:37.305099Z",
     "start_time": "2022-06-10T05:47:36.925906Z"
    }
   },
   "outputs": [],
   "source": [
    "learn.export(\"ulmfit-2022.pkl\")"
   ]
  },
  {
   "cell_type": "markdown",
   "id": "6fc06093",
   "metadata": {},
   "source": [
    "### Evaluate Model on Test Dataset"
   ]
  },
  {
   "cell_type": "code",
   "execution_count": 115,
   "id": "79f0feba",
   "metadata": {
    "ExecuteTime": {
     "end_time": "2022-06-10T05:47:51.841864Z",
     "start_time": "2022-06-10T05:47:47.243318Z"
    }
   },
   "outputs": [],
   "source": [
    "dl_test = learn.dls.test_dl(df_test, with_labels=True)"
   ]
  },
  {
   "cell_type": "code",
   "execution_count": 116,
   "id": "69519b41",
   "metadata": {
    "ExecuteTime": {
     "end_time": "2022-06-10T05:47:55.998444Z",
     "start_time": "2022-06-10T05:47:53.800830Z"
    }
   },
   "outputs": [
    {
     "data": {
      "text/html": [
       "\n",
       "<style>\n",
       "    /* Turns off some styling */\n",
       "    progress {\n",
       "        /* gets rid of default border in Firefox and Opera. */\n",
       "        border: none;\n",
       "        /* Needs to be in here for Safari polyfill so background images work as expected. */\n",
       "        background-size: auto;\n",
       "    }\n",
       "    .progress-bar-interrupted, .progress-bar-interrupted::-webkit-progress-bar {\n",
       "        background: #F44336;\n",
       "    }\n",
       "</style>\n"
      ],
      "text/plain": [
       "<IPython.core.display.HTML object>"
      ]
     },
     "metadata": {},
     "output_type": "display_data"
    },
    {
     "data": {
      "text/html": [],
      "text/plain": [
       "<IPython.core.display.HTML object>"
      ]
     },
     "metadata": {},
     "output_type": "display_data"
    }
   ],
   "source": [
    "predicts, actuals = learn.get_preds(dl = dl_test)\n",
    "predicts, actuals = np.argmax(predicts, axis=1).numpy(), actuals.numpy()"
   ]
  },
  {
   "cell_type": "code",
   "execution_count": 117,
   "id": "0cc41d16",
   "metadata": {
    "ExecuteTime": {
     "end_time": "2022-06-10T05:47:58.735372Z",
     "start_time": "2022-06-10T05:47:58.720866Z"
    }
   },
   "outputs": [
    {
     "data": {
      "text/plain": [
       "0.8531561461794019"
      ]
     },
     "execution_count": 117,
     "metadata": {},
     "output_type": "execute_result"
    }
   ],
   "source": [
    "sum(predicts == actuals)/len(predicts)"
   ]
  },
  {
   "cell_type": "markdown",
   "id": "7122addd",
   "metadata": {},
   "source": [
    "The **85.3%** accuracy of the model predictions on the **Test Data** is nearly identical to that of the accuracy model prediction on the **Training Data.**"
   ]
  },
  {
   "cell_type": "markdown",
   "id": "ebece752",
   "metadata": {},
   "source": [
    "###  Load Model"
   ]
  },
  {
   "cell_type": "code",
   "execution_count": 121,
   "id": "66f48ce1",
   "metadata": {
    "ExecuteTime": {
     "end_time": "2022-06-10T05:49:55.239991Z",
     "start_time": "2022-06-10T05:49:41.448509Z"
    },
    "scrolled": false
   },
   "outputs": [
    {
     "data": {
      "text/html": [
       "\n",
       "<style>\n",
       "    /* Turns off some styling */\n",
       "    progress {\n",
       "        /* gets rid of default border in Firefox and Opera. */\n",
       "        border: none;\n",
       "        /* Needs to be in here for Safari polyfill so background images work as expected. */\n",
       "        background-size: auto;\n",
       "    }\n",
       "    .progress-bar-interrupted, .progress-bar-interrupted::-webkit-progress-bar {\n",
       "        background: #F44336;\n",
       "    }\n",
       "</style>\n"
      ],
      "text/plain": [
       "<IPython.core.display.HTML object>"
      ]
     },
     "metadata": {},
     "output_type": "display_data"
    },
    {
     "data": {
      "text/html": [],
      "text/plain": [
       "<IPython.core.display.HTML object>"
      ]
     },
     "metadata": {},
     "output_type": "display_data"
    },
    {
     "data": {
      "text/plain": [
       "[0.68, 0.66, 1451]"
      ]
     },
     "execution_count": 121,
     "metadata": {},
     "output_type": "execute_result"
    }
   ],
   "source": [
    "path_19 = '/home/cdaniels/fastai-projects/blue-or-red/data_full'\n",
    "ideology_score(Path(path_19)/\"McConnellPress.csv\",\"ulmfit-2022.pkl\")"
   ]
  },
  {
   "cell_type": "code",
   "execution_count": 122,
   "id": "417fb5c0",
   "metadata": {
    "ExecuteTime": {
     "end_time": "2022-06-10T05:50:03.543679Z",
     "start_time": "2022-06-10T05:50:00.969757Z"
    }
   },
   "outputs": [
    {
     "data": {
      "text/html": [
       "\n",
       "<style>\n",
       "    /* Turns off some styling */\n",
       "    progress {\n",
       "        /* gets rid of default border in Firefox and Opera. */\n",
       "        border: none;\n",
       "        /* Needs to be in here for Safari polyfill so background images work as expected. */\n",
       "        background-size: auto;\n",
       "    }\n",
       "    .progress-bar-interrupted, .progress-bar-interrupted::-webkit-progress-bar {\n",
       "        background: #F44336;\n",
       "    }\n",
       "</style>\n"
      ],
      "text/plain": [
       "<IPython.core.display.HTML object>"
      ]
     },
     "metadata": {},
     "output_type": "display_data"
    },
    {
     "data": {
      "text/html": [],
      "text/plain": [
       "<IPython.core.display.HTML object>"
      ]
     },
     "metadata": {},
     "output_type": "display_data"
    },
    {
     "data": {
      "text/plain": [
       "[0.94, 0.92, 18]"
      ]
     },
     "execution_count": 122,
     "metadata": {},
     "output_type": "execute_result"
    }
   ],
   "source": [
    "path_22 = path/'tweets'/'tweets-congress-2022-05-24'\n",
    "ideology_score(path_22/'McConnellPress.csv', \"ulmfit-2022.pkl\")"
   ]
  },
  {
   "cell_type": "code",
   "execution_count": null,
   "id": "4269943a",
   "metadata": {},
   "outputs": [],
   "source": []
  },
  {
   "cell_type": "code",
   "execution_count": null,
   "id": "555dde27",
   "metadata": {},
   "outputs": [],
   "source": []
  },
  {
   "cell_type": "code",
   "execution_count": null,
   "id": "aba70a8d",
   "metadata": {},
   "outputs": [],
   "source": []
  },
  {
   "cell_type": "code",
   "execution_count": null,
   "id": "72dccfba",
   "metadata": {},
   "outputs": [],
   "source": []
  }
 ],
 "metadata": {
  "kernelspec": {
   "display_name": "Python 3 (ipykernel)",
   "language": "python",
   "name": "python3"
  },
  "language_info": {
   "codemirror_mode": {
    "name": "ipython",
    "version": 3
   },
   "file_extension": ".py",
   "mimetype": "text/x-python",
   "name": "python",
   "nbconvert_exporter": "python",
   "pygments_lexer": "ipython3",
   "version": "3.9.13"
  },
  "varInspector": {
   "cols": {
    "lenName": 16,
    "lenType": 16,
    "lenVar": 40
   },
   "kernels_config": {
    "python": {
     "delete_cmd_postfix": "",
     "delete_cmd_prefix": "del ",
     "library": "var_list.py",
     "varRefreshCmd": "print(var_dic_list())"
    },
    "r": {
     "delete_cmd_postfix": ") ",
     "delete_cmd_prefix": "rm(",
     "library": "var_list.r",
     "varRefreshCmd": "cat(var_dic_list()) "
    }
   },
   "types_to_exclude": [
    "module",
    "function",
    "builtin_function_or_method",
    "instance",
    "_Feature"
   ],
   "window_display": false
  }
 },
 "nbformat": 4,
 "nbformat_minor": 5
}
