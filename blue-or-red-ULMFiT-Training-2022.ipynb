{
 "cells": [
  {
   "cell_type": "markdown",
   "id": "989792d0",
   "metadata": {},
   "source": [
    "## NEW: ULMFiT-2 Blue-or-Red Training: 2022 Tweets"
   ]
  },
  {
   "cell_type": "code",
   "execution_count": 1,
   "id": "5adb228d",
   "metadata": {
    "ExecuteTime": {
     "end_time": "2022-06-20T20:05:49.769739Z",
     "start_time": "2022-06-20T20:05:47.515071Z"
    }
   },
   "outputs": [],
   "source": [
    "from fastai.text.all import *"
   ]
  },
  {
   "cell_type": "code",
   "execution_count": 2,
   "id": "68ee0d2a",
   "metadata": {
    "ExecuteTime": {
     "end_time": "2022-06-20T20:05:50.564617Z",
     "start_time": "2022-06-20T20:05:50.557566Z"
    }
   },
   "outputs": [],
   "source": [
    "import warnings\n",
    "warnings.simplefilter(action='ignore', category=FutureWarning)"
   ]
  },
  {
   "cell_type": "code",
   "execution_count": 3,
   "id": "0d4e645c",
   "metadata": {
    "ExecuteTime": {
     "end_time": "2022-06-20T20:05:52.701562Z",
     "start_time": "2022-06-20T20:05:52.306122Z"
    }
   },
   "outputs": [],
   "source": [
    "from ideology_utils import *"
   ]
  },
  {
   "cell_type": "markdown",
   "id": "ed34135d",
   "metadata": {},
   "source": [
    "#### Grab Congressional tweets for each week and create a dataframe"
   ]
  },
  {
   "cell_type": "code",
   "execution_count": 4,
   "id": "5493e01d",
   "metadata": {
    "ExecuteTime": {
     "end_time": "2022-06-20T20:05:54.704612Z",
     "start_time": "2022-06-20T20:05:54.697124Z"
    }
   },
   "outputs": [],
   "source": [
    "path = Path()\n",
    "path_22 = path/'tweets/'"
   ]
  },
  {
   "cell_type": "code",
   "execution_count": 5,
   "id": "c77c15f2",
   "metadata": {
    "ExecuteTime": {
     "end_time": "2022-06-20T20:07:31.476599Z",
     "start_time": "2022-06-20T20:06:01.707291Z"
    }
   },
   "outputs": [],
   "source": [
    "df = pd.concat(map(tweets2df, path_22.rglob(\"tweets-congress*/*\")))"
   ]
  },
  {
   "cell_type": "markdown",
   "id": "57feedf5",
   "metadata": {},
   "source": [
    "#### Label each tweet according by the handle of the legislator"
   ]
  },
  {
   "cell_type": "code",
   "execution_count": 6,
   "id": "4d9a54fc",
   "metadata": {
    "ExecuteTime": {
     "end_time": "2022-06-20T20:07:35.199107Z",
     "start_time": "2022-06-20T20:07:34.551526Z"
    }
   },
   "outputs": [],
   "source": [
    "df = label_tweets_of_legislators(df)\n",
    "df = df[['text','party']]"
   ]
  },
  {
   "cell_type": "markdown",
   "id": "cfe5bacc",
   "metadata": {},
   "source": [
    "#### Preprocess each of the tweets"
   ]
  },
  {
   "cell_type": "code",
   "execution_count": 7,
   "id": "7b225a5c",
   "metadata": {
    "ExecuteTime": {
     "end_time": "2022-06-20T20:08:02.127536Z",
     "start_time": "2022-06-20T20:07:38.361756Z"
    }
   },
   "outputs": [],
   "source": [
    "df = preprocess_tweets(df)"
   ]
  },
  {
   "cell_type": "markdown",
   "id": "49d57df9",
   "metadata": {},
   "source": [
    "#### Shuffle and create Training (which Validation) and Testing Sets"
   ]
  },
  {
   "cell_type": "code",
   "execution_count": 8,
   "id": "cbd70f4c",
   "metadata": {
    "ExecuteTime": {
     "end_time": "2022-06-20T20:08:04.993569Z",
     "start_time": "2022-06-20T20:08:04.870678Z"
    }
   },
   "outputs": [],
   "source": [
    "df = df.sample(frac=1).reset_index(drop=True)"
   ]
  },
  {
   "cell_type": "code",
   "execution_count": 9,
   "id": "9803fad8",
   "metadata": {
    "ExecuteTime": {
     "end_time": "2022-06-20T20:08:07.114980Z",
     "start_time": "2022-06-20T20:08:07.096983Z"
    }
   },
   "outputs": [
    {
     "data": {
      "text/plain": [
       "482338"
      ]
     },
     "execution_count": 9,
     "metadata": {},
     "output_type": "execute_result"
    }
   ],
   "source": [
    "n_tr = Int(.9*(len(df)))\n",
    "n_tr"
   ]
  },
  {
   "cell_type": "code",
   "execution_count": 10,
   "id": "2ebb8d58",
   "metadata": {
    "ExecuteTime": {
     "end_time": "2022-06-20T20:08:10.247776Z",
     "start_time": "2022-06-20T20:08:10.241231Z"
    }
   },
   "outputs": [],
   "source": [
    "df_train, df_test = df[:n_tr], df[n_tr+1:]"
   ]
  },
  {
   "cell_type": "markdown",
   "id": "88b35ed6",
   "metadata": {},
   "source": [
    "### Fine-tuning a language model on Congressional Tweets from 2022"
   ]
  },
  {
   "cell_type": "code",
   "execution_count": 11,
   "id": "55c38038",
   "metadata": {
    "ExecuteTime": {
     "end_time": "2022-06-20T20:13:55.072212Z",
     "start_time": "2022-06-20T20:09:34.475301Z"
    }
   },
   "outputs": [
    {
     "data": {
      "text/html": [
       "\n",
       "<style>\n",
       "    /* Turns off some styling */\n",
       "    progress {\n",
       "        /* gets rid of default border in Firefox and Opera. */\n",
       "        border: none;\n",
       "        /* Needs to be in here for Safari polyfill so background images work as expected. */\n",
       "        background-size: auto;\n",
       "    }\n",
       "    .progress-bar-interrupted, .progress-bar-interrupted::-webkit-progress-bar {\n",
       "        background: #F44336;\n",
       "    }\n",
       "</style>\n"
      ],
      "text/plain": [
       "<IPython.core.display.HTML object>"
      ]
     },
     "metadata": {},
     "output_type": "display_data"
    },
    {
     "data": {
      "text/html": [],
      "text/plain": [
       "<IPython.core.display.HTML object>"
      ]
     },
     "metadata": {},
     "output_type": "display_data"
    }
   ],
   "source": [
    "dls_lm = TextDataLoaders.from_df(df_train, is_lm=True, valid_pct=0.1, bs=128)"
   ]
  },
  {
   "cell_type": "code",
   "execution_count": 12,
   "id": "2e143055",
   "metadata": {
    "ExecuteTime": {
     "end_time": "2022-06-20T20:13:57.060622Z",
     "start_time": "2022-06-20T20:13:55.102079Z"
    }
   },
   "outputs": [
    {
     "data": {
      "text/html": [
       "<table border=\"1\" class=\"dataframe\">\n",
       "  <thead>\n",
       "    <tr style=\"text-align: right;\">\n",
       "      <th></th>\n",
       "      <th>text</th>\n",
       "      <th>text_</th>\n",
       "    </tr>\n",
       "  </thead>\n",
       "  <tbody>\n",
       "    <tr>\n",
       "      <th>0</th>\n",
       "      <td>xxbos xxmaj the xxmaj biden xxmaj administration has proposed an amendment to the xxmaj world xxmaj health xxmaj organization ’s “ global xxmaj pandemic xxmaj treaty ” that could grant the xxup who the authority to declare &amp; &amp; define public health emergencies . xxmaj letting xxup who bureaucrats set health &amp; &amp; lockdown policies in xxmaj america ? xxmaj no chanc xxbos i am honored to celebrate this # hispanicheritagemonth with</td>\n",
       "      <td>xxmaj the xxmaj biden xxmaj administration has proposed an amendment to the xxmaj world xxmaj health xxmaj organization ’s “ global xxmaj pandemic xxmaj treaty ” that could grant the xxup who the authority to declare &amp; &amp; define public health emergencies . xxmaj letting xxup who bureaucrats set health &amp; &amp; lockdown policies in xxmaj america ? xxmaj no chanc xxbos i am honored to celebrate this # hispanicheritagemonth with my</td>\n",
       "    </tr>\n",
       "    <tr>\n",
       "      <th>1</th>\n",
       "      <td>for a new affordable housing unit in the xxmaj bronx pioneered by @user xxmaj housing is a human right and housing is healthcare . http xxbos xxmaj president xxmaj biden ’s decision to help provide struggling nations with access to vaccines will help save lives and help the world overcome this pandemic . xxmaj this is the type of xxmaj american leadership that the world has been desperate to see once again</td>\n",
       "      <td>a new affordable housing unit in the xxmaj bronx pioneered by @user xxmaj housing is a human right and housing is healthcare . http xxbos xxmaj president xxmaj biden ’s decision to help provide struggling nations with access to vaccines will help save lives and help the world overcome this pandemic . xxmaj this is the type of xxmaj american leadership that the world has been desperate to see once again .</td>\n",
       "    </tr>\n",
       "    <tr>\n",
       "      <th>2</th>\n",
       "      <td>xxmaj infrastructure xxmaj law &amp; &amp; @user https : / / t.co / xxunk http xxbos xxmaj see my recent statement denouncing the xxmaj cuban dictatorship ’s crackdown on independent artists : http xxbos xxup tw : a man punched a father to the ground with his baby in the xxunk next to him . xxmaj police say the attack appeared to be random and no words were exchanged . # stopasianhate</td>\n",
       "      <td>infrastructure xxmaj law &amp; &amp; @user https : / / t.co / xxunk http xxbos xxmaj see my recent statement denouncing the xxmaj cuban dictatorship ’s crackdown on independent artists : http xxbos xxup tw : a man punched a father to the ground with his baby in the xxunk next to him . xxmaj police say the attack appeared to be random and no words were exchanged . # stopasianhate http</td>\n",
       "    </tr>\n",
       "    <tr>\n",
       "      <th>3</th>\n",
       "      <td>/ http xxbos xxmaj on xxmaj international xxmaj day xxmaj against xxmaj homophobia xxmaj biphobia and xxmaj transphobia i stand with xxmaj arizona 's xxup lgbtq+ community in their fight for xxunk deserves to live without fear of prejudice because of who they are or who they love . # xxup idahobit xxbos xxmaj the xxmaj house of xxmaj representatives must return to xxmaj washington and continue the work of the people</td>\n",
       "      <td>http xxbos xxmaj on xxmaj international xxmaj day xxmaj against xxmaj homophobia xxmaj biphobia and xxmaj transphobia i stand with xxmaj arizona 's xxup lgbtq+ community in their fight for xxunk deserves to live without fear of prejudice because of who they are or who they love . # xxup idahobit xxbos xxmaj the xxmaj house of xxmaj representatives must return to xxmaj washington and continue the work of the people to</td>\n",
       "    </tr>\n",
       "    <tr>\n",
       "      <th>4</th>\n",
       "      <td>am thankful to everyone who has supported me along the way especially my fantastic wife xxmaj heather . xxmaj now the real work begins for # xxup ca08 ! http xxbos xxmaj today and every day we ’re grateful for our brave law enforcement officers across xxmaj arizona . xxmaj thank you for keeping us safe and secure . # lawenforcementappreciationday xxbos xxmaj today i joined the xxmaj american xxmaj sikh xxmaj</td>\n",
       "      <td>thankful to everyone who has supported me along the way especially my fantastic wife xxmaj heather . xxmaj now the real work begins for # xxup ca08 ! http xxbos xxmaj today and every day we ’re grateful for our brave law enforcement officers across xxmaj arizona . xxmaj thank you for keeping us safe and secure . # lawenforcementappreciationday xxbos xxmaj today i joined the xxmaj american xxmaj sikh xxmaj caucus</td>\n",
       "    </tr>\n",
       "  </tbody>\n",
       "</table>"
      ],
      "text/plain": [
       "<IPython.core.display.HTML object>"
      ]
     },
     "metadata": {},
     "output_type": "display_data"
    }
   ],
   "source": [
    "dls_lm.show_batch(max_n=5)"
   ]
  },
  {
   "cell_type": "code",
   "execution_count": 13,
   "id": "3be890a6",
   "metadata": {
    "ExecuteTime": {
     "end_time": "2022-06-20T20:14:03.100708Z",
     "start_time": "2022-06-20T20:13:57.090167Z"
    }
   },
   "outputs": [],
   "source": [
    "learn = language_model_learner(dls_lm, AWD_LSTM, metrics=[accuracy, Perplexity()], path=path, wd=0.1).to_fp16()"
   ]
  },
  {
   "cell_type": "code",
   "execution_count": 14,
   "id": "f36078df",
   "metadata": {
    "ExecuteTime": {
     "end_time": "2022-06-20T20:15:49.623967Z",
     "start_time": "2022-06-20T20:14:03.130043Z"
    },
    "scrolled": false
   },
   "outputs": [
    {
     "data": {
      "text/html": [
       "\n",
       "<style>\n",
       "    /* Turns off some styling */\n",
       "    progress {\n",
       "        /* gets rid of default border in Firefox and Opera. */\n",
       "        border: none;\n",
       "        /* Needs to be in here for Safari polyfill so background images work as expected. */\n",
       "        background-size: auto;\n",
       "    }\n",
       "    .progress-bar-interrupted, .progress-bar-interrupted::-webkit-progress-bar {\n",
       "        background: #F44336;\n",
       "    }\n",
       "</style>\n"
      ],
      "text/plain": [
       "<IPython.core.display.HTML object>"
      ]
     },
     "metadata": {},
     "output_type": "display_data"
    },
    {
     "data": {
      "text/html": [],
      "text/plain": [
       "<IPython.core.display.HTML object>"
      ]
     },
     "metadata": {},
     "output_type": "display_data"
    },
    {
     "data": {
      "text/plain": [
       "SuggestedLRs(valley=0.010964781977236271)"
      ]
     },
     "execution_count": 14,
     "metadata": {},
     "output_type": "execute_result"
    },
    {
     "data": {
      "image/png": "[encoded data removed]",
      "text/plain": [
       "<Figure size 432x288 with 1 Axes>"
      ]
     },
     "metadata": {
      "needs_background": "light"
     },
     "output_type": "display_data"
    }
   ],
   "source": [
    "learn.lr_find()"
   ]
  },
  {
   "cell_type": "code",
   "execution_count": 15,
   "id": "a29dc5ba",
   "metadata": {
    "ExecuteTime": {
     "end_time": "2022-06-20T22:05:50.243137Z",
     "start_time": "2022-06-20T20:16:32.380624Z"
    },
    "scrolled": true
   },
   "outputs": [
    {
     "data": {
      "text/html": [
       "\n",
       "<style>\n",
       "    /* Turns off some styling */\n",
       "    progress {\n",
       "        /* gets rid of default border in Firefox and Opera. */\n",
       "        border: none;\n",
       "        /* Needs to be in here for Safari polyfill so background images work as expected. */\n",
       "        background-size: auto;\n",
       "    }\n",
       "    .progress-bar-interrupted, .progress-bar-interrupted::-webkit-progress-bar {\n",
       "        background: #F44336;\n",
       "    }\n",
       "</style>\n"
      ],
      "text/plain": [
       "<IPython.core.display.HTML object>"
      ]
     },
     "metadata": {},
     "output_type": "display_data"
    },
    {
     "data": {
      "text/html": [
       "<table border=\"1\" class=\"dataframe\">\n",
       "  <thead>\n",
       "    <tr style=\"text-align: left;\">\n",
       "      <th>epoch</th>\n",
       "      <th>train_loss</th>\n",
       "      <th>valid_loss</th>\n",
       "      <th>accuracy</th>\n",
       "      <th>perplexity</th>\n",
       "      <th>time</th>\n",
       "    </tr>\n",
       "  </thead>\n",
       "  <tbody>\n",
       "    <tr>\n",
       "      <td>0</td>\n",
       "      <td>3.905363</td>\n",
       "      <td>3.572006</td>\n",
       "      <td>0.350785</td>\n",
       "      <td>35.587917</td>\n",
       "      <td>36:16</td>\n",
       "    </tr>\n",
       "    <tr>\n",
       "      <td>1</td>\n",
       "      <td>3.831519</td>\n",
       "      <td>3.504363</td>\n",
       "      <td>0.357935</td>\n",
       "      <td>33.260235</td>\n",
       "      <td>36:17</td>\n",
       "    </tr>\n",
       "    <tr>\n",
       "      <td>2</td>\n",
       "      <td>3.783841</td>\n",
       "      <td>3.469825</td>\n",
       "      <td>0.361683</td>\n",
       "      <td>32.131104</td>\n",
       "      <td>36:43</td>\n",
       "    </tr>\n",
       "  </tbody>\n",
       "</table>"
      ],
      "text/plain": [
       "<IPython.core.display.HTML object>"
      ]
     },
     "metadata": {},
     "output_type": "display_data"
    }
   ],
   "source": [
    "learn.fit_one_cycle(3, .01)"
   ]
  },
  {
   "cell_type": "code",
   "execution_count": 16,
   "id": "25a14646",
   "metadata": {
    "ExecuteTime": {
     "end_time": "2022-06-20T23:55:25.650665Z",
     "start_time": "2022-06-20T22:05:50.274911Z"
    },
    "scrolled": false
   },
   "outputs": [
    {
     "data": {
      "text/html": [
       "\n",
       "<style>\n",
       "    /* Turns off some styling */\n",
       "    progress {\n",
       "        /* gets rid of default border in Firefox and Opera. */\n",
       "        border: none;\n",
       "        /* Needs to be in here for Safari polyfill so background images work as expected. */\n",
       "        background-size: auto;\n",
       "    }\n",
       "    .progress-bar-interrupted, .progress-bar-interrupted::-webkit-progress-bar {\n",
       "        background: #F44336;\n",
       "    }\n",
       "</style>\n"
      ],
      "text/plain": [
       "<IPython.core.display.HTML object>"
      ]
     },
     "metadata": {},
     "output_type": "display_data"
    },
    {
     "data": {
      "text/html": [
       "\n",
       "    <div>\n",
       "      <progress value='2' class='' max='3' style='width:300px; height:20px; vertical-align: middle;'></progress>\n",
       "      66.67% [2/3 1:12:50<36:25]\n",
       "    </div>\n",
       "    \n",
       "<table border=\"1\" class=\"dataframe\">\n",
       "  <thead>\n",
       "    <tr style=\"text-align: left;\">\n",
       "      <th>epoch</th>\n",
       "      <th>train_loss</th>\n",
       "      <th>valid_loss</th>\n",
       "      <th>accuracy</th>\n",
       "      <th>perplexity</th>\n",
       "      <th>time</th>\n",
       "    </tr>\n",
       "  </thead>\n",
       "  <tbody>\n",
       "    <tr>\n",
       "      <td>0</td>\n",
       "      <td>3.516998</td>\n",
       "      <td>3.336008</td>\n",
       "      <td>0.379659</td>\n",
       "      <td>28.106709</td>\n",
       "      <td>36:17</td>\n",
       "    </tr>\n",
       "    <tr>\n",
       "      <td>1</td>\n",
       "      <td>3.297676</td>\n",
       "      <td>3.116589</td>\n",
       "      <td>0.403593</td>\n",
       "      <td>22.569265</td>\n",
       "      <td>36:33</td>\n",
       "    </tr>\n",
       "  </tbody>\n",
       "</table><p>\n",
       "\n",
       "    <div>\n",
       "      <progress value='1697' class='' max='2032' style='width:300px; height:20px; vertical-align: middle;'></progress>\n",
       "      83.51% [1697/2032 28:10<05:33 3.0895]\n",
       "    </div>\n",
       "    "
      ],
      "text/plain": [
       "<IPython.core.display.HTML object>"
      ]
     },
     "metadata": {},
     "output_type": "display_data"
    },
    {
     "name": "stderr",
     "output_type": "stream",
     "text": [
      "IOPub message rate exceeded.\n",
      "The notebook server will temporarily stop sending output\n",
      "to the client in order to avoid crashing it.\n",
      "To change this limit, set the config variable\n",
      "`--NotebookApp.iopub_msg_rate_limit`.\n",
      "\n",
      "Current values:\n",
      "NotebookApp.iopub_msg_rate_limit=1000.0 (msgs/sec)\n",
      "NotebookApp.rate_limit_window=3.0 (secs)\n",
      "\n"
     ]
    }
   ],
   "source": [
    "learn.unfreeze()\n",
    "learn.fit_one_cycle(3, .01)"
   ]
  },
  {
   "cell_type": "code",
   "execution_count": 17,
   "id": "e8452b5a",
   "metadata": {
    "ExecuteTime": {
     "end_time": "2022-06-21T01:08:38.702947Z",
     "start_time": "2022-06-20T23:55:25.680702Z"
    },
    "scrolled": false
   },
   "outputs": [
    {
     "data": {
      "text/html": [
       "\n",
       "<style>\n",
       "    /* Turns off some styling */\n",
       "    progress {\n",
       "        /* gets rid of default border in Firefox and Opera. */\n",
       "        border: none;\n",
       "        /* Needs to be in here for Safari polyfill so background images work as expected. */\n",
       "        background-size: auto;\n",
       "    }\n",
       "    .progress-bar-interrupted, .progress-bar-interrupted::-webkit-progress-bar {\n",
       "        background: #F44336;\n",
       "    }\n",
       "</style>\n"
      ],
      "text/plain": [
       "<IPython.core.display.HTML object>"
      ]
     },
     "metadata": {},
     "output_type": "display_data"
    },
    {
     "data": {
      "text/html": [
       "\n",
       "    <div>\n",
       "      <progress value='1' class='' max='2' style='width:300px; height:20px; vertical-align: middle;'></progress>\n",
       "      50.00% [1/2 36:28<36:28]\n",
       "    </div>\n",
       "    \n",
       "<table border=\"1\" class=\"dataframe\">\n",
       "  <thead>\n",
       "    <tr style=\"text-align: left;\">\n",
       "      <th>epoch</th>\n",
       "      <th>train_loss</th>\n",
       "      <th>valid_loss</th>\n",
       "      <th>accuracy</th>\n",
       "      <th>perplexity</th>\n",
       "      <th>time</th>\n",
       "    </tr>\n",
       "  </thead>\n",
       "  <tbody>\n",
       "    <tr>\n",
       "      <td>0</td>\n",
       "      <td>3.399633</td>\n",
       "      <td>3.222585</td>\n",
       "      <td>0.391779</td>\n",
       "      <td>25.092901</td>\n",
       "      <td>36:28</td>\n",
       "    </tr>\n",
       "  </tbody>\n",
       "</table><p>\n",
       "\n",
       "    <div>\n",
       "      <progress value='736' class='' max='2032' style='width:300px; height:20px; vertical-align: middle;'></progress>\n",
       "      36.22% [736/2032 12:11<21:28 3.2499]\n",
       "    </div>\n",
       "    "
      ],
      "text/plain": [
       "<IPython.core.display.HTML object>"
      ]
     },
     "metadata": {},
     "output_type": "display_data"
    },
    {
     "name": "stderr",
     "output_type": "stream",
     "text": [
      "IOPub message rate exceeded.\n",
      "The notebook server will temporarily stop sending output\n",
      "to the client in order to avoid crashing it.\n",
      "To change this limit, set the config variable\n",
      "`--NotebookApp.iopub_msg_rate_limit`.\n",
      "\n",
      "Current values:\n",
      "NotebookApp.iopub_msg_rate_limit=1000.0 (msgs/sec)\n",
      "NotebookApp.rate_limit_window=3.0 (secs)\n",
      "\n"
     ]
    }
   ],
   "source": [
    "learn.unfreeze()\n",
    "learn.fit_one_cycle(2, .01)"
   ]
  },
  {
   "cell_type": "code",
   "execution_count": 19,
   "id": "eb62a92f",
   "metadata": {
    "ExecuteTime": {
     "end_time": "2022-06-21T01:33:24.857572Z",
     "start_time": "2022-06-21T01:33:20.077966Z"
    }
   },
   "outputs": [],
   "source": [
    "learn.save_encoder('ulmfit-lm-2022')"
   ]
  },
  {
   "cell_type": "markdown",
   "id": "6097a6eb",
   "metadata": {},
   "source": [
    "### Training a text classifier"
   ]
  },
  {
   "cell_type": "code",
   "execution_count": 20,
   "id": "0bb4b7f1",
   "metadata": {
    "ExecuteTime": {
     "end_time": "2022-06-21T01:40:55.230675Z",
     "start_time": "2022-06-21T01:33:29.589952Z"
    }
   },
   "outputs": [
    {
     "data": {
      "text/html": [
       "\n",
       "<style>\n",
       "    /* Turns off some styling */\n",
       "    progress {\n",
       "        /* gets rid of default border in Firefox and Opera. */\n",
       "        border: none;\n",
       "        /* Needs to be in here for Safari polyfill so background images work as expected. */\n",
       "        background-size: auto;\n",
       "    }\n",
       "    .progress-bar-interrupted, .progress-bar-interrupted::-webkit-progress-bar {\n",
       "        background: #F44336;\n",
       "    }\n",
       "</style>\n"
      ],
      "text/plain": [
       "<IPython.core.display.HTML object>"
      ]
     },
     "metadata": {},
     "output_type": "display_data"
    },
    {
     "data": {
      "text/html": [],
      "text/plain": [
       "<IPython.core.display.HTML object>"
      ]
     },
     "metadata": {},
     "output_type": "display_data"
    }
   ],
   "source": [
    "dls_clas = TextDataLoaders.from_df(df_train, valid_pct=.2, text_col='text', label='party',           text_vocab=dls_lm.vocab, bs=128)"
   ]
  },
  {
   "cell_type": "code",
   "execution_count": 21,
   "id": "2e520cc3",
   "metadata": {
    "ExecuteTime": {
     "end_time": "2022-06-21T01:40:56.766143Z",
     "start_time": "2022-06-21T01:40:55.394480Z"
    }
   },
   "outputs": [],
   "source": [
    "learn = text_classifier_learner(dls_clas, AWD_LSTM, drop_mult=0.5, metrics=accuracy)"
   ]
  },
  {
   "cell_type": "code",
   "execution_count": 22,
   "id": "8d6c4fd0",
   "metadata": {
    "ExecuteTime": {
     "end_time": "2022-06-21T01:40:57.076525Z",
     "start_time": "2022-06-21T01:40:56.943038Z"
    }
   },
   "outputs": [],
   "source": [
    "learn = learn.load_encoder('ulmfit-lm-2022') # Reuse language model"
   ]
  },
  {
   "cell_type": "code",
   "execution_count": 23,
   "id": "df26e79c",
   "metadata": {
    "ExecuteTime": {
     "end_time": "2022-06-21T01:41:02.877171Z",
     "start_time": "2022-06-21T01:40:57.238177Z"
    }
   },
   "outputs": [
    {
     "data": {
      "text/html": [
       "\n",
       "<style>\n",
       "    /* Turns off some styling */\n",
       "    progress {\n",
       "        /* gets rid of default border in Firefox and Opera. */\n",
       "        border: none;\n",
       "        /* Needs to be in here for Safari polyfill so background images work as expected. */\n",
       "        background-size: auto;\n",
       "    }\n",
       "    .progress-bar-interrupted, .progress-bar-interrupted::-webkit-progress-bar {\n",
       "        background: #F44336;\n",
       "    }\n",
       "</style>\n"
      ],
      "text/plain": [
       "<IPython.core.display.HTML object>"
      ]
     },
     "metadata": {},
     "output_type": "display_data"
    },
    {
     "data": {
      "text/html": [],
      "text/plain": [
       "<IPython.core.display.HTML object>"
      ]
     },
     "metadata": {},
     "output_type": "display_data"
    },
    {
     "data": {
      "text/plain": [
       "SuggestedLRs(valley=0.004365158267319202)"
      ]
     },
     "execution_count": 23,
     "metadata": {},
     "output_type": "execute_result"
    },
    {
     "data": {
      "image/png": "[encoded data removed]",
      "text/plain": [
       "<Figure size 432x288 with 1 Axes>"
      ]
     },
     "metadata": {
      "needs_background": "light"
     },
     "output_type": "display_data"
    }
   ],
   "source": [
    "learn.lr_find()"
   ]
  },
  {
   "cell_type": "code",
   "execution_count": 24,
   "id": "2d6a80e7",
   "metadata": {
    "ExecuteTime": {
     "end_time": "2022-06-21T01:45:32.181883Z",
     "start_time": "2022-06-21T01:41:41.822494Z"
    }
   },
   "outputs": [
    {
     "data": {
      "text/html": [
       "\n",
       "<style>\n",
       "    /* Turns off some styling */\n",
       "    progress {\n",
       "        /* gets rid of default border in Firefox and Opera. */\n",
       "        border: none;\n",
       "        /* Needs to be in here for Safari polyfill so background images work as expected. */\n",
       "        background-size: auto;\n",
       "    }\n",
       "    .progress-bar-interrupted, .progress-bar-interrupted::-webkit-progress-bar {\n",
       "        background: #F44336;\n",
       "    }\n",
       "</style>\n"
      ],
      "text/plain": [
       "<IPython.core.display.HTML object>"
      ]
     },
     "metadata": {},
     "output_type": "display_data"
    },
    {
     "data": {
      "text/html": [
       "<table border=\"1\" class=\"dataframe\">\n",
       "  <thead>\n",
       "    <tr style=\"text-align: left;\">\n",
       "      <th>epoch</th>\n",
       "      <th>train_loss</th>\n",
       "      <th>valid_loss</th>\n",
       "      <th>accuracy</th>\n",
       "      <th>time</th>\n",
       "    </tr>\n",
       "  </thead>\n",
       "  <tbody>\n",
       "    <tr>\n",
       "      <td>0</td>\n",
       "      <td>0.463908</td>\n",
       "      <td>0.426967</td>\n",
       "      <td>0.792478</td>\n",
       "      <td>01:54</td>\n",
       "    </tr>\n",
       "    <tr>\n",
       "      <td>1</td>\n",
       "      <td>0.438329</td>\n",
       "      <td>0.411947</td>\n",
       "      <td>0.800025</td>\n",
       "      <td>01:55</td>\n",
       "    </tr>\n",
       "  </tbody>\n",
       "</table>"
      ],
      "text/plain": [
       "<IPython.core.display.HTML object>"
      ]
     },
     "metadata": {},
     "output_type": "display_data"
    }
   ],
   "source": [
    "learn.fit_one_cycle(2, .004)"
   ]
  },
  {
   "cell_type": "code",
   "execution_count": 25,
   "id": "5d562fa2",
   "metadata": {
    "ExecuteTime": {
     "end_time": "2022-06-21T01:52:19.046649Z",
     "start_time": "2022-06-21T01:45:39.326942Z"
    }
   },
   "outputs": [
    {
     "data": {
      "text/html": [
       "\n",
       "<style>\n",
       "    /* Turns off some styling */\n",
       "    progress {\n",
       "        /* gets rid of default border in Firefox and Opera. */\n",
       "        border: none;\n",
       "        /* Needs to be in here for Safari polyfill so background images work as expected. */\n",
       "        background-size: auto;\n",
       "    }\n",
       "    .progress-bar-interrupted, .progress-bar-interrupted::-webkit-progress-bar {\n",
       "        background: #F44336;\n",
       "    }\n",
       "</style>\n"
      ],
      "text/plain": [
       "<IPython.core.display.HTML object>"
      ]
     },
     "metadata": {},
     "output_type": "display_data"
    },
    {
     "data": {
      "text/html": [
       "<table border=\"1\" class=\"dataframe\">\n",
       "  <thead>\n",
       "    <tr style=\"text-align: left;\">\n",
       "      <th>epoch</th>\n",
       "      <th>train_loss</th>\n",
       "      <th>valid_loss</th>\n",
       "      <th>accuracy</th>\n",
       "      <th>time</th>\n",
       "    </tr>\n",
       "  </thead>\n",
       "  <tbody>\n",
       "    <tr>\n",
       "      <td>0</td>\n",
       "      <td>0.397489</td>\n",
       "      <td>0.375176</td>\n",
       "      <td>0.820934</td>\n",
       "      <td>02:12</td>\n",
       "    </tr>\n",
       "    <tr>\n",
       "      <td>1</td>\n",
       "      <td>0.370791</td>\n",
       "      <td>0.332902</td>\n",
       "      <td>0.842205</td>\n",
       "      <td>02:13</td>\n",
       "    </tr>\n",
       "    <tr>\n",
       "      <td>2</td>\n",
       "      <td>0.318660</td>\n",
       "      <td>0.315195</td>\n",
       "      <td>0.852271</td>\n",
       "      <td>02:13</td>\n",
       "    </tr>\n",
       "  </tbody>\n",
       "</table>"
      ],
      "text/plain": [
       "<IPython.core.display.HTML object>"
      ]
     },
     "metadata": {},
     "output_type": "display_data"
    }
   ],
   "source": [
    "learn.freeze_to(-2)\n",
    "learn.fit_one_cycle(3, slice(1e-2/(2.6**4),1e-2))"
   ]
  },
  {
   "cell_type": "code",
   "execution_count": 26,
   "id": "00e7941f",
   "metadata": {
    "ExecuteTime": {
     "end_time": "2022-06-21T02:09:54.378506Z",
     "start_time": "2022-06-21T01:52:19.220366Z"
    }
   },
   "outputs": [
    {
     "data": {
      "text/html": [
       "\n",
       "<style>\n",
       "    /* Turns off some styling */\n",
       "    progress {\n",
       "        /* gets rid of default border in Firefox and Opera. */\n",
       "        border: none;\n",
       "        /* Needs to be in here for Safari polyfill so background images work as expected. */\n",
       "        background-size: auto;\n",
       "    }\n",
       "    .progress-bar-interrupted, .progress-bar-interrupted::-webkit-progress-bar {\n",
       "        background: #F44336;\n",
       "    }\n",
       "</style>\n"
      ],
      "text/plain": [
       "<IPython.core.display.HTML object>"
      ]
     },
     "metadata": {},
     "output_type": "display_data"
    },
    {
     "data": {
      "text/html": [
       "<table border=\"1\" class=\"dataframe\">\n",
       "  <thead>\n",
       "    <tr style=\"text-align: left;\">\n",
       "      <th>epoch</th>\n",
       "      <th>train_loss</th>\n",
       "      <th>valid_loss</th>\n",
       "      <th>accuracy</th>\n",
       "      <th>time</th>\n",
       "    </tr>\n",
       "  </thead>\n",
       "  <tbody>\n",
       "    <tr>\n",
       "      <td>0</td>\n",
       "      <td>0.310679</td>\n",
       "      <td>0.296565</td>\n",
       "      <td>0.863694</td>\n",
       "      <td>04:23</td>\n",
       "    </tr>\n",
       "    <tr>\n",
       "      <td>1</td>\n",
       "      <td>0.274837</td>\n",
       "      <td>0.267799</td>\n",
       "      <td>0.876528</td>\n",
       "      <td>04:23</td>\n",
       "    </tr>\n",
       "    <tr>\n",
       "      <td>2</td>\n",
       "      <td>0.208537</td>\n",
       "      <td>0.258518</td>\n",
       "      <td>0.886666</td>\n",
       "      <td>04:24</td>\n",
       "    </tr>\n",
       "    <tr>\n",
       "      <td>3</td>\n",
       "      <td>0.166574</td>\n",
       "      <td>0.271513</td>\n",
       "      <td>0.886967</td>\n",
       "      <td>04:23</td>\n",
       "    </tr>\n",
       "  </tbody>\n",
       "</table>"
      ],
      "text/plain": [
       "<IPython.core.display.HTML object>"
      ]
     },
     "metadata": {},
     "output_type": "display_data"
    }
   ],
   "source": [
    "learn.freeze_to(-5)\n",
    "learn.fit_one_cycle(4, slice(5e-3/(2.6**4),5e-3))"
   ]
  },
  {
   "cell_type": "code",
   "execution_count": 27,
   "id": "0545721f",
   "metadata": {
    "ExecuteTime": {
     "end_time": "2022-06-21T02:10:08.780244Z",
     "start_time": "2022-06-21T02:09:54.552829Z"
    }
   },
   "outputs": [
    {
     "data": {
      "text/plain": [
       "Path('models/clss-fifth-2022.pth')"
      ]
     },
     "execution_count": 27,
     "metadata": {},
     "output_type": "execute_result"
    }
   ],
   "source": [
    "learn.save(\"clss-fifth-2022\")"
   ]
  },
  {
   "cell_type": "code",
   "execution_count": 28,
   "id": "07ab5031",
   "metadata": {
    "ExecuteTime": {
     "end_time": "2022-06-21T02:18:56.919170Z",
     "start_time": "2022-06-21T02:10:08.950388Z"
    }
   },
   "outputs": [
    {
     "data": {
      "text/html": [
       "\n",
       "<style>\n",
       "    /* Turns off some styling */\n",
       "    progress {\n",
       "        /* gets rid of default border in Firefox and Opera. */\n",
       "        border: none;\n",
       "        /* Needs to be in here for Safari polyfill so background images work as expected. */\n",
       "        background-size: auto;\n",
       "    }\n",
       "    .progress-bar-interrupted, .progress-bar-interrupted::-webkit-progress-bar {\n",
       "        background: #F44336;\n",
       "    }\n",
       "</style>\n"
      ],
      "text/plain": [
       "<IPython.core.display.HTML object>"
      ]
     },
     "metadata": {},
     "output_type": "display_data"
    },
    {
     "data": {
      "text/html": [
       "\n",
       "    <div>\n",
       "      <progress value='1' class='' max='2' style='width:300px; height:20px; vertical-align: middle;'></progress>\n",
       "      50.00% [1/2 04:23<04:23]\n",
       "    </div>\n",
       "    \n",
       "<table border=\"1\" class=\"dataframe\">\n",
       "  <thead>\n",
       "    <tr style=\"text-align: left;\">\n",
       "      <th>epoch</th>\n",
       "      <th>train_loss</th>\n",
       "      <th>valid_loss</th>\n",
       "      <th>accuracy</th>\n",
       "      <th>time</th>\n",
       "    </tr>\n",
       "  </thead>\n",
       "  <tbody>\n",
       "    <tr>\n",
       "      <td>0</td>\n",
       "      <td>0.158539</td>\n",
       "      <td>0.268893</td>\n",
       "      <td>0.887817</td>\n",
       "      <td>04:23</td>\n",
       "    </tr>\n",
       "  </tbody>\n",
       "</table><p>\n",
       "\n",
       "    <div>\n",
       "      <progress value='2471' class='' max='3014' style='width:300px; height:20px; vertical-align: middle;'></progress>\n",
       "      81.98% [2471/3014 03:19<00:43 0.1497]\n",
       "    </div>\n",
       "    "
      ],
      "text/plain": [
       "<IPython.core.display.HTML object>"
      ]
     },
     "metadata": {},
     "output_type": "display_data"
    },
    {
     "name": "stderr",
     "output_type": "stream",
     "text": [
      "IOPub message rate exceeded.\n",
      "The notebook server will temporarily stop sending output\n",
      "to the client in order to avoid crashing it.\n",
      "To change this limit, set the config variable\n",
      "`--NotebookApp.iopub_msg_rate_limit`.\n",
      "\n",
      "Current values:\n",
      "NotebookApp.iopub_msg_rate_limit=1000.0 (msgs/sec)\n",
      "NotebookApp.rate_limit_window=3.0 (secs)\n",
      "\n"
     ]
    }
   ],
   "source": [
    "learn.unfreeze()\n",
    "learn.fit_one_cycle(2, slice(1e-3/(2.6**4),1e-3))"
   ]
  },
  {
   "cell_type": "code",
   "execution_count": 36,
   "id": "0dfdefdf",
   "metadata": {
    "ExecuteTime": {
     "end_time": "2022-06-21T04:29:59.850206Z",
     "start_time": "2022-06-21T04:21:19.087780Z"
    }
   },
   "outputs": [
    {
     "data": {
      "text/html": [
       "\n",
       "<style>\n",
       "    /* Turns off some styling */\n",
       "    progress {\n",
       "        /* gets rid of default border in Firefox and Opera. */\n",
       "        border: none;\n",
       "        /* Needs to be in here for Safari polyfill so background images work as expected. */\n",
       "        background-size: auto;\n",
       "    }\n",
       "    .progress-bar-interrupted, .progress-bar-interrupted::-webkit-progress-bar {\n",
       "        background: #F44336;\n",
       "    }\n",
       "</style>\n"
      ],
      "text/plain": [
       "<IPython.core.display.HTML object>"
      ]
     },
     "metadata": {},
     "output_type": "display_data"
    },
    {
     "data": {
      "text/html": [
       "<table border=\"1\" class=\"dataframe\">\n",
       "  <thead>\n",
       "    <tr style=\"text-align: left;\">\n",
       "      <th>epoch</th>\n",
       "      <th>train_loss</th>\n",
       "      <th>valid_loss</th>\n",
       "      <th>accuracy</th>\n",
       "      <th>time</th>\n",
       "    </tr>\n",
       "  </thead>\n",
       "  <tbody>\n",
       "    <tr>\n",
       "      <td>0</td>\n",
       "      <td>0.144478</td>\n",
       "      <td>0.279264</td>\n",
       "      <td>0.888397</td>\n",
       "      <td>04:17</td>\n",
       "    </tr>\n",
       "    <tr>\n",
       "      <td>1</td>\n",
       "      <td>0.134364</td>\n",
       "      <td>0.295070</td>\n",
       "      <td>0.889392</td>\n",
       "      <td>04:22</td>\n",
       "    </tr>\n",
       "  </tbody>\n",
       "</table>"
      ],
      "text/plain": [
       "<IPython.core.display.HTML object>"
      ]
     },
     "metadata": {},
     "output_type": "display_data"
    }
   ],
   "source": [
    "learn.unfreeze()\n",
    "learn.fit_one_cycle(2, slice(1e-3/(2.6**4),1e-3))"
   ]
  },
  {
   "cell_type": "code",
   "execution_count": 35,
   "id": "8daecaae",
   "metadata": {
    "ExecuteTime": {
     "end_time": "2022-06-21T04:21:00.532959Z",
     "start_time": "2022-06-21T04:20:52.055497Z"
    }
   },
   "outputs": [],
   "source": [
    "learn.export(\"ulmfit-2022.pkl\")"
   ]
  },
  {
   "cell_type": "markdown",
   "id": "6fc06093",
   "metadata": {},
   "source": [
    "### Evaluate Model on Test Dataset"
   ]
  },
  {
   "cell_type": "code",
   "execution_count": 30,
   "id": "79f0feba",
   "metadata": {
    "ExecuteTime": {
     "end_time": "2022-06-21T04:16:40.631274Z",
     "start_time": "2022-06-21T04:15:23.604764Z"
    }
   },
   "outputs": [],
   "source": [
    "dl_test = learn.dls.test_dl(df_test, with_labels=True)"
   ]
  },
  {
   "cell_type": "code",
   "execution_count": 31,
   "id": "69519b41",
   "metadata": {
    "ExecuteTime": {
     "end_time": "2022-06-21T04:17:00.586742Z",
     "start_time": "2022-06-21T04:16:44.340971Z"
    }
   },
   "outputs": [
    {
     "data": {
      "text/html": [
       "\n",
       "<style>\n",
       "    /* Turns off some styling */\n",
       "    progress {\n",
       "        /* gets rid of default border in Firefox and Opera. */\n",
       "        border: none;\n",
       "        /* Needs to be in here for Safari polyfill so background images work as expected. */\n",
       "        background-size: auto;\n",
       "    }\n",
       "    .progress-bar-interrupted, .progress-bar-interrupted::-webkit-progress-bar {\n",
       "        background: #F44336;\n",
       "    }\n",
       "</style>\n"
      ],
      "text/plain": [
       "<IPython.core.display.HTML object>"
      ]
     },
     "metadata": {},
     "output_type": "display_data"
    },
    {
     "data": {
      "text/html": [],
      "text/plain": [
       "<IPython.core.display.HTML object>"
      ]
     },
     "metadata": {},
     "output_type": "display_data"
    }
   ],
   "source": [
    "predicts, actuals = learn.get_preds(dl = dl_test)\n",
    "predicts, actuals = np.argmax(predicts, axis=1).numpy(), actuals.numpy()"
   ]
  },
  {
   "cell_type": "code",
   "execution_count": 39,
   "id": "d93fec3f",
   "metadata": {
    "ExecuteTime": {
     "end_time": "2022-06-21T04:31:43.675442Z",
     "start_time": "2022-06-21T04:31:43.501003Z"
    }
   },
   "outputs": [
    {
     "data": {
      "text/plain": [
       "0.891646297091038"
      ]
     },
     "execution_count": 39,
     "metadata": {},
     "output_type": "execute_result"
    }
   ],
   "source": [
    "sum(predicts == actuals)/len(predicts)"
   ]
  },
  {
   "cell_type": "markdown",
   "id": "7122addd",
   "metadata": {},
   "source": [
    "The **89.2%** accuracy of the model predictions on the **Test Data** is nearly identical to that of the accuracy model prediction on the **Training Data.**"
   ]
  },
  {
   "cell_type": "markdown",
   "id": "ebece752",
   "metadata": {},
   "source": [
    "###  Load Model"
   ]
  },
  {
   "cell_type": "code",
   "execution_count": 33,
   "id": "66f48ce1",
   "metadata": {
    "ExecuteTime": {
     "end_time": "2022-06-21T04:18:18.639420Z",
     "start_time": "2022-06-21T04:18:04.034519Z"
    },
    "scrolled": false
   },
   "outputs": [
    {
     "data": {
      "text/html": [
       "\n",
       "<style>\n",
       "    /* Turns off some styling */\n",
       "    progress {\n",
       "        /* gets rid of default border in Firefox and Opera. */\n",
       "        border: none;\n",
       "        /* Needs to be in here for Safari polyfill so background images work as expected. */\n",
       "        background-size: auto;\n",
       "    }\n",
       "    .progress-bar-interrupted, .progress-bar-interrupted::-webkit-progress-bar {\n",
       "        background: #F44336;\n",
       "    }\n",
       "</style>\n"
      ],
      "text/plain": [
       "<IPython.core.display.HTML object>"
      ]
     },
     "metadata": {},
     "output_type": "display_data"
    },
    {
     "data": {
      "text/html": [],
      "text/plain": [
       "<IPython.core.display.HTML object>"
      ]
     },
     "metadata": {},
     "output_type": "display_data"
    },
    {
     "data": {
      "text/plain": [
       "['McConnellPress', 0.85, 0.81, 1451]"
      ]
     },
     "execution_count": 33,
     "metadata": {},
     "output_type": "execute_result"
    }
   ],
   "source": [
    "path_19 = '/home/cdaniels/fastai-projects/blue-or-red/data_full'\n",
    "ideology_score(Path(path_19)/\"McConnellPress.csv\",\"ulmfit-2022.pkl\")"
   ]
  },
  {
   "cell_type": "code",
   "execution_count": 34,
   "id": "417fb5c0",
   "metadata": {
    "ExecuteTime": {
     "end_time": "2022-06-21T04:18:25.465539Z",
     "start_time": "2022-06-21T04:18:22.908463Z"
    }
   },
   "outputs": [
    {
     "data": {
      "text/html": [
       "\n",
       "<style>\n",
       "    /* Turns off some styling */\n",
       "    progress {\n",
       "        /* gets rid of default border in Firefox and Opera. */\n",
       "        border: none;\n",
       "        /* Needs to be in here for Safari polyfill so background images work as expected. */\n",
       "        background-size: auto;\n",
       "    }\n",
       "    .progress-bar-interrupted, .progress-bar-interrupted::-webkit-progress-bar {\n",
       "        background: #F44336;\n",
       "    }\n",
       "</style>\n"
      ],
      "text/plain": [
       "<IPython.core.display.HTML object>"
      ]
     },
     "metadata": {},
     "output_type": "display_data"
    },
    {
     "data": {
      "text/html": [],
      "text/plain": [
       "<IPython.core.display.HTML object>"
      ]
     },
     "metadata": {},
     "output_type": "display_data"
    },
    {
     "data": {
      "text/plain": [
       "['McConnellPress', 1.0, 0.99, 18]"
      ]
     },
     "execution_count": 34,
     "metadata": {},
     "output_type": "execute_result"
    }
   ],
   "source": [
    "path_22 = path/'tweets'/'tweets-congress-2022-05-24'\n",
    "ideology_score(path_22/'McConnellPress.csv', \"ulmfit-2022.pkl\")"
   ]
  },
  {
   "cell_type": "code",
   "execution_count": null,
   "id": "aba70a8d",
   "metadata": {},
   "outputs": [],
   "source": []
  },
  {
   "cell_type": "code",
   "execution_count": null,
   "id": "72dccfba",
   "metadata": {},
   "outputs": [],
   "source": []
  }
 ],
 "metadata": {
  "kernelspec": {
   "display_name": "Python 3 (ipykernel)",
   "language": "python",
   "name": "python3"
  },
  "language_info": {
   "codemirror_mode": {
    "name": "ipython",
    "version": 3
   },
   "file_extension": ".py",
   "mimetype": "text/x-python",
   "name": "python",
   "nbconvert_exporter": "python",
   "pygments_lexer": "ipython3",
   "version": "3.9.13"
  },
  "varInspector": {
   "cols": {
    "lenName": 16,
    "lenType": 16,
    "lenVar": 40
   },
   "kernels_config": {
    "python": {
     "delete_cmd_postfix": "",
     "delete_cmd_prefix": "del ",
     "library": "var_list.py",
     "varRefreshCmd": "print(var_dic_list())"
    },
    "r": {
     "delete_cmd_postfix": ") ",
     "delete_cmd_prefix": "rm(",
     "library": "var_list.r",
     "varRefreshCmd": "cat(var_dic_list()) "
    }
   },
   "types_to_exclude": [
    "module",
    "function",
    "builtin_function_or_method",
    "instance",
    "_Feature"
   ],
   "window_display": false
  }
 },
 "nbformat": 4,
 "nbformat_minor": 5
}
